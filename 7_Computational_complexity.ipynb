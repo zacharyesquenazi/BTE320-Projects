{
  "cells": [
    {
      "cell_type": "markdown",
      "metadata": {
        "id": "view-in-github",
        "colab_type": "text"
      },
      "source": [
        "<a href=\"https://colab.research.google.com/github/zacharyesquenazi/BTE320-Projects/blob/main/7_Computational_complexity.ipynb\" target=\"_parent\"><img src=\"https://colab.research.google.com/assets/colab-badge.svg\" alt=\"Open In Colab\"/></a>"
      ]
    },
    {
      "cell_type": "markdown",
      "source": [
        "<p align=\"center\">\n",
        "<img src=\"https://drive.google.com/uc?id=1wOzpsuEpGRCycrLlJVUec_7uQ-ZVDtoH\" width=300/>\n",
        "</p>"
      ],
      "metadata": {
        "id": "GZk_4rV2ilRT"
      },
      "id": "GZk_4rV2ilRT"
    },
    {
      "cell_type": "markdown",
      "metadata": {
        "id": "710cc783"
      },
      "source": [
        "# Computational complexity - Sorting\n",
        "\n",
        "In this lecture we will discuss the concept of computational complexity, which is very important in the design of real-world applications.\n",
        "\n",
        "We will demonstrate this importance through describing some examples from the family of sorting algorithm.\n",
        "\n",
        "## What is complexity?\n",
        "\n",
        "*Analysis of algorithms:* study of the resources that an algorithm needs to run.\n",
        "\n",
        "Instead, *computational complexity theory* is the study of classes of problems.\n",
        "\n",
        "Complexity theory can be best described through computation problems (e.g., adding/subtracting numbers, running multiple loops).\n",
        "\n",
        "A computation problem usually takes more time as its size incrases.\n",
        "\n",
        "**Example:** Assume we perform a 1-digit addition (e.g., 3 + 4); this process takes us 1 second. By extrapolation, if we now attempt adding two 2-digit numbers (e.g., 13 + 24) it will take us 2 seconds since we need to add two pairs of single digits, thus requiring two steps (ignore the extra time to carry over).\n"
      ],
      "id": "710cc783"
    },
    {
      "cell_type": "markdown",
      "metadata": {
        "id": "ea78e606"
      },
      "source": [
        "## Measuring algorithmic efficiency with Big O notation\n",
        "\n",
        "We can express algorithmic complexity using the *big-$𝑂$* notation. This process is not affected by the underlying hardware, making it a more objective measure of calculating algorithmic complexity.\n",
        "\n",
        "For a problem of size `N`:\n",
        "\n",
        "- A constant-time function/method is “order 1” : $𝑂(1)$\n",
        "- A linear-time function/method is “order N” : $𝑂(𝑁)$\n",
        "- A quadratic-time function/method is “order N squared” : $𝑂(𝑁^2)$\n",
        "\n",
        "Continuing from the previous example, and assuming the computation efficiency does not decrease as the number of digits increases, it takes about *N* seconds to compute an *N*-digit addition.\n",
        "\n",
        "We say then that the computational complexity of this problem is **$𝑂(𝑁)$**\n",
        "- The computation time goes up *linearly* with the size of the problem.\n",
        "\n",
        "**Definition:** Let `g` and `f` be functions from the set of natural numbers to itself. The function `f` is said to be $𝑂(g)$, if there is a constant $c > 0$ and a natural number $n_0$ such that $f(n) \\le cg(n)$ for all $n \\ge n_0$.\n",
        "\n",
        "Big-$𝑂$ notation is used to compare different implementations of an algorithm and decide which is the most efficient.\n",
        "\n",
        "Assuming that *𝑁* is the size of the algorithm input, big-$𝑂$ represents relationship between *𝑁* and number of steps needed to reach the solution."
      ],
      "id": "ea78e606"
    },
    {
      "cell_type": "markdown",
      "metadata": {
        "id": "7617cc68"
      },
      "source": [
        "| Big O              \t| Complexity  \t| Description                                                                                                                                                                                                                 \t|\n",
        "|--------------------\t|-------------\t|-----------------------------------------------------------------------------------------------------------------------------------------------------------------------------------------------------------------------------\t|\n",
        "| O(1)               \t| constant    \t| Constant runtime regardless of input size                                                                                                                                     \t|\n",
        "| O(n)               \t| linear      \t| Runtime grows linearly with input size                                                                                              \t|\n",
        "| O(n<sup>2</sup>)   \t| quadratic   \t| Runtime is a quadratic function of input size                                                                 \t|\n",
        "| O(2<sup> n </sup>) \t| exponential \t| Runtime grows exponentially. Algorithms of this type are extremely inefficient                                                                                                                                   \t|\n",
        "| O(logn)            \t| logarithmic \t| Runtime grows linearly while input size grows exponentially |"
      ],
      "id": "7617cc68"
    },
    {
      "cell_type": "markdown",
      "source": [
        "## Time complexity\n",
        "\n",
        "The big-𝑂 notation denotes the upper bound of the worst case of a problem. For example, if we have a series of items that we want to sort, the big-𝑂 time complexity will depend on which algorithm we choose to sort the items.\n",
        "\n",
        "Additionally, we can consider big-𝛺 notation that designates the lower bound of the worst case computational order.\n",
        "\n",
        "Some complexity orders of common sorting algorithms:\n",
        "- Insertion sort: $𝑂(𝑁^2), 𝛺(𝑁)$\n",
        "- Mergesort: $𝑂(𝑁log(𝑁)), 𝛺(𝑁log(𝑁))$\n",
        "- Timsort: $𝑂(𝑁log(𝑁)), 𝛺(𝑁)$\n",
        "\n",
        "However, since we plan for the upper bound, we generally focus on the big-𝑂 complexity.\n",
        "\n",
        "<img src=\"https://drive.google.com/uc?id=1Pct5VkMxOkKJsL6l0Eju5k0EAdcgM5QE\" width=500/>"
      ],
      "metadata": {
        "id": "NyT71-A8aMOD"
      },
      "id": "NyT71-A8aMOD"
    },
    {
      "cell_type": "markdown",
      "source": [
        "## Complexity classes\n",
        "\n",
        "Let's now define common complexity classes from classical computing:\n",
        "- **P**: Polynomial time; Describes decision problems (problems with a “yes” or “no” answer) that are solvable in polynomial time (a.k.a. in a reasonable amount of time on a classical computer).\n",
        "  * Problems of $𝑂(1), 𝑂(log(𝑁), 𝑂(𝑁), 𝑂(𝑁log(𝑁)), 𝑂(𝑁^2)$ are considered polynomial in time.\n",
        "- **NP**: Non-deterministic polynomial time; Describes decision problems that are solvable in non-polynomial time. Factoring large numbers is considered a classic example of NP problem.\n",
        "  * **NP-complete**: a problem is NP-complete iff 1) it is NP and 2) all NP problems are polynomial-time reducible to A. If only point 2) is known, the problem is considered **NP-hard**."
      ],
      "metadata": {
        "id": "c0pf5675fK0f"
      },
      "id": "c0pf5675fK0f"
    },
    {
      "cell_type": "markdown",
      "metadata": {
        "id": "06cfb498"
      },
      "source": [
        "## Sorting algorithms: Built-in and from scratch\n",
        "\n",
        "**Important note:** The algorithms of this chapter are generally considered advanced compared to programs discussed in the course. Implementing them will **not** be asked in any exam or assignments. However, you should expect multiple choice-type questions about them on the final exam.\n",
        "\n",
        "*Python provides the built-in sorting function `sorted()`.*\n",
        "\n",
        "**Implementing sorting algorithms are among the most popular technical interview questions; if you are considering applying to positions that require Python programming experience, the algorithm implementations here is a good practice!**\n",
        "\n",
        "**Sorting** is a basic building block that many algorithms build upon.\n",
        "\n",
        "Understanding how they work on the background is necessary to implement efficient programs for real-world problems\n",
        "- *Searching:* searching for an item on a list is much faster when the list is sorted.\n",
        "- *Selection:* selecting from a list is easier with sorted data.\n",
        "- *Duplicates:* finding duplicates can be done very quickly when the list is sorted.\n",
        "- *Distribution:* finding the element that appears most or least often becomes straightforward.\n",
        "\n",
        "### Python's built-in sorting algorithm\n",
        "\n",
        "Python offers the ability of sorting data using built-in function `sorted()`:\n",
        "\n",
        "```python\n",
        "L = [8, 2, 6, 4, 5]\n",
        "sorted(L)\n",
        "```\n",
        "\n"
      ],
      "id": "06cfb498"
    },
    {
      "cell_type": "markdown",
      "source": [
        "Colab provides a very simple command that calculates the time required for a program's execution.\n",
        "\n",
        "This is the *magic command* `%timeit`\n",
        "- Time execution of a Python statement or expression.\n",
        "- Executes the given statement for `r` number of repeats, where on each one the statement is run for `N` iterations.\n",
        "- Returns the best result.\n",
        "- Values for `r` and `N` can be provided by the user, but they also take default values (all the examples from now on use the default ones)."
      ],
      "metadata": {
        "id": "MZ8foI5cpAnl"
      },
      "id": "MZ8foI5cpAnl"
    },
    {
      "cell_type": "code",
      "execution_count": null,
      "metadata": {
        "id": "7mRTU7qi2VEj"
      },
      "outputs": [],
      "source": [
        "import random\n",
        "\n",
        "L = [random.randint(0, 10000) for _ in range(int(1e7))]\n",
        "L"
      ],
      "id": "7mRTU7qi2VEj"
    },
    {
      "cell_type": "code",
      "execution_count": null,
      "metadata": {
        "colab": {
          "base_uri": "https://localhost:8080/"
        },
        "id": "QdYb6-txIfak",
        "outputId": "91c056ce-4f27-4100-84be-cc70f5c63eae"
      },
      "outputs": [
        {
          "output_type": "stream",
          "name": "stdout",
          "text": [
            "3.86 s ± 258 ms per loop (mean ± std. dev. of 7 runs, 1 loop each)\n"
          ]
        }
      ],
      "source": [
        "%timeit sorted(L)"
      ],
      "id": "QdYb6-txIfak"
    },
    {
      "cell_type": "markdown",
      "source": [
        "## Sorting algorithm examples\n",
        "\n",
        "Below we describe three popular sorting algorithms, namely *bubblesort*, *mergesort*, and *quicksort*."
      ],
      "metadata": {
        "id": "5zADiv15vn4E"
      },
      "id": "5zADiv15vn4E"
    },
    {
      "cell_type": "markdown",
      "metadata": {
        "id": "3fa94509"
      },
      "source": [
        "### Bubble Sort algorithm\n",
        "\n",
        "The first high-level sorting algorithm; easy to implement, but becomes very slow for very large inputs.\n",
        "\n",
        "With every new pass, the smallest/largest element of the input object (usually a list) \"bubbles down/up\" towards its correct position.\n",
        "- Depends if we sort incrementally or not.\n",
        "\n",
        "The process makes multiple passes through the input, compares elements 1-by-1, swapping adjacent items that are out of order, until no swaps are necessary."
      ],
      "id": "3fa94509"
    },
    {
      "cell_type": "code",
      "execution_count": null,
      "metadata": {
        "colab": {
          "base_uri": "https://localhost:8080/"
        },
        "id": "8ecf1e15",
        "outputId": "f12c2a87-07f3-44dd-8fbb-5a2b06515b54"
      },
      "outputs": [
        {
          "output_type": "stream",
          "name": "stdout",
          "text": [
            "['a', 'f', 'd', 'b', 'g']\n",
            "['a', 'd', 'f', 'b', 'g']\n",
            "['a', 'd', 'b', 'f', 'g']\n",
            "['a', 'd', 'b', 'f', 'g']\n",
            "\n",
            "['a', 'd', 'b', 'f', 'g']\n",
            "['a', 'b', 'd', 'f', 'g']\n",
            "['a', 'b', 'd', 'f', 'g']\n",
            "\n",
            "['a', 'b', 'd', 'f', 'g']\n",
            "['a', 'b', 'd', 'f', 'g']\n"
          ]
        },
        {
          "output_type": "execute_result",
          "data": {
            "text/plain": [
              "['a', 'b', 'd', 'f', 'g']"
            ]
          },
          "metadata": {},
          "execution_count": 1
        }
      ],
      "source": [
        "def bubble_sort(array):\n",
        "    n = len(array)\n",
        "\n",
        "    for i in range(n):\n",
        "        already_sorted = True\n",
        "\n",
        "        for j in range(n-i-1):\n",
        "            if array[j] > array[j+1]:\n",
        "                array[j], array[j+1] = array[j+1], array[j]\n",
        "                already_sorted = False\n",
        "\n",
        "            print(array)\n",
        "        if already_sorted:\n",
        "            break\n",
        "        print()\n",
        "    return array\n",
        "\n",
        "bubble_sort(['f','a','d','b','g'])"
      ],
      "id": "8ecf1e15"
    },
    {
      "cell_type": "markdown",
      "metadata": {
        "id": "a8efad37"
      },
      "source": [
        "<img src=\"https://drive.google.com/uc?id=13xFYlhFa_Xn4Ktrb0ycZa_f69RLPmbP6\" width=300/>\n"
      ],
      "id": "a8efad37"
    },
    {
      "cell_type": "markdown",
      "metadata": {
        "id": "49e0d86d"
      },
      "source": [
        "## Measuring Bubble Sort's complexity\n",
        "\n",
        "The algorithm consists of two nested `for-loops`.\n",
        "- Performs *n-1* comparisons, then *n-2* comparisons, ...\n",
        "\n",
        "Total number of comparisons: $(n-1) + (n-2) + ... + 2 + 1 = \\frac{n(n-1)}{2} == \\frac{n^2 - n}{2}$.\n",
        "\n",
        "Removing the constant part (since it won't change with input size) and $n$ since it grows slower than $n^2$:\n",
        "- Complexity of $O(n^2)$\n",
        "\n",
        "Let's time it:"
      ],
      "id": "49e0d86d"
    },
    {
      "cell_type": "code",
      "execution_count": null,
      "metadata": {
        "id": "d845f48e"
      },
      "outputs": [],
      "source": [
        "def bubble_sort(array):\n",
        "    n = len(array)\n",
        "\n",
        "    for i in range(n):\n",
        "        already_sorted = True\n",
        "\n",
        "        for j in range(n-i-1):\n",
        "            if array[j] > array[j+1]:\n",
        "                array[j], array[j+1] = array[j+1], array[j]\n",
        "                already_sorted = False\n",
        "\n",
        "        if already_sorted:\n",
        "            break\n",
        "\n",
        "    return array\n"
      ],
      "id": "d845f48e"
    },
    {
      "cell_type": "code",
      "execution_count": null,
      "metadata": {
        "id": "CpNNW3FSVYkw"
      },
      "outputs": [],
      "source": [
        "import random\n",
        "\n",
        "L = [random.randint(0, 10000) for _ in range(int(1e5))]\n",
        "%timeit bubble_sort(L)"
      ],
      "id": "CpNNW3FSVYkw"
    },
    {
      "cell_type": "markdown",
      "metadata": {
        "id": "4693197d"
      },
      "source": [
        "## Advantages and Disadvantages of Bubble Sort\n",
        "\n",
        "- Very simple to implement and easy to use.\n",
        "- Tends to become very slow for large inputs."
      ],
      "id": "4693197d"
    },
    {
      "cell_type": "markdown",
      "metadata": {
        "id": "e26e5512"
      },
      "source": [
        "## Merge Sort algorithm\n",
        "\n",
        "Very efficient algorithm, much faster than bubblesort, especially for large inputs.\n",
        "\n",
        "Follows a divide-and-conquer approach:\n",
        "- Original input broken to smaller subproblems, each of which similar to original but smaller.\n",
        "- The splitting process repeats until we end up with a number of sorting subproblems where each one corresponds to an empty, or single-valued list.\n",
        "  * The sorting process at this point becomes trivial.\n",
        "  * After all those elementary lists are sorted, the results are propagated upwards, where those lists are concatenated by pairs, and the sorting process repeats.\n",
        "- The algorithm proceeds **recursively**\n",
        "- Subproblem solutions are eventually combined into a single overall solution.\n"
      ],
      "id": "e26e5512"
    },
    {
      "cell_type": "code",
      "execution_count": null,
      "metadata": {
        "colab": {
          "base_uri": "https://localhost:8080/"
        },
        "id": "5e33673c",
        "outputId": "666c6cec-7603-42e6-cd2e-e7db0aa64891"
      },
      "outputs": [
        {
          "output_type": "stream",
          "name": "stdout",
          "text": [
            "Splits:  [8, 2] [6, 4, 5]\n",
            "Splits:  [8] [2]\n",
            "Left:  [8] \t Right:  [2]\n",
            "Result:  [2, 8]\n",
            "Splits:  [6] [4, 5]\n",
            "Splits:  [4] [5]\n",
            "Left:  [4] \t Right:  [5]\n",
            "Result:  [4, 5]\n",
            "Left:  [6] \t Right:  [4, 5]\n",
            "Result:  [4, 5, 6]\n",
            "Left:  [2, 8] \t Right:  [4, 5, 6]\n",
            "Result:  [2, 4, 5, 6, 8]\n"
          ]
        },
        {
          "output_type": "execute_result",
          "data": {
            "text/plain": [
              "[2, 4, 5, 6, 8]"
            ]
          },
          "metadata": {},
          "execution_count": 5
        }
      ],
      "source": [
        "def merge(left, right):\n",
        "  print('Left: ',left, '\\t','Right: ', right)\n",
        "\n",
        "  if len(left) == 0:\n",
        "      return right\n",
        "\n",
        "  if len(right) == 0:\n",
        "      return left\n",
        "\n",
        "  result = []\n",
        "  index_left = index_right = 0\n",
        "\n",
        "  while len(result) < len(left) + len(right):\n",
        "      if left[index_left] <= right[index_right]:\n",
        "          result.append(left[index_left])\n",
        "          index_left += 1\n",
        "      else:\n",
        "          result.append(right[index_right])\n",
        "          index_right += 1\n",
        "\n",
        "      if index_right == len(right):\n",
        "          result += left[index_left:]\n",
        "          break\n",
        "\n",
        "      if index_left == len(left):\n",
        "          result += right[index_right:]\n",
        "          break\n",
        "  print('Result: ', result)\n",
        "  return result\n",
        "\n",
        "def merge_sort(array):\n",
        "\n",
        "    if len(array) < 2:\n",
        "        return array\n",
        "    else:\n",
        "      midpoint = len(array) // 2\n",
        "\n",
        "      print('Splits: ',array[:midpoint], array[midpoint:])\n",
        "      return merge(\n",
        "          left=merge_sort(array[:midpoint]),\n",
        "          right=merge_sort(array[midpoint:])\n",
        "      )\n",
        "\n",
        "merge_sort([8, 2, 6, 4, 5])"
      ],
      "id": "5e33673c"
    },
    {
      "cell_type": "markdown",
      "source": [
        "Using `%timeit`, we see that mergesort is much faster than bubblesort for large inputs.\n",
        "\n",
        "However, due to its recursive nature it tends to perform slower than bubblesort for small inputs."
      ],
      "metadata": {
        "id": "SzDamV9X3Ef8"
      },
      "id": "SzDamV9X3Ef8"
    },
    {
      "cell_type": "code",
      "execution_count": null,
      "metadata": {
        "colab": {
          "base_uri": "https://localhost:8080/"
        },
        "id": "GRXfj67raT5P",
        "outputId": "5c564c70-f831-47d8-f281-65f5eec96ad5"
      },
      "outputs": [
        {
          "name": "stdout",
          "output_type": "stream",
          "text": [
            "786 ms ± 28.8 ms per loop (mean ± std. dev. of 7 runs, 1 loop each)\n"
          ]
        }
      ],
      "source": [
        "%timeit merge_sort(L)"
      ],
      "id": "GRXfj67raT5P"
    },
    {
      "cell_type": "markdown",
      "metadata": {
        "id": "37879647"
      },
      "source": [
        "<img src=\"https://drive.google.com/uc?id=16iXTAPS_1usb0Qxh9pZWysHGzpMJnAyv\" width=600/>\n"
      ],
      "id": "37879647"
    },
    {
      "cell_type": "markdown",
      "metadata": {
        "id": "95a8b6f1"
      },
      "source": [
        "## Advantages and Disadvantages of Merge Sort\n",
        "\n",
        "- Runtime complexity: $O(nlog_2 n) \\rightarrow$ very efficient!\n",
        "- Parallelizes the process through recursion.\n",
        "- Not good for small examples.\n",
        "- Uses lots of memory."
      ],
      "id": "95a8b6f1"
    },
    {
      "cell_type": "markdown",
      "metadata": {
        "id": "e8a594cb"
      },
      "source": [
        "## Quick Sort algorithm\n",
        "\n",
        "Another efficient sorting algorithm that also applies divide-and-conquer.\n",
        "- Hence, quicksort is recursive as well.\n",
        "\n",
        "Quicksort first chooses randomly a value from the input and then splits it into two sub-arrays: the first contains the items smaller than the chosen value, whereas the second contains the items larger than the chosen value. It then sorts both sub-arrays recursively until final list is completely sorted.\n",
        "\n",
        "Dividing the list is referred to as **partitioning**\n",
        "- First, selects a `pivot` element, partitions the list around it in `low` and `high` arrays.\n",
        "- Puts every element from `low` list to the left, and from `high` to the right of `pivot`.\n",
        "- Same process is applied to `low` and `high` until the list is sorted."
      ],
      "id": "e8a594cb"
    },
    {
      "cell_type": "code",
      "execution_count": null,
      "metadata": {
        "id": "cafa4461",
        "outputId": "d51f37eb-f9c4-40d3-ad19-0d02f5f41ce2"
      },
      "outputs": [
        {
          "data": {
            "text/plain": [
              "[2, 4, 5, 6, 8]"
            ]
          },
          "execution_count": 19,
          "metadata": {},
          "output_type": "execute_result"
        }
      ],
      "source": [
        "from random import randint\n",
        "\n",
        "def quicksort(array):\n",
        "    if len(array) < 2:\n",
        "        return array\n",
        "    else:\n",
        "      low, same, high = [], [], []\n",
        "\n",
        "      pivot = array[randint(0, len(array) - 1)]\n",
        "\n",
        "      for item in array:\n",
        "          if item < pivot:\n",
        "              low.append(item)\n",
        "          elif item == pivot:\n",
        "              same.append(item)\n",
        "          elif item > pivot:\n",
        "              high.append(item)\n",
        "\n",
        "      return quicksort(low) + same + quicksort(high)\n",
        "\n",
        "quicksort([8, 2, 6, 4, 5])"
      ],
      "id": "cafa4461"
    },
    {
      "cell_type": "markdown",
      "metadata": {
        "id": "cbf47891"
      },
      "source": [
        "<img src=\"https://drive.google.com/uc?id=1ca6moLmxhiWhu5URINfgQZQATkrDS4it\" width=600/>\n"
      ],
      "id": "cbf47891"
    },
    {
      "cell_type": "code",
      "execution_count": null,
      "metadata": {
        "id": "57a6411f",
        "outputId": "91fdb466-887a-4bb8-f6eb-a7e6edbb21d3"
      },
      "outputs": [
        {
          "name": "stdout",
          "output_type": "stream",
          "text": [
            "Algorithm: quicksort. Minimum execution time: 0.14572162500007835\n"
          ]
        }
      ],
      "source": [
        "ARRAY_LENGTH = 10000\n",
        "\n",
        "if __name__ == \"__main__\":\n",
        "    array = [randint(0, 1000) for i in range(ARRAY_LENGTH)]\n",
        "\n",
        "    run_sorting_algorithm(algorithm=\"quicksort\", array=array)"
      ],
      "id": "57a6411f"
    },
    {
      "cell_type": "markdown",
      "metadata": {
        "id": "97265651"
      },
      "source": [
        "## Advantages and Disadvantages of Quick Sort\n",
        "\n",
        "- Quite a *fast* sorting algorithm.\n",
        "- Like merge sort, it parallelizes the process through recursion.\n",
        "- Trades off memory for speed.\n",
        "\n",
        "\n",
        "**Comments on sorting in Python**\n",
        "\n",
        "Built-in function `sorted()` implements the *timsort* algorithm. This is a hybrid, stable sorting algorithm, derived from mergesort and insertionsort, designed to perform well on many kinds of real-world data. It was implemented by Tim Peters in 2002 for use in the Python programming language."
      ],
      "id": "97265651"
    },
    {
      "cell_type": "code",
      "execution_count": 10,
      "metadata": {
        "id": "1134c046",
        "colab": {
          "base_uri": "https://localhost:8080/"
        },
        "outputId": "913fc2c4-f40d-4e81-f08d-af4ebabe6cf9"
      },
      "outputs": [
        {
          "output_type": "stream",
          "name": "stdout",
          "text": [
            "5\n",
            "4\n",
            "3\n",
            "2\n",
            "1\n",
            "0\n"
          ]
        }
      ],
      "source": [
        "def countdown(n):\n",
        "  for i in range(n,-1,-1):\n",
        "    print(i)\n",
        "\n",
        "countdown(5)"
      ],
      "id": "1134c046"
    },
    {
      "cell_type": "code",
      "source": [
        "def recursive_countdown(n):\n",
        "  if n== 0:\n",
        "    print(0)\n",
        "  else:\n",
        "    print(n)\n",
        "    recursive_countdown(n-1)\n",
        "\n",
        "recursive_countdown(5)"
      ],
      "metadata": {
        "colab": {
          "base_uri": "https://localhost:8080/"
        },
        "id": "Lo2SiIOtAyfa",
        "outputId": "73228863-ab03-41fe-f82f-747aad5f7295"
      },
      "id": "Lo2SiIOtAyfa",
      "execution_count": 9,
      "outputs": [
        {
          "output_type": "stream",
          "name": "stdout",
          "text": [
            "5\n",
            "4\n",
            "3\n",
            "2\n",
            "1\n",
            "0\n"
          ]
        }
      ]
    },
    {
      "cell_type": "code",
      "source": [
        "def recursive_countdown(n):\n",
        "  if n> 0:\n",
        "    print(n)\n",
        "    recursive_countdown(n-1)\n",
        "  else:\n",
        "    print(0)\n",
        "\n",
        "recursive_countdown(5)"
      ],
      "metadata": {
        "colab": {
          "base_uri": "https://localhost:8080/"
        },
        "id": "lc7FMGGqAyyr",
        "outputId": "d129d4d1-8fb6-4b52-d3cf-44faef799402"
      },
      "id": "lc7FMGGqAyyr",
      "execution_count": 8,
      "outputs": [
        {
          "output_type": "stream",
          "name": "stdout",
          "text": [
            "5\n",
            "4\n",
            "3\n",
            "2\n",
            "1\n",
            "0\n"
          ]
        }
      ]
    },
    {
      "cell_type": "code",
      "source": [
        "def summation(n):\n",
        "  s = 0\n",
        "  while n>= 0:\n",
        "    s = s+n\n",
        "    n = n-1\n",
        "\n",
        "  return s\n",
        "\n",
        "summation(6)"
      ],
      "metadata": {
        "colab": {
          "base_uri": "https://localhost:8080/"
        },
        "id": "mrqCuUBwAy1b",
        "outputId": "f63db738-02b3-4ac5-fa30-f1587531da2b"
      },
      "id": "mrqCuUBwAy1b",
      "execution_count": 7,
      "outputs": [
        {
          "output_type": "execute_result",
          "data": {
            "text/plain": [
              "21"
            ]
          },
          "metadata": {},
          "execution_count": 7
        }
      ]
    },
    {
      "cell_type": "code",
      "source": [
        "def recursive_summation(n):\n",
        "  if n== 0:\n",
        "    return(0)\n",
        "\n",
        "  else:\n",
        "    return n + recursive_summation(n-1)\n",
        "\n",
        "recursive_summation(3)\n"
      ],
      "metadata": {
        "colab": {
          "base_uri": "https://localhost:8080/"
        },
        "id": "f-fIqJm1A7oh",
        "outputId": "5180cbc3-39e7-4371-aba1-b969d3d4dcda"
      },
      "id": "f-fIqJm1A7oh",
      "execution_count": 6,
      "outputs": [
        {
          "output_type": "execute_result",
          "data": {
            "text/plain": [
              "6"
            ]
          },
          "metadata": {},
          "execution_count": 6
        }
      ]
    },
    {
      "cell_type": "code",
      "source": [
        "def factR(n):\n",
        "    if n == 0:\n",
        "        return 1\n",
        "    else:\n",
        "        return n * factR(n-1)\n",
        "\n",
        "factR(5)"
      ],
      "metadata": {
        "colab": {
          "base_uri": "https://localhost:8080/"
        },
        "id": "2A3_GBkHA7wI",
        "outputId": "e57d258c-7b7c-4ebd-fc98-0bd8a3fb034b"
      },
      "id": "2A3_GBkHA7wI",
      "execution_count": 5,
      "outputs": [
        {
          "output_type": "execute_result",
          "data": {
            "text/plain": [
              "120"
            ]
          },
          "metadata": {},
          "execution_count": 5
        }
      ]
    },
    {
      "cell_type": "code",
      "source": [
        "def factR(n):\n",
        "  if n> 0:\n",
        "    return n * factR(n-1)\n",
        "  else:\n",
        "    return 1\n",
        "\n",
        "factR(5)"
      ],
      "metadata": {
        "colab": {
          "base_uri": "https://localhost:8080/"
        },
        "id": "4NtKhkQmA72X",
        "outputId": "9bf05859-3442-4082-c126-f8b05b9d6f96"
      },
      "id": "4NtKhkQmA72X",
      "execution_count": 4,
      "outputs": [
        {
          "output_type": "execute_result",
          "data": {
            "text/plain": [
              "120"
            ]
          },
          "metadata": {},
          "execution_count": 4
        }
      ]
    },
    {
      "cell_type": "code",
      "source": [
        "def fibR(n):\n",
        "    if n == 0 or n == 1:\n",
        "        return 1\n",
        "    else:\n",
        "        return fibR(n - 1) + fibR(n - 2)\n",
        "\n",
        "for i in range(8):\n",
        "  print(fibR(i), end= ',')\n"
      ],
      "metadata": {
        "colab": {
          "base_uri": "https://localhost:8080/"
        },
        "id": "JSF7669qBAGR",
        "outputId": "df687ee0-d169-4dd6-d133-300d7f1d18b6"
      },
      "id": "JSF7669qBAGR",
      "execution_count": 3,
      "outputs": [
        {
          "output_type": "stream",
          "name": "stdout",
          "text": [
            "1,1,2,3,5,8,13,21,"
          ]
        }
      ]
    },
    {
      "cell_type": "code",
      "source": [
        "def mirrorString(s):\n",
        "  if len(s)==1:\n",
        "    return s\n",
        "  else:\n",
        "    return s[-1] + mirrorString(s[:-1])\n",
        "\n",
        "mirrorString('Goodbye')\n"
      ],
      "metadata": {
        "colab": {
          "base_uri": "https://localhost:8080/",
          "height": 35
        },
        "id": "Q9Je50qiBAI4",
        "outputId": "b0b28615-1346-4f0b-8928-f495fd5677d7"
      },
      "id": "Q9Je50qiBAI4",
      "execution_count": 2,
      "outputs": [
        {
          "output_type": "execute_result",
          "data": {
            "text/plain": [
              "'eybdooG'"
            ],
            "application/vnd.google.colaboratory.intrinsic+json": {
              "type": "string"
            }
          },
          "metadata": {},
          "execution_count": 2
        }
      ]
    },
    {
      "cell_type": "code",
      "source": [
        "def quickSort(alist):\n",
        "  if len(alist) <2:\n",
        "    return alist\n",
        "  else:\n",
        "    low, same, high = [], [], []\n",
        "\n",
        "    pivotIndex = len(alist)// 2 #np.random.randint(0,len(alist)-1)\n",
        "\n",
        "    for item in alist:\n",
        "      if item < alist[pivotIndex]:\n",
        "        low.append(item)\n",
        "      elif item == alist[pivotIndex]:\n",
        "        same.append(item)\n",
        "      else:\n",
        "        high.append(item)\n",
        "\n",
        "    return quickSort(low) + same +quickSort(high)\n",
        "\n",
        "quickSort([8,2,5,3,6,1])\n"
      ],
      "metadata": {
        "colab": {
          "base_uri": "https://localhost:8080/"
        },
        "id": "csOH3Ho5BALR",
        "outputId": "ecfc780d-1bc2-4b45-de60-4c886d81f1e0"
      },
      "id": "csOH3Ho5BALR",
      "execution_count": 1,
      "outputs": [
        {
          "output_type": "execute_result",
          "data": {
            "text/plain": [
              "[1, 2, 3, 5, 6, 8]"
            ]
          },
          "metadata": {},
          "execution_count": 1
        }
      ]
    }
  ],
  "metadata": {
    "celltoolbar": "Slideshow",
    "colab": {
      "provenance": [],
      "include_colab_link": true
    },
    "kernelspec": {
      "display_name": "Python 3 (ipykernel)",
      "language": "python",
      "name": "python3"
    },
    "language_info": {
      "codemirror_mode": {
        "name": "ipython",
        "version": 3
      },
      "file_extension": ".py",
      "mimetype": "text/x-python",
      "name": "python",
      "nbconvert_exporter": "python",
      "pygments_lexer": "ipython3",
      "version": "3.8.2"
    }
  },
  "nbformat": 4,
  "nbformat_minor": 5
}