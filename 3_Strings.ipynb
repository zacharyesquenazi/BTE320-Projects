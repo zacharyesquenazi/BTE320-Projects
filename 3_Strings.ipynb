{
  "cells": [
    {
      "cell_type": "markdown",
      "metadata": {
        "id": "view-in-github",
        "colab_type": "text"
      },
      "source": [
        "<a href=\"https://colab.research.google.com/github/zacharyesquenazi/BTE320-Projects/blob/main/3_Strings.ipynb\" target=\"_parent\"><img src=\"https://colab.research.google.com/assets/colab-badge.svg\" alt=\"Open In Colab\"/></a>"
      ]
    },
    {
      "cell_type": "code",
      "execution_count": null,
      "metadata": {
        "id": "U-uH6ZKt3ZEx",
        "colab": {
          "base_uri": "https://localhost:8080/"
        },
        "outputId": "d96df5bb-f8dc-474a-81c3-0cb44e350508"
      },
      "outputs": [
        {
          "output_type": "stream",
          "name": "stdout",
          "text": [
            "/bin/bash: line 1: jt: command not found\n"
          ]
        }
      ],
      "source": [
        "!jt -t grade3 -tf merriserif -tfs 14 -nf ptsans -nfs 16"
      ]
    },
    {
      "cell_type": "markdown",
      "metadata": {
        "id": "kpU6GhlQ3ZE1"
      },
      "source": [
        "# Strings - `Input()` function\n",
        "\n",
        "In this lecture, we will introduce ourselves in the first of the Python-native complex objects, strings.\n",
        "\n",
        "We have already seen strings when discussing about function `print()`. Now is the time to go a bit deeper and see how can we work with them, and manipulate them.\n",
        "\n",
        "Many of the techniques discussed in this chapter can be used in exact the same way for other complex objects, like tuples, lists, and dictionaries.\n",
        "\n",
        "Except strings, we will also discuss another built-in function that we used in examples before. This is the `input()` function that allows the user to give input values to variables directly from the keyboard."
      ]
    },
    {
      "cell_type": "markdown",
      "metadata": {
        "id": "fFh0VdFE3ZE2"
      },
      "source": [
        "## Strings\n",
        "\n",
        "- As we saw before, objects of type `str` represent characters\n",
        "- Character objects can be written either using single (`'abc'`), or double quotes (`\"abc\"`), but not by combining them.\n",
        "\n",
        "Quick test: `'123'` is character or number?"
      ]
    },
    {
      "cell_type": "markdown",
      "metadata": {
        "id": "dLFj_RgG3ZE3"
      },
      "source": [
        "## Overloaded operators: How to apply mathematical operators on non-numerical objects\n",
        "\n",
        "Strings can be manipulated similar to numerical objects in many ways.\n",
        "- Specifically, we can add strings together or multiply strings with integers.\n",
        "- Strings in Python are **immutable**: Once created, we cannot manipulate them by substituting letters, or substrings, with new ones.\n",
        "\n",
        "Regarding the former, the common numerical operators (`+`, `*`) can be used in strings too, under certain conditions:\n",
        "- These common operators have different meaning depending on the objects they are applied upon\n",
        "    - `+` means addition when objects are both numbers, or concatenation when objects are strings\n",
        "        * Example: `3 + 4 = 7`, `'a' + 'a' = 'aa'`\n",
        "        * Adding a string with a non-string object is **not** allowed: `'a' + 3` will return a type error.\n",
        "    - `*` mean multiplication for number objects, repetition when applied to an `int` and a `str`\n",
        "        * Expression `n*s`, with `n` an `int` and `s` a `str` returns a `str` with `s` repeated `n` times.\n",
        "        * Example: expression `3*'a'` returns a string of characters `a` repeated three times\n",
        "        * multiplying strings with strings is **not** allowed: `'a'*'a'` will return a type error"
      ]
    },
    {
      "cell_type": "code",
      "source": [
        "a = 4\n",
        "a*'a'"
      ],
      "metadata": {
        "id": "KkIMi3ZthsT1",
        "colab": {
          "base_uri": "https://localhost:8080/",
          "height": 35
        },
        "outputId": "10bd3f45-a25c-4539-a4fd-f1999cdb2b27"
      },
      "execution_count": null,
      "outputs": [
        {
          "output_type": "execute_result",
          "data": {
            "text/plain": [
              "'aaaa'"
            ],
            "application/vnd.google.colaboratory.intrinsic+json": {
              "type": "string"
            }
          },
          "metadata": {},
          "execution_count": 4
        }
      ]
    },
    {
      "cell_type": "markdown",
      "metadata": {
        "id": "eGkb1foR3ZE3"
      },
      "source": [
        "Python uses **type checking** to warn us of those errors\n",
        "- They capture errors that might not be obvious while writing code\n",
        "- Example: what '4' < 3 will return?\n",
        "\n",
        "Let's see below some examples of applying those operators on strings:"
      ]
    },
    {
      "cell_type": "code",
      "execution_count": null,
      "metadata": {
        "id": "fRdXAD7m3ZE4",
        "colab": {
          "base_uri": "https://localhost:8080/",
          "height": 269
        },
        "outputId": "5bb1acf0-bfb3-4869-953e-77da38a42bd3"
      },
      "outputs": [
        {
          "output_type": "stream",
          "name": "stdout",
          "text": [
            "a\n",
            "12\n",
            "aaa\n",
            "7\n",
            "aa\n"
          ]
        },
        {
          "output_type": "error",
          "ename": "TypeError",
          "evalue": "can't multiply sequence by non-int of type 'str'",
          "traceback": [
            "\u001b[0;31m---------------------------------------------------------------------------\u001b[0m",
            "\u001b[0;31mTypeError\u001b[0m                                 Traceback (most recent call last)",
            "\u001b[0;32m<ipython-input-5-bf49b7387479>\u001b[0m in \u001b[0;36m<cell line: 7>\u001b[0;34m()\u001b[0m\n\u001b[1;32m      5\u001b[0m \u001b[0mprint\u001b[0m\u001b[0;34m(\u001b[0m\u001b[0;34m'a'\u001b[0m\u001b[0;34m+\u001b[0m\u001b[0;34m'a'\u001b[0m\u001b[0;34m)\u001b[0m\u001b[0;34m\u001b[0m\u001b[0;34m\u001b[0m\u001b[0m\n\u001b[1;32m      6\u001b[0m \u001b[0;34m\u001b[0m\u001b[0m\n\u001b[0;32m----> 7\u001b[0;31m \u001b[0mprint\u001b[0m\u001b[0;34m(\u001b[0m\u001b[0;34m'a'\u001b[0m\u001b[0;34m*\u001b[0m\u001b[0;34m'a'\u001b[0m\u001b[0;34m)\u001b[0m\u001b[0;34m\u001b[0m\u001b[0;34m\u001b[0m\u001b[0m\n\u001b[0m",
            "\u001b[0;31mTypeError\u001b[0m: can't multiply sequence by non-int of type 'str'"
          ]
        }
      ],
      "source": [
        "print('a')\n",
        "print(3*4)\n",
        "print(3*'a')\n",
        "print(3+4)\n",
        "print('a'+'a')\n",
        "\n",
        "print('a'*'a')"
      ]
    },
    {
      "cell_type": "markdown",
      "metadata": {
        "id": "-GbJIdvQ3ZE5"
      },
      "source": [
        "In general, there are three main operations we can perform with strings:\n",
        "* find their length,\n",
        "* access a single character using its *index*, and\n",
        "* access a substring.\n",
        "\n",
        "These operations can be used on tuples and lists as well, so make sure you understand how they work.\n",
        "\n",
        "<img src=\"https://drive.google.com/uc?id=1qtJBaJmsJomSkMtqpjrg4KjfZGuRdfM_\" width=800/>\n"
      ]
    },
    {
      "cell_type": "markdown",
      "metadata": {
        "id": "iX53FSSO3ZE6"
      },
      "source": [
        "### Indexing\n",
        "\n",
        "Before going into detail on those operations, we need to clarify the concept of *enumeration*.\n",
        "\n",
        "In Python, enumeration **always** starts from 0. Hence, for string `\"Hello world\"`, letter `H` will have index 0, `e` will have index 1, and so on.\n",
        "\n",
        "In the previous lecture we discussed function `range()`:\n",
        "- `range(3)` returns `0, 1, 2`, hence three numbers in total.\n",
        "- Indexing follows the same logic. For example, for a string of length 5, the indexes associated with it are `0, 1, 2, 3, 4`\n",
        "\n",
        "Let's see how those apply to the aforementioned operations.\n",
        "\n",
        "\n",
        "1. *Length*: `len('abc')` returns 3\n",
        "2. *Indexing*: `'abc'[0]` returns `'a'`, `'abc'[3]` returns an index error\n",
        "    * We are also allowd to use negative values to index beginning from the end of the string\n",
        "    * Example: `'abc'[-1]` returns `c`\n",
        "    <img src=\"https://drive.google.com/uc?id=1M_NftWz5o_xSdI7aSWqmtQikHa1MhFNe\" width=800/>\n",
        "3. *Slicing*: Used to access parts of sequences like lists, tuples, and strings. For a string `s`, `s[start:end]` returns a partial string starting from index `start` and ending on `end-1`\n",
        "    * Example: `'abc'[1:3]` returns `bc`\n",
        "    * Q: What does `'abc'[0:len('abc')]` returns?\n",
        "    * Slicing process shows many similarities to how function `range()` works, using the same keywords. However, it is rare to use `step`, so it is usually omitted."
      ]
    },
    {
      "cell_type": "code",
      "source": [
        "'abc'[1:3]"
      ],
      "metadata": {
        "colab": {
          "base_uri": "https://localhost:8080/",
          "height": 35
        },
        "id": "RghfTopfoziG",
        "outputId": "d46ec61a-24d5-4c8e-e1c8-a5922bafc4b6"
      },
      "execution_count": null,
      "outputs": [
        {
          "output_type": "execute_result",
          "data": {
            "text/plain": [
              "'bc'"
            ],
            "application/vnd.google.colaboratory.intrinsic+json": {
              "type": "string"
            }
          },
          "metadata": {},
          "execution_count": 11
        }
      ]
    },
    {
      "cell_type": "code",
      "source": [
        "'abc'[0:len('abc')]"
      ],
      "metadata": {
        "colab": {
          "base_uri": "https://localhost:8080/",
          "height": 35
        },
        "id": "OfaX7ByJo7CB",
        "outputId": "6d34c1c0-17b4-4cf7-e129-71ae2fd86484"
      },
      "execution_count": null,
      "outputs": [
        {
          "output_type": "execute_result",
          "data": {
            "text/plain": [
              "'abc'"
            ],
            "application/vnd.google.colaboratory.intrinsic+json": {
              "type": "string"
            }
          },
          "metadata": {},
          "execution_count": 8
        }
      ]
    },
    {
      "cell_type": "markdown",
      "metadata": {
        "id": "BDM_fIro3ZE6"
      },
      "source": [
        "- `'abc'[:2]` is equivalent to `'abc'[0:2]`, `'abc'[1:]` is equivalent to `'abc'[1:len('abc')]`\n",
        "- `'abc'[:]` is equivalent to `'abc'[0:len('abc')]`\n",
        "- Use a third step argument to select indices every step values:\n",
        "    * `'123456789'[0:8:2]` returns `1357`"
      ]
    },
    {
      "cell_type": "code",
      "source": [
        "'abc'[1:]"
      ],
      "metadata": {
        "colab": {
          "base_uri": "https://localhost:8080/",
          "height": 35
        },
        "id": "XBGPgKi4pLra",
        "outputId": "7f1a974f-8325-4630-b1e4-a5ef79d63dc3"
      },
      "execution_count": null,
      "outputs": [
        {
          "output_type": "execute_result",
          "data": {
            "text/plain": [
              "'bc'"
            ],
            "application/vnd.google.colaboratory.intrinsic+json": {
              "type": "string"
            }
          },
          "metadata": {},
          "execution_count": 12
        }
      ]
    },
    {
      "cell_type": "code",
      "source": [
        "'abc'[1:len('abc')]"
      ],
      "metadata": {
        "colab": {
          "base_uri": "https://localhost:8080/",
          "height": 35
        },
        "id": "H-44eE-OpRB7",
        "outputId": "c546b357-76f6-4d0c-bfc9-b9e894393c87"
      },
      "execution_count": null,
      "outputs": [
        {
          "output_type": "execute_result",
          "data": {
            "text/plain": [
              "'bc'"
            ],
            "application/vnd.google.colaboratory.intrinsic+json": {
              "type": "string"
            }
          },
          "metadata": {},
          "execution_count": 13
        }
      ]
    },
    {
      "cell_type": "code",
      "source": [
        "'abc'[:]"
      ],
      "metadata": {
        "colab": {
          "base_uri": "https://localhost:8080/",
          "height": 35
        },
        "id": "pVBSU62ypSfQ",
        "outputId": "0dd19e1e-e618-44bd-db61-7e9407da923a"
      },
      "execution_count": null,
      "outputs": [
        {
          "output_type": "execute_result",
          "data": {
            "text/plain": [
              "'abc'"
            ],
            "application/vnd.google.colaboratory.intrinsic+json": {
              "type": "string"
            }
          },
          "metadata": {},
          "execution_count": 19
        }
      ]
    },
    {
      "cell_type": "code",
      "source": [
        "'abc'[0:len('abc')]"
      ],
      "metadata": {
        "colab": {
          "base_uri": "https://localhost:8080/",
          "height": 35
        },
        "id": "olbHMJxNpete",
        "outputId": "4a6c1874-dbb0-4866-f987-e039761d1810"
      },
      "execution_count": null,
      "outputs": [
        {
          "output_type": "execute_result",
          "data": {
            "text/plain": [
              "'abc'"
            ],
            "application/vnd.google.colaboratory.intrinsic+json": {
              "type": "string"
            }
          },
          "metadata": {},
          "execution_count": 18
        }
      ]
    },
    {
      "cell_type": "code",
      "source": [
        "s = 'This is a string'\n",
        "print(s[15], s[len(s) - 1], s[-1])"
      ],
      "metadata": {
        "id": "2d9QeoOzykNW",
        "colab": {
          "base_uri": "https://localhost:8080/"
        },
        "outputId": "2eac21fa-824b-4707-abf9-301ca7851f98"
      },
      "execution_count": null,
      "outputs": [
        {
          "output_type": "stream",
          "name": "stdout",
          "text": [
            "g g g\n"
          ]
        }
      ]
    },
    {
      "cell_type": "markdown",
      "metadata": {
        "id": "A63NCg2_3ZE7"
      },
      "source": [
        "We can also define *empty* strings when necessary.\n",
        "\n",
        "For example, if you want to create a new string using iterative branching, then the first thing you should do is define an empty string that will populate during iterations:\n",
        "\n",
        "```python\n",
        "# Initial (empty) string\n",
        "s = ''\n",
        "\n",
        "for _ in range(5):\n",
        "    s += 'a'\n",
        "print(s)\n",
        "# prints out 'aaaaa'\n",
        "```"
      ]
    },
    {
      "cell_type": "code",
      "execution_count": null,
      "metadata": {
        "id": "JQ3ssDbG3ZE8",
        "colab": {
          "base_uri": "https://localhost:8080/"
        },
        "outputId": "d8102470-293d-465a-9c9b-471c771912f1"
      },
      "outputs": [
        {
          "output_type": "stream",
          "name": "stdout",
          "text": [
            "aaaaaaa\n"
          ]
        }
      ],
      "source": [
        "s = ''\n",
        "\n",
        "for _ in range(5):\n",
        "    s += 'a'\n",
        "print(s)"
      ]
    },
    {
      "cell_type": "markdown",
      "metadata": {
        "id": "HiSpr4sv3ZE8"
      },
      "source": [
        "### Type casting\n",
        "\n",
        "We discussed multiple times previously the concept of **type casting**.\n",
        "- E.g., `print()` casts non-string objects to strings before flushing them on the screen.\n",
        "\n",
        "Used often in Python\n",
        "- Use type name to convert values to that type. E.g., `int('3')` returns `3`\n",
        "\n",
        "Here is a list of all type casting functions allowed in Python:\n",
        " - **int()** – converts any data type into integer type\n",
        " - **float()** – converts any data type into float type\n",
        " - **ord()** – converts characters into integer\n",
        " - **hex()** – converts integers to hexadecimal\n",
        " - **oct()** – converts integer to octal\n",
        " - **tuple()** – function is used to convert to a tuple.\n",
        " - **set()** – function returns the type after converting to set.\n",
        " - **list()** – function is used to convert any data type to a list type.\n",
        " - **dict()** – function is used to convert a tuple of order (key, value) into a dictionary.\n",
        " - **str()** – converts integer into a string.\n",
        " - **complex(real,imag)** – This function converts real numbers to complex(real,imag) number.\n",
        "\n",
        "*Be careful with type casts.*\n",
        " - A `float` converted to `int` will truncate (not round up/down) decimals. E.g., `int(3.9)` returns `3`\n",
        "\n",
        "Let's see some examples of type conversions used in `print`:"
      ]
    },
    {
      "cell_type": "code",
      "execution_count": null,
      "metadata": {
        "id": "lweTmwXu3ZE9",
        "colab": {
          "base_uri": "https://localhost:8080/"
        },
        "outputId": "2f802586-f796-4b7e-e0ec-e79335913588"
      },
      "outputs": [
        {
          "output_type": "stream",
          "name": "stdout",
          "text": [
            "15000000.0 is 50.0 % of 30000000\n",
            "15000000.0 is 50.0% of 30000000\n",
            "15000000 is 50.0% of 30000000\n",
            "15000000 is 50.0% of 30000000\n",
            "(int(15,000,000)) is 50.0% of 30,000,000\n"
          ]
        }
      ],
      "source": [
        "num = 30000000\n",
        "fraction = 1/2\n",
        "print(num*fraction, 'is', fraction*100, '%', 'of', num)\n",
        "print(num*fraction, 'is', str(fraction*100) + '%', 'of', num)\n",
        "\n",
        "print(int(num*fraction), 'is', str(fraction*100) + '%', 'of', num)\n",
        "\n",
        "# print with f-strings\n",
        "print(f'{int(num*fraction)} is {fraction*100}% of {num}')\n",
        "\n",
        "# print with f-strings and control modifiers. Comma modifier instructs Python to use commas on thousands\n",
        "print(f'{num*fraction:,.0f} is {fraction*100}% of {num:,}')"
      ]
    },
    {
      "cell_type": "markdown",
      "metadata": {
        "id": "O2QU8Wgi3ZE9"
      },
      "source": [
        "Decimal `.0` appears because `fraction` is a float, and multiplying an `int` with a `float` returns `float`\n",
        "\n",
        "After Python 3.6, string expressions in `print` function can\n",
        "\n",
        "A nice property of `f-strings` is that they are useful to control the appearance of the output using *control modifiers*\n",
        "- Use colon `:` to separate the expression from the control modifier\n",
        "    * `f'{3.14159:.2f}'` evaluates the expression `3.14159` to `3.14` (`.2` denotes two decimals)"
      ]
    },
    {
      "cell_type": "markdown",
      "metadata": {
        "id": "v9jFJK8w3ZE_"
      },
      "source": [
        "### Strings and Loops\n",
        "\n",
        "Strings (as also tuples and lists) are considered **sequential objects**. Hence, we can use them as iterables in a `for` loop.\n",
        "\n",
        "Now that you know how iterations work and how strings can be manipulated, let's see an example where we want to iterate over a string's characters.\n",
        "\n",
        "The following code fragments do the same thing.\n",
        "- In the first approach, we iterate over the string characters via their *indexes*\n",
        "  * This is obvious because of the square brackets `[]` and how the function `range()` is used (`end=len(s)`)\n",
        "- The second fragment is more \"Pythonic\".\n",
        "  * We don't iterate over characters via their indexes, but over them directly.\n",
        "  * That way, we avoid using all those brackets seen in the first approach. Makes the process more robust to syntax erros.\n",
        "\n",
        "Both approaches are equivalent and you can use anyone you like.\n",
        "\n",
        "```python\n",
        "s = \"abcdefgh\"\n",
        "for index in range(len(s)):\n",
        "    if s[index] == 'i' or s[index] == 'u':\n",
        "        print(\"There is an i or u\")\n",
        "\n",
        "for char in s:\n",
        "    if char == 'i' or char == 'u':\n",
        "        print(\"There is an i or u\")\n",
        "```"
      ]
    },
    {
      "cell_type": "code",
      "source": [
        "s = \"abcdefgih\"\n",
        "for index in range(len(s)):\n",
        "    if s[index] == 'i' or s[index] == 'u':\n",
        "        print(\"There is an i or u\")\n",
        "\n",
        "for char in s:\n",
        "    if char == 'i' or char == 'u':\n",
        "        print(\"There is an i or u\")"
      ],
      "metadata": {
        "colab": {
          "base_uri": "https://localhost:8080/"
        },
        "id": "_EfV22pSsGz3",
        "outputId": "5f8345c7-5b66-4e67-e602-5ab96666669d"
      },
      "execution_count": null,
      "outputs": [
        {
          "output_type": "stream",
          "name": "stdout",
          "text": [
            "There is an i or u\n",
            "There is an i or u\n"
          ]
        }
      ]
    },
    {
      "cell_type": "markdown",
      "metadata": {
        "id": "C2aZGyUj3ZE_"
      },
      "source": [
        "**Finger exercise**: Write a Python script that first compares the length of two strings. If they are equal in length, print common letters between them.\n",
        "\n",
        "String 1: `UM rocks!`, String 2: `i rock UM`"
      ]
    },
    {
      "cell_type": "code",
      "source": [
        "s1 = \"UM rocks!\"\n",
        "s2 = \"i rock UM\"\n",
        "\n",
        "if len(s1) == len(s2):\n",
        "  for char in s1:\n",
        "    if char in s2 and char != ' ':\n",
        "      print('Letter', char, 'is common in both strings')"
      ],
      "metadata": {
        "id": "fnfZk2or15Pq",
        "colab": {
          "base_uri": "https://localhost:8080/"
        },
        "outputId": "d66ef675-e4ce-4e32-a117-3299f760975a"
      },
      "execution_count": null,
      "outputs": [
        {
          "output_type": "stream",
          "name": "stdout",
          "text": [
            "Letter U is common in both strings\n",
            "Letter M is common in both strings\n",
            "Letter r is common in both strings\n",
            "Letter o is common in both strings\n",
            "Letter c is common in both strings\n",
            "Letter k is common in both strings\n"
          ]
        }
      ]
    },
    {
      "cell_type": "code",
      "source": [
        "# Write a program that takes as input from the keyboard a string that corresponds to the # a date (e.g., 02/20/2024) in the format: MM/DD/YYYY\n",
        "\n",
        "date = input('Enter a Date MM/DD/YYYY : ')\n",
        "\n",
        "print(f' The month is: {date[:2]}')\n",
        "print(f' The day is: {date[3:5]}')\n",
        "print(f' The year is: {date[6:]}')\n"
      ],
      "metadata": {
        "colab": {
          "base_uri": "https://localhost:8080/"
        },
        "id": "WQ_B4IWdFgVc",
        "outputId": "e2891d30-ab7b-4058-e534-68a04f6cf1c2"
      },
      "execution_count": null,
      "outputs": [
        {
          "output_type": "stream",
          "name": "stdout",
          "text": [
            "Enter a Date MM/DD/YYYY : 05/01/2002\n",
            " The month is: 05\n",
            " The day is: 01\n",
            " The year is: 2002\n"
          ]
        }
      ]
    },
    {
      "cell_type": "code",
      "source": [
        "#common character\n",
        "s1 = '123456'\n",
        "s2 = '13579'\n",
        "\n",
        "for char in s1:\n",
        "  if char in s2:\n",
        "    print(char)"
      ],
      "metadata": {
        "colab": {
          "base_uri": "https://localhost:8080/"
        },
        "id": "BwhOdD7xUFcW",
        "outputId": "f063f5bd-c804-4426-bc2f-bc6a34a5eb52"
      },
      "execution_count": null,
      "outputs": [
        {
          "output_type": "stream",
          "name": "stdout",
          "text": [
            "1\n",
            "3\n",
            "5\n"
          ]
        }
      ]
    },
    {
      "cell_type": "code",
      "source": [
        "s1 = '123456'\n",
        "s2 = '13579'\n",
        "\n",
        "for index in range(len(s1)):\n",
        "  if s1[index] in s2:\n",
        "    print(s1[index])\n",
        "print()\n"
      ],
      "metadata": {
        "colab": {
          "base_uri": "https://localhost:8080/"
        },
        "id": "AkmRsM44VAXY",
        "outputId": "717a1e1f-f069-439d-f804-b0d12a56f521"
      },
      "execution_count": null,
      "outputs": [
        {
          "output_type": "stream",
          "name": "stdout",
          "text": [
            "1\n",
            "3\n",
            "5\n",
            "\n"
          ]
        }
      ]
    },
    {
      "cell_type": "code",
      "source": [
        "# string initially: s= ''|| after 5 iterations: s = 'aaaaa'\n",
        "\n",
        "s = ''\n",
        "print (len(s),s)\n",
        "for i in range(5):\n",
        "  s= s+'a'\n",
        "  print(len(s),s)"
      ],
      "metadata": {
        "colab": {
          "base_uri": "https://localhost:8080/"
        },
        "id": "gzgaLKJWYf3d",
        "outputId": "d81eeee8-9528-4204-8658-c84a9a9e5050"
      },
      "execution_count": null,
      "outputs": [
        {
          "output_type": "stream",
          "name": "stdout",
          "text": [
            "0 \n",
            "1 a\n",
            "2 aa\n",
            "3 aaa\n",
            "4 aaaa\n",
            "5 aaaaa\n"
          ]
        }
      ]
    },
    {
      "cell_type": "code",
      "source": [
        "L= [1, 'two',3.0, print, [5,7,9]]\n",
        "len(L)"
      ],
      "metadata": {
        "colab": {
          "base_uri": "https://localhost:8080/"
        },
        "id": "e83t_d_kPEay",
        "outputId": "7b4bca91-303c-4be0-cfee-3b77ca98a1c7"
      },
      "execution_count": null,
      "outputs": [
        {
          "output_type": "execute_result",
          "data": {
            "text/plain": [
              "5"
            ]
          },
          "metadata": {},
          "execution_count": 46
        }
      ]
    },
    {
      "cell_type": "code",
      "source": [
        "L + ['three']"
      ],
      "metadata": {
        "colab": {
          "base_uri": "https://localhost:8080/"
        },
        "id": "omfyEZRoO9dP",
        "outputId": "ef666d01-1c86-496f-e0c4-01ce329eecd8"
      },
      "execution_count": null,
      "outputs": [
        {
          "output_type": "execute_result",
          "data": {
            "text/plain": [
              "[1, 'two', 3.0, <function print>, [5, 7, 9], 'three']"
            ]
          },
          "metadata": {},
          "execution_count": 47
        }
      ]
    },
    {
      "cell_type": "code",
      "source": [
        "L.extend(['three', 4])\n",
        "L"
      ],
      "metadata": {
        "colab": {
          "base_uri": "https://localhost:8080/"
        },
        "id": "mtGOKmwQSW-_",
        "outputId": "7734b3b9-da04-4698-e876-f2e718609188"
      },
      "execution_count": null,
      "outputs": [
        {
          "output_type": "execute_result",
          "data": {
            "text/plain": [
              "[1, 'two', 3.0, <function print>, [5, 7, 9], 4, 'three', 4]"
            ]
          },
          "metadata": {},
          "execution_count": 49
        }
      ]
    },
    {
      "cell_type": "code",
      "source": [
        "L.pop(2)\n",
        "L"
      ],
      "metadata": {
        "colab": {
          "base_uri": "https://localhost:8080/"
        },
        "id": "FykhqWDOTEEl",
        "outputId": "4e1c3bb2-cc91-4caf-f925-117113731fcb"
      },
      "execution_count": null,
      "outputs": [
        {
          "output_type": "execute_result",
          "data": {
            "text/plain": [
              "[1, 'two', <function print>, [5, 7, 9], 4, 'three', 4]"
            ]
          },
          "metadata": {},
          "execution_count": 50
        }
      ]
    },
    {
      "cell_type": "code",
      "source": [
        "numbers= [5,7,0,3,1,6]\n",
        "numbers.sort()\n",
        "numbers"
      ],
      "metadata": {
        "colab": {
          "base_uri": "https://localhost:8080/"
        },
        "id": "yBXr70oOT_K_",
        "outputId": "2569249c-2100-458a-c612-826bbf74c76c"
      },
      "execution_count": null,
      "outputs": [
        {
          "output_type": "execute_result",
          "data": {
            "text/plain": [
              "[0, 1, 3, 5, 6, 7]"
            ]
          },
          "metadata": {},
          "execution_count": 51
        }
      ]
    },
    {
      "cell_type": "code",
      "source": [
        "numbers= [5,7,0,3,1,6]\n",
        "numbers.sort(reverse=True)\n",
        "numbers"
      ],
      "metadata": {
        "colab": {
          "base_uri": "https://localhost:8080/"
        },
        "id": "lfW9h9koUSjr",
        "outputId": "d2105c4e-303a-40a7-e0c0-0f3a0952bbb8"
      },
      "execution_count": null,
      "outputs": [
        {
          "output_type": "execute_result",
          "data": {
            "text/plain": [
              "[7, 6, 5, 3, 1, 0]"
            ]
          },
          "metadata": {},
          "execution_count": 52
        }
      ]
    },
    {
      "cell_type": "code",
      "source": [
        "L=[]\n",
        "\n",
        "\n",
        "while True:\n",
        "    number = int(input('Enter a value: '))\n",
        "    if number == 0:\n",
        "        break\n",
        "    L.append(number)\n",
        "L"
      ],
      "metadata": {
        "colab": {
          "base_uri": "https://localhost:8080/"
        },
        "id": "M8IEN9zRUuI6",
        "outputId": "3f07e3d3-ec59-4580-98ed-a876c980276b"
      },
      "execution_count": null,
      "outputs": [
        {
          "name": "stdout",
          "output_type": "stream",
          "text": [
            "Enter a value: 5\n",
            "Enter a value: 0\n"
          ]
        },
        {
          "output_type": "execute_result",
          "data": {
            "text/plain": [
              "[5]"
            ]
          },
          "metadata": {},
          "execution_count": 2
        }
      ]
    },
    {
      "cell_type": "code",
      "source": [
        "L=[]\n",
        "\n",
        "number = int(input('Enter a value: '))\n",
        "\n",
        "while number!=0:\n",
        "  L.append(number)\n",
        "  number = int(input('Enter a value: '))\n",
        "L"
      ],
      "metadata": {
        "colab": {
          "base_uri": "https://localhost:8080/"
        },
        "id": "LDTbVOdUY4bE",
        "outputId": "13aee7c0-8a82-4c1d-d78b-4ccfde99aad0"
      },
      "execution_count": null,
      "outputs": [
        {
          "name": "stdout",
          "output_type": "stream",
          "text": [
            "Enter a value: 5\n",
            "Enter a value: 4\n",
            "Enter a value: 0\n"
          ]
        },
        {
          "output_type": "execute_result",
          "data": {
            "text/plain": [
              "[5, 4]"
            ]
          },
          "metadata": {},
          "execution_count": 5
        }
      ]
    },
    {
      "cell_type": "code",
      "source": [
        "L.sort()\n",
        "L"
      ],
      "metadata": {
        "colab": {
          "base_uri": "https://localhost:8080/"
        },
        "id": "Yz6tcaR9ad8F",
        "outputId": "e86780bf-ceb3-4a27-8430-f5d75cf2f836"
      },
      "execution_count": null,
      "outputs": [
        {
          "output_type": "execute_result",
          "data": {
            "text/plain": [
              "[4, 5]"
            ]
          },
          "metadata": {},
          "execution_count": 6
        }
      ]
    },
    {
      "cell_type": "code",
      "source": [
        "L.reverse()\n",
        "L"
      ],
      "metadata": {
        "colab": {
          "base_uri": "https://localhost:8080/"
        },
        "id": "zw4oApMaSjEq",
        "outputId": "33aa4801-6e17-4efc-ea62-253963907d6c"
      },
      "execution_count": null,
      "outputs": [
        {
          "output_type": "execute_result",
          "data": {
            "text/plain": [
              "[5, 4]"
            ]
          },
          "metadata": {},
          "execution_count": 7
        }
      ]
    },
    {
      "cell_type": "code",
      "source": [
        "# not advisable to iterate and modify an object. have to iterate over a copy.\n",
        "L1= [1,2,3,4]\n",
        "L2= [1,2,5,6]\n",
        "\n",
        "for item in L1:\n",
        "  if item in L2:\n",
        "    L1.remove(item)\n",
        "L1"
      ],
      "metadata": {
        "colab": {
          "base_uri": "https://localhost:8080/"
        },
        "id": "YnTL5slDasU8",
        "outputId": "16c90e81-bfae-424b-f84a-c7289c8a8893"
      },
      "execution_count": null,
      "outputs": [
        {
          "output_type": "execute_result",
          "data": {
            "text/plain": [
              "[2, 3, 4]"
            ]
          },
          "metadata": {},
          "execution_count": 84
        }
      ]
    },
    {
      "cell_type": "code",
      "source": [
        "# This is the copy. created by slicing.\n",
        "L1= [1,2,3,4]\n",
        "L2= [1,2,5,6]\n",
        "\n",
        "for item in L1[:]:\n",
        "  if item in L2:\n",
        "    L1.remove(item)\n",
        "L1"
      ],
      "metadata": {
        "colab": {
          "base_uri": "https://localhost:8080/"
        },
        "id": "rK4OrkPEb9zn",
        "outputId": "9ba61b48-6c06-4c36-e43d-d8c220ad28a4"
      },
      "execution_count": null,
      "outputs": [
        {
          "output_type": "execute_result",
          "data": {
            "text/plain": [
              "[3, 4]"
            ]
          },
          "metadata": {},
          "execution_count": 85
        }
      ]
    },
    {
      "cell_type": "code",
      "source": [
        "t= (1, 'two',3.0)\n",
        "t"
      ],
      "metadata": {
        "id": "FGL3xeakc4p1",
        "colab": {
          "base_uri": "https://localhost:8080/"
        },
        "outputId": "dbb70991-b04e-4c46-d787-07411e1253c7"
      },
      "execution_count": null,
      "outputs": [
        {
          "output_type": "execute_result",
          "data": {
            "text/plain": [
              "(1, 'two', 3.0)"
            ]
          },
          "metadata": {},
          "execution_count": 15
        }
      ]
    },
    {
      "cell_type": "code",
      "source": [
        "t + t[:2]\n"
      ],
      "metadata": {
        "colab": {
          "base_uri": "https://localhost:8080/"
        },
        "id": "-INxzc0Tc9dW",
        "outputId": "9f959db6-ca52-4313-8a7a-196b8ecc914b"
      },
      "execution_count": null,
      "outputs": [
        {
          "output_type": "execute_result",
          "data": {
            "text/plain": [
              "(1, 'two', 3.0, 1, 'two')"
            ]
          },
          "metadata": {},
          "execution_count": 13
        }
      ]
    },
    {
      "cell_type": "code",
      "source": [
        "2 * t[:2]"
      ],
      "metadata": {
        "id": "Wfu3XojadKoU",
        "outputId": "1408ba78-bf45-4b06-86ca-9d9390a3bc03",
        "colab": {
          "base_uri": "https://localhost:8080/"
        }
      },
      "execution_count": null,
      "outputs": [
        {
          "output_type": "execute_result",
          "data": {
            "text/plain": [
              "(1, 'two', 1, 'two')"
            ]
          },
          "metadata": {},
          "execution_count": 16
        }
      ]
    },
    {
      "cell_type": "code",
      "source": [
        "grades = {\n",
        "    'Alice': 91,\n",
        "    'Bob': 88,\n",
        "    'Tracy': 93,\n",
        "    'Erik': 90,\n",
        "}"
      ],
      "metadata": {
        "id": "xNwpcWmy-voJ"
      },
      "execution_count": 3,
      "outputs": []
    },
    {
      "cell_type": "code",
      "source": [
        "#displays value of key\n",
        "grades['Bob']"
      ],
      "metadata": {
        "colab": {
          "base_uri": "https://localhost:8080/"
        },
        "id": "maGP_uqi_pn7",
        "outputId": "7849b9d1-97fc-454b-e9ba-a06e74e864e2"
      },
      "execution_count": 8,
      "outputs": [
        {
          "output_type": "execute_result",
          "data": {
            "text/plain": [
              "88"
            ]
          },
          "metadata": {},
          "execution_count": 8
        }
      ]
    },
    {
      "cell_type": "code",
      "source": [
        "#adds values for non existing keys\n",
        "grades['Michael'] = 95\n",
        "grades"
      ],
      "metadata": {
        "colab": {
          "base_uri": "https://localhost:8080/"
        },
        "id": "b2WJL_ybAJV7",
        "outputId": "e9617701-be9d-4e7e-99f7-5ef78d94318a"
      },
      "execution_count": 23,
      "outputs": [
        {
          "output_type": "execute_result",
          "data": {
            "text/plain": [
              "{'Bob': 88, 'Tracy': 93, 'Erik': 90, 'Michael': 95}"
            ]
          },
          "metadata": {},
          "execution_count": 23
        }
      ]
    },
    {
      "cell_type": "code",
      "source": [
        "#updates values for existing key\n",
        "grades['Alice']= 95\n",
        "grades"
      ],
      "metadata": {
        "colab": {
          "base_uri": "https://localhost:8080/"
        },
        "id": "2XFs1SQ9AZJ0",
        "outputId": "65a185a2-392f-49e5-f3af-d917ff79b309"
      },
      "execution_count": 24,
      "outputs": [
        {
          "output_type": "execute_result",
          "data": {
            "text/plain": [
              "{'Bob': 88, 'Tracy': 93, 'Erik': 90, 'Michael': 95, 'Alice': 95}"
            ]
          },
          "metadata": {},
          "execution_count": 24
        }
      ]
    },
    {
      "cell_type": "code",
      "source": [
        "#Removes the key and its value from the dictionary; Both examples below do the same thing-- doesnt matter\n",
        "del(grades['Michael'])\n",
        "\n",
        "del grades['Alice']\n",
        "grades"
      ],
      "metadata": {
        "colab": {
          "base_uri": "https://localhost:8080/"
        },
        "id": "wcjlx3-5BSd4",
        "outputId": "c0b69801-0a44-4dcd-fb9d-8c3fa25ea504"
      },
      "execution_count": 25,
      "outputs": [
        {
          "output_type": "execute_result",
          "data": {
            "text/plain": [
              "{'Bob': 88, 'Tracy': 93, 'Erik': 90, 'Michael': 95}"
            ]
          },
          "metadata": {},
          "execution_count": 25
        }
      ]
    },
    {
      "cell_type": "code",
      "source": [
        "#obj.methodnames()\n",
        "grades.keys()"
      ],
      "metadata": {
        "colab": {
          "base_uri": "https://localhost:8080/"
        },
        "id": "gYvE4_HGBrHw",
        "outputId": "bedadad1-2a61-4238-862f-a84966ed59d5"
      },
      "execution_count": 26,
      "outputs": [
        {
          "output_type": "execute_result",
          "data": {
            "text/plain": [
              "dict_keys(['Bob', 'Tracy', 'Erik', 'Michael'])"
            ]
          },
          "metadata": {},
          "execution_count": 26
        }
      ]
    },
    {
      "cell_type": "code",
      "source": [
        "grades.values()"
      ],
      "metadata": {
        "colab": {
          "base_uri": "https://localhost:8080/"
        },
        "id": "e1_iyUZeCzAP",
        "outputId": "ef0bece9-ded5-45c6-e7b7-ba27f153aafa"
      },
      "execution_count": 27,
      "outputs": [
        {
          "output_type": "execute_result",
          "data": {
            "text/plain": [
              "dict_values([88, 93, 90, 95])"
            ]
          },
          "metadata": {},
          "execution_count": 27
        }
      ]
    },
    {
      "cell_type": "code",
      "source": [
        "grades.items()"
      ],
      "metadata": {
        "colab": {
          "base_uri": "https://localhost:8080/"
        },
        "id": "GOmGJc1bC2BT",
        "outputId": "6c766d88-e10d-452f-914f-cdee4287d8dc"
      },
      "execution_count": 28,
      "outputs": [
        {
          "output_type": "execute_result",
          "data": {
            "text/plain": [
              "dict_items([('Bob', 88), ('Tracy', 93), ('Erik', 90), ('Michael', 95)])"
            ]
          },
          "metadata": {},
          "execution_count": 28
        }
      ]
    },
    {
      "cell_type": "code",
      "source": [
        "for value in grades.values():\n",
        "  print(value)"
      ],
      "metadata": {
        "colab": {
          "base_uri": "https://localhost:8080/"
        },
        "id": "w2utZ_ZvDSdP",
        "outputId": "2a6ec03c-d25f-42b2-8760-434a36212a9f"
      },
      "execution_count": 42,
      "outputs": [
        {
          "output_type": "stream",
          "name": "stdout",
          "text": [
            "88\n",
            "93\n",
            "90\n",
            "95\n"
          ]
        }
      ]
    },
    {
      "cell_type": "code",
      "source": [
        "for k,v in grades.items():\n",
        "  print(k,v)"
      ],
      "metadata": {
        "colab": {
          "base_uri": "https://localhost:8080/"
        },
        "id": "dUMTH299D066",
        "outputId": "e96a2533-7925-4908-910b-25dd964654f1"
      },
      "execution_count": 44,
      "outputs": [
        {
          "output_type": "stream",
          "name": "stdout",
          "text": [
            "Bob 88\n",
            "Tracy 93\n",
            "Erik 90\n",
            "Michael 95\n"
          ]
        }
      ]
    }
  ],
  "metadata": {
    "celltoolbar": "Slideshow",
    "kernelspec": {
      "display_name": "Python 3 (ipykernel)",
      "language": "python",
      "name": "python3"
    },
    "language_info": {
      "codemirror_mode": {
        "name": "ipython",
        "version": 3
      },
      "file_extension": ".py",
      "mimetype": "text/x-python",
      "name": "python",
      "nbconvert_exporter": "python",
      "pygments_lexer": "ipython3",
      "version": "3.8.2"
    },
    "colab": {
      "provenance": [],
      "include_colab_link": true
    }
  },
  "nbformat": 4,
  "nbformat_minor": 0
}