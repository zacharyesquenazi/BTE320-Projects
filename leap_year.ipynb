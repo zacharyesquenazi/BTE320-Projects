{
  "nbformat": 4,
  "nbformat_minor": 0,
  "metadata": {
    "colab": {
      "provenance": [],
      "authorship_tag": "ABX9TyO2Yp0pI/52MzHQSVYgv8n0",
      "include_colab_link": true
    },
    "kernelspec": {
      "name": "python3",
      "display_name": "Python 3"
    },
    "language_info": {
      "name": "python"
    }
  },
  "cells": [
    {
      "cell_type": "markdown",
      "metadata": {
        "id": "view-in-github",
        "colab_type": "text"
      },
      "source": [
        "<a href=\"https://colab.research.google.com/github/zacharyesquenazi/BTE320-Projects/blob/main/leap_year.ipynb\" target=\"_parent\"><img src=\"https://colab.research.google.com/assets/colab-badge.svg\" alt=\"Open In Colab\"/></a>"
      ]
    },
    {
      "cell_type": "code",
      "execution_count": 1,
      "metadata": {
        "colab": {
          "base_uri": "https://localhost:8080/"
        },
        "id": "pWUkMKKcoE-G",
        "outputId": "54d71d65-cb67-4c09-b615-c9f425fa7039"
      },
      "outputs": [
        {
          "output_type": "stream",
          "name": "stdout",
          "text": [
            "Enter A Year:2345\n",
            "Not a Leap Year\n"
          ]
        }
      ],
      "source": [
        "#Leap Year Check\n",
        "\n",
        "user_input=int(input('Enter A Year:'))\n",
        "\n",
        "if (user_input%4 == 0) and (user_input%100 !=0) or (user_input%400 ==0):\n",
        "  print('Leap Year')\n",
        "else:\n",
        "  print('Not a Leap Year')"
      ]
    },
    {
      "cell_type": "code",
      "source": [
        "year = int(input(\"Enter a year: \"))\n",
        "\n",
        "if (year % 4 == 0 and year % 100 != 0) or (year % 400 == 0):\n",
        "    print(f\"{year} is a leap year!\")\n",
        "else:\n",
        "    print(f\"{year} is not a leap year.\")"
      ],
      "metadata": {
        "id": "T9tvWiL3oO30",
        "outputId": "858931a3-74c7-456a-99ba-7d5161947739",
        "colab": {
          "base_uri": "https://localhost:8080/"
        }
      },
      "execution_count": 2,
      "outputs": [
        {
          "output_type": "stream",
          "name": "stdout",
          "text": [
            "Enter a year: 2024\n",
            "2024 is a leap year!\n"
          ]
        }
      ]
    }
  ]
}