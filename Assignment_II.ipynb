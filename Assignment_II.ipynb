{
  "nbformat": 4,
  "nbformat_minor": 0,
  "metadata": {
    "colab": {
      "provenance": [],
      "include_colab_link": true
    },
    "kernelspec": {
      "name": "python3",
      "display_name": "Python 3"
    },
    "language_info": {
      "name": "python"
    }
  },
  "cells": [
    {
      "cell_type": "markdown",
      "metadata": {
        "id": "view-in-github",
        "colab_type": "text"
      },
      "source": [
        "<a href=\"https://colab.research.google.com/github/zacharyesquenazi/BTE320-Projects/blob/main/Assignment_II.ipynb\" target=\"_parent\"><img src=\"https://colab.research.google.com/assets/colab-badge.svg\" alt=\"Open In Colab\"/></a>"
      ]
    },
    {
      "cell_type": "markdown",
      "source": [
        "# Problem Set 2"
      ],
      "metadata": {
        "id": "mqKVIuY-mxNU"
      }
    },
    {
      "cell_type": "markdown",
      "source": [
        "## Assignment 1: Quality Control (7 points)\n",
        "\n",
        "A quality control manager would like to find the average weight of a list of weights. Prior experience indicates that the first two measures are atypical, and the practice is to exclude these from the average calculation.\n",
        "\n",
        "Write a program that calculates the average of a list of numbers that given as inputs from the user, excluding the first three values.\n",
        "\n",
        "For your program, you must define and use the following functions:\n",
        "- `getValues(n)`: Prompt the user for `n` values, returns the list\n",
        "- `calcAverage(alist)`: Calculates the average from the list"
      ],
      "metadata": {
        "id": "-RSYW1jVm08n"
      }
    },
    {
      "cell_type": "code",
      "execution_count": null,
      "metadata": {
        "id": "AqbgJkgNmvQw"
      },
      "outputs": [],
      "source": [
        "def getValues(n):\n",
        "  weights = []\n",
        "  for i in range(n):\n",
        "    weight = float(input('Enter a weight: '))\n",
        "    weights.append(weight)\n",
        "\n",
        "  return weights [2:]\n",
        "\n",
        "def calcAverage(alist):\n",
        "  return sum(alist) / len(alist)\n"
      ]
    },
    {
      "cell_type": "code",
      "source": [
        "n_weights= int(input('Enter number of weights '))\n",
        "L= getValues(n_weights)\n",
        "avg = calcAverage(L)\n",
        "print(avg)"
      ],
      "metadata": {
        "colab": {
          "base_uri": "https://localhost:8080/"
        },
        "id": "cMBderKDMEW-",
        "outputId": "63b1dd9e-e44b-44dd-9c1a-181d681d3812"
      },
      "execution_count": null,
      "outputs": [
        {
          "output_type": "stream",
          "name": "stdout",
          "text": [
            "Enter number of weights 5\n",
            "Enter a weight: 1\n",
            "Enter a weight: 5\n",
            "Enter a weight: 55\n",
            "Enter a weight: 43\n",
            "Enter a weight: 4\n",
            "34.0\n"
          ]
        }
      ]
    },
    {
      "cell_type": "markdown",
      "source": [
        "## Assignment 2: Country Statistics Lookup-Multiple Measures (6 points)\n",
        "\n",
        "Assume a program begins with the statement:\n",
        "\n",
        "```python\n",
        "allData = { # dictionary of values for countries\n",
        "    'US': {'pop':325.7, 'gdp': 19.39, 'ccy': 'USD', 'fx':  1.0},\n",
        "    'CA': {'pop': 36.5, 'gdp':  1.65, 'ccy': 'CAD', 'fx':  1.35},\n",
        "    'MX': {'pop':129.2, 'gdp':  1.15, 'ccy': 'MXN', 'fx': 19.68}\n",
        "    }\n",
        "```\n",
        "\n",
        "Write subsequent statements that (in a loop) prompt the user for a country code (`US`, `CA`, or `MX`), then prompt for a measure name (`pop`, `gdp`, `ccy`, or `fx`), then look up in the above dictionary for the corresponding value, and display it.\n",
        "\n",
        "Example run:\n",
        "```\n",
        "Please enter a country code: CA\n",
        "Please enter a statistic: pop\n",
        "CA pop = 36.5\n",
        "```\n",
        "\n",
        "Your program should handle the cases where a user-entered country code or measure name is not found."
      ],
      "metadata": {
        "id": "QFO0Kzx8ncnv"
      }
    },
    {
      "cell_type": "code",
      "source": [
        "allData = { # dictionary of values for countries\n",
        "    'US': {'pop':325.7, 'gdp': 19.39, 'ccy': 'USD', 'fx':  1.0},\n",
        "    'CA': {'pop': 36.5, 'gdp':  1.65, 'ccy': 'CAD', 'fx':  1.35},\n",
        "    'MX': {'pop':129.2, 'gdp':  1.15, 'ccy': 'MXN', 'fx': 19.68}\n",
        "    }\n",
        "\n",
        "while True:\n",
        "  country_code = input('Enter a country code (or type exit if you want to stop): ')\n",
        "  if country_code == 'exit':\n",
        "    break\n",
        "  if country_code not in allData.keys():\n",
        "        print('Invalid country code. Please try again.')\n",
        "        continue\n",
        "  statistic = input('Enter a statistic (pop, gdp, ccy, fx): ')\n",
        "  if statistic not in allData[country_code].keys():\n",
        "        print('Invalid statistic. Please try again.')\n",
        "        continue\n",
        "\n",
        "  if statistic == 'pop':\n",
        "        print(f'Population: {allData[country_code][statistic]} million people')\n",
        "  elif statistic == 'gdp':\n",
        "        print(f'GDP: {allData[country_code][statistic]} trillion $')\n",
        "  elif statistic == 'ccy':\n",
        "        print(f'Currency: {allData[country_code][statistic]}')\n",
        "  else:\n",
        "        print(f'FX: {allData[country_code][statistic]}')\n",
        "\n"
      ],
      "metadata": {
        "id": "XKqAJWo1QeR7",
        "colab": {
          "base_uri": "https://localhost:8080/"
        },
        "outputId": "0eabf18e-3f8e-47c1-fcf9-6580060822d2"
      },
      "execution_count": null,
      "outputs": [
        {
          "name": "stdout",
          "output_type": "stream",
          "text": [
            "Enter a country code (or type exit if you want to stop): US\n",
            "Enter a statistic (pop, gdp, ccy, fx): pop\n",
            "Population: 325.7 million people\n",
            "Enter a country code (or type exit if you want to stop): d\n",
            "Invalid country code. Please try again.\n",
            "Enter a country code (or type exit if you want to stop): exit\n"
          ]
        }
      ]
    },
    {
      "cell_type": "markdown",
      "source": [
        "## Assignment 3: Parking Garage (6 points)\n",
        "\n",
        "Write a program to compute the fee for parking in a garage for a number of hours.\n",
        "\n",
        "The program should:\n",
        "- Prompt the user for how many hours parked\n",
        "- Calculate the fee based on the following rules:\n",
        "  - $2.50/hour\n",
        "\n",
        "  - minimum fee is $6.00\n",
        "\n",
        "  - maximum fee is $20.00\n",
        "- Print the result\n",
        "\n",
        "For your program, define and use the following two functions:\n",
        "```python\n",
        "# use input() to prompt for the # of hours parked, return this value\n",
        "def getParkingHours()\n",
        "\n",
        "# takes as input hours (a number), returns the parking fee\n",
        "def calcParkingFee()\n",
        "```"
      ],
      "metadata": {
        "id": "GjaUFrnfpKFf"
      }
    },
    {
      "cell_type": "code",
      "source": [
        "def getParkingHours():\n",
        "  hours = int(input('Enter the number of hours parked: '))\n",
        "  return hours\n",
        "\n",
        "def calcParkingFee(hours):\n",
        "  minfee = 6\n",
        "  maxfee= 20\n",
        "  parkingfee = 2.5 * hours\n",
        "  if parkingfee <= 6:\n",
        "    return minfee\n",
        "  elif parkingfee >= 20:\n",
        "    return maxfee\n",
        "  else:\n",
        "    return parkingfee\n",
        "\n",
        "hours= getParkingHours()\n",
        "fee= calcParkingFee(hours)\n",
        "print(f'Total charge: ${fee}')\n",
        "\n"
      ],
      "metadata": {
        "id": "5ha4O3V5pwNN",
        "colab": {
          "base_uri": "https://localhost:8080/"
        },
        "outputId": "836bd5e5-7402-4969-ee90-32156ae054a1"
      },
      "execution_count": null,
      "outputs": [
        {
          "output_type": "stream",
          "name": "stdout",
          "text": [
            "Enter the number of hours parked: 5\n",
            "Total charge: $12.5\n"
          ]
        }
      ]
    },
    {
      "cell_type": "markdown",
      "source": [
        "## Assignment 4: Tuition (6 points)\n",
        "\n",
        "A college charges tuition according to the following:\n",
        "- 12 or more credits: $20,000/semester\n",
        "\n",
        "- 1-11 credits: $1,200 + $1,700 per credit\n",
        "\n",
        "Write a program that prompts the user for a number of credits and determines and displays the tuition for the semester. As part of your program, define and use the following function:\n",
        "```python\n",
        "def calcTuition(credits)\n",
        "```\n",
        "The function returns the tuition for a given number of credits"
      ],
      "metadata": {
        "id": "gipBObe5qm-2"
      }
    },
    {
      "cell_type": "code",
      "source": [
        "def calcTuition(credits):\n",
        "    if credits >= 12:\n",
        "      print(f'Tuition = $20,000')\n",
        "    elif credits < 12 and credits >= 1:\n",
        "      print(f'Tuition = ${1200 + credits * 1700}')\n",
        "    else:\n",
        "      print(f'Invalid number of credits: {credits}')\n",
        "\n",
        "credits = int(input('Enter the number of credits: '))\n",
        "calcTuition(credits)\n"
      ],
      "metadata": {
        "id": "BPcn9ywzrL8y",
        "colab": {
          "base_uri": "https://localhost:8080/"
        },
        "outputId": "7cf8ff99-75a3-48a5-8ed0-2254ab64e519"
      },
      "execution_count": null,
      "outputs": [
        {
          "output_type": "stream",
          "name": "stdout",
          "text": [
            "Enter the number of credits: 10\n",
            "Tuition = $18200\n"
          ]
        }
      ]
    }
  ]
}