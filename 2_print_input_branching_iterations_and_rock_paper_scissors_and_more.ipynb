{
  "cells": [
    {
      "cell_type": "markdown",
      "metadata": {
        "id": "view-in-github",
        "colab_type": "text"
      },
      "source": [
        "<a href=\"https://colab.research.google.com/github/zacharyesquenazi/BTE320-Projects/blob/main/2_print_input_branching_iterations_and_rock_paper_scissors_and_more.ipynb\" target=\"_parent\"><img src=\"https://colab.research.google.com/assets/colab-badge.svg\" alt=\"Open In Colab\"/></a>"
      ]
    },
    {
      "cell_type": "markdown",
      "metadata": {
        "id": "-hJHfha-TEcq"
      },
      "source": [
        "# Functions `print()`, `input()`; Conditionals & Iterations\n",
        "\n",
        "In this lecture, we will describe two commonly used built-in functions in Python, `print()` and `input()`.\n",
        "\n",
        "Then, we will discuss basic programming structures used in almost all programs, namely `conditionals` and `iterations`.\n",
        "\n",
        "Finally, we will discuss some techniques that require combining conditionals and iterations such as exhaustive enumeration, and bisection.\n",
        "\n",
        "#---------------------------------------------------------------------------------------------------------------------------------------------#"
      ]
    },
    {
      "cell_type": "markdown",
      "metadata": {
        "id": "8awSxnKJ5npp"
      },
      "source": [
        "## `print` function\n",
        "\n",
        "One of the first functions you use in Python, and at the same time the one used most frequently.\n",
        "\n",
        "The most commonly used function for code evaluation and debugging.\n",
        "\n",
        "It is the most direct approach that allow the developer to \"communicate\" with their programs and see if everything works the way they are supposed to.\n",
        "\n",
        "`print()` displays a message on screen, but can also be used to *flush* the message on any other standard output device, such as a text file.\n",
        "\n",
        "For the purposes of this course  we will focus only on the former.\n",
        "\n",
        "### Syntax\n",
        "\n",
        "`print(object(s), sep=separator, end=end, file=file, flush=flush)`\n",
        "\n",
        "Most functions in Python, whether built-in or user-defined, take inputs that, depending on what the function does, can be of any type.\n",
        "\n",
        "`print` can take the following inputs. Except `objects`, the rest are all optional:\n",
        "- `object(s)`: It can be any object without predefined size. Converts to string before printed. Works with both single (' ') and double (\" \") quotes. If more than one provided, they need to be separated by commas.\n",
        "- `sep`: Specifies the way objects are separated, if more than one. Default is ' '\n",
        "- `end`: Specifies what to print at the end. Default is `\"\\n\"`\n",
        "    * `\"\\n\"` is called *backslash n* and is an ubiquitous method in many high-level programming languages for switching lines when finish printing out messages on the screen (a.k.a. *newline character*)\n",
        "- Other parameters (not to be taken in detail)\n",
        "  - `file`: Object with a write method. Default is `sys.stdout`\n",
        "      * `stdout` is used to display output directly to the screen console\n",
        "  - `flush`: Boolean; Specifies if the output is flushed (`True`) or buffered (`False`). Default is `False`\n",
        "\n",
        "Input parameters can be defined in such a way that the user has to provide input values, or they can take *default values*\n",
        "- We will describe that in further detail in subsequent lectures"
      ]
    },
    {
      "cell_type": "markdown",
      "metadata": {
        "id": "MRThGYEY5npq"
      },
      "source": [
        "### `print()` examples\n",
        "\n",
        "Let's see here some examples of using function `print()` to display messages on screen."
      ]
    },
    {
      "cell_type": "code",
      "execution_count": null,
      "metadata": {
        "colab": {
          "base_uri": "https://localhost:8080/"
        },
        "id": "-uLXLggd5npq",
        "outputId": "542522a3-ca36-4249-cdf4-0b0b78a04e45"
      },
      "outputs": [
        {
          "name": "stdout",
          "output_type": "stream",
          "text": [
            "Good night and good luck\n",
            "Good night---and good luck\n",
            "Good morning\n",
            "Good night and good luck... Good morning again\n"
          ]
        }
      ],
      "source": [
        "# Print two string objects. All rest of parameters keep their default values\n",
        "print('Good night', 'and good luck')\n",
        "\n",
        "# Change default separator to ---\n",
        "print('Good night', 'and good luck', sep=\"---\")\n",
        "\n",
        "# Change default end character to empty space\n",
        "print('Good morning')\n",
        "print('Good night', 'and good luck...', end=' ')\n",
        "print('Good morning again')"
      ]
    },
    {
      "cell_type": "markdown",
      "metadata": {
        "id": "OfXJgLe1WUfH"
      },
      "source": [
        "In the examples above, `print()` takes the string literals directly as inputs.\n",
        "\n",
        "For non-string objects (e.g., if we want to see on the screen the value of variable `x` where `x = 5`), we can use the variable names associated with them.\n",
        "- `print()` implicitly will turn them to strings using *type-casting* (more on that later)."
      ]
    },
    {
      "cell_type": "code",
      "execution_count": null,
      "metadata": {
        "id": "l9HDQ7QDfn3I"
      },
      "outputs": [],
      "source": [
        "x = 5\n",
        "print('x =', x)"
      ]
    },
    {
      "cell_type": "markdown",
      "metadata": {
        "id": "VQIGEMPS5npq"
      },
      "source": [
        "### String replacement operations in `print` function\n",
        "\n",
        "When we need to print non-string objects, we have various ways of providing them to the function.\n",
        "\n",
        "The following list gives five different methods:\n",
        "- commas `(obj1, obj2, ...)`\n",
        "- `.format()`\n",
        "- f-strings\n",
        "- `%`\n",
        "- `raw`\n",
        "\n",
        "The last two are rarely used, and we will not spend time on them.\n",
        "\n",
        "Here are some examples of using them:"
      ]
    },
    {
      "cell_type": "markdown",
      "metadata": {
        "id": "hCUI9blm5npr"
      },
      "source": [
        "### Examples:\n",
        "\n",
        "```python\n",
        "print('this is an integer %d' % 15)\n",
        "print('this is a float %f' % 15.3456)\n",
        "print('this is a float %.2f' % 15.3456)\n",
        "print('this is a string %s' % 'Python')\n",
        "#-----------------------------------------\n",
        "a = 15\n",
        "b = 15.3456\n",
        "c = 'Python'\n",
        "print(r'this is an integer {:d}'.format(a))\n",
        "print(r'this is a float {:f}'.format(b))\n",
        "print(r'this is a string {:s}'.format(c))\n",
        "```"
      ]
    },
    {
      "cell_type": "markdown",
      "metadata": {
        "id": "dMC5w0m4ZvDf"
      },
      "source": [
        "We will mostly focus on the first three methods, however.\n",
        "\n",
        "That is because they are more *Pythonic* (`raw` is necessary, for example, in cases where we need to include non-ASCII characters in plots)"
      ]
    },
    {
      "cell_type": "markdown",
      "metadata": {
        "id": "LCZ00GfS5npr"
      },
      "source": [
        "### `print` non-string objects\n",
        "\n",
        "The objects used in the examples above are all given in a string format. That is because function `print()` creates a string implicitly from the objects given using type casting, and displays it on the screen.\n",
        "\n",
        "What is the case then when we want to print no-string objects?\n",
        "- No problem! `print()` implicitly transforms all given objects into strings and then concatenates and displays them on screen!\n",
        "\n"
      ]
    },
    {
      "cell_type": "code",
      "execution_count": null,
      "metadata": {
        "colab": {
          "base_uri": "https://localhost:8080/"
        },
        "id": "-GWYTUe-5nps",
        "outputId": "db2e5bea-43d7-47d7-90b9-0600577873df"
      },
      "outputs": [
        {
          "name": "stdout",
          "output_type": "stream",
          "text": [
            "The value of pi is 3.14 and the value of Euler number is 2.71\n"
          ]
        }
      ],
      "source": [
        "# print a given value\n",
        "\n",
        "pi = 3.14\n",
        "e = 2.71\n",
        "print('The value of pi is', pi, 'and the value of Euler number is', e)"
      ]
    },
    {
      "cell_type": "markdown",
      "metadata": {
        "id": "0zXvFxKZ5nps"
      },
      "source": [
        "### `format` and `f-strings`\n",
        "\n",
        "The previous example shows how `print` handles multiple objects.\n",
        "\n",
        "However, it requires breaking up the strings every time a non-string value has to be inserted.\n",
        "\n",
        "`format` and `f-strings` deal with it in an elegant way.\n",
        "\n",
        "In both cases, we can give a single string object to `print()` and put placeholders in places where non-string objects need to be inserted.\n",
        "\n",
        "The placeholders are pairs of curly brackets `{}`.\n",
        "- `format()`: string method that takes as inputs the non-string objects to be inserted *in the exact order they need to appear*. To apply the method to the string object, we use the *dot notation* as:\n",
        "```python\n",
        "\"Loren ipsum {} dolor sit amet {}\".format(x,y)\n",
        "```\n",
        "- `f-strings`: similar to `format()` method, but this time we put the non-string objects directly in the placeholders as:\n",
        "```python\n",
        "f'Loren ipsum {x} dolor sit amet'\n",
        "```"
      ]
    },
    {
      "cell_type": "code",
      "execution_count": null,
      "metadata": {
        "id": "ZCNRfXdI5nps"
      },
      "outputs": [],
      "source": [
        "# format\n",
        "print('The value of pi is {}, and the value of Euler number is {}'.format(pi,e))\n",
        "\n",
        "# f-strings\n",
        "print(f'The value of pi is {pi}, and the value of Euler number is {e}')"
      ]
    },
    {
      "cell_type": "markdown",
      "metadata": {
        "id": "UwLOgptsKr5b"
      },
      "source": [
        "#------------------------------------------------------------------------------------------------------------------------------------------#"
      ]
    },
    {
      "cell_type": "markdown",
      "metadata": {
        "id": "BsADRwgJ3ZE9"
      },
      "source": [
        "## `input()`\n",
        "\n",
        "- Used to get inputs directly from the keyboard.\n",
        "- Takes a string argument, displays it as a prompt on the screen.\n",
        "- The function then waits for the user to type something. When done, the user presses `Enter` to let the interpreter take their input and assign it to a variable.\n",
        "- The input is interpreted by default as a string.\n",
        "- If we want the input to be of any other type, we need to *cast* it to the type we want.\n",
        "  * **Example:** If the input is meant to be an integer, we need to cast it using `int()`\n",
        "  * That can be done directly:\n",
        "  ```python\n",
        "  x = int(input(...))\n",
        "  ```\n",
        "  * Or in two separate steps:\n",
        "  ```python\n",
        "  x = input(...)\n",
        "  x = int(x)\n",
        "  ```"
      ]
    },
    {
      "cell_type": "code",
      "execution_count": null,
      "metadata": {
        "colab": {
          "base_uri": "https://localhost:8080/"
        },
        "id": "xsiZKWab3ZE-",
        "outputId": "2a7b67be-cae2-497d-b6d1-8b2b847fd7d9"
      },
      "outputs": [
        {
          "name": "stdout",
          "output_type": "stream",
          "text": [
            "Enter your name: Zachary\n",
            "Hi Zachary\n"
          ]
        },
        {
          "data": {
            "text/plain": [
              "str"
            ]
          },
          "execution_count": 10,
          "metadata": {},
          "output_type": "execute_result"
        }
      ],
      "source": [
        "name = input('Enter your name: ')\n",
        "print('Hi', name)\n",
        "type(name)"
      ]
    },
    {
      "cell_type": "code",
      "execution_count": null,
      "metadata": {
        "colab": {
          "base_uri": "https://localhost:8080/"
        },
        "id": "Qbr_fcpv3ZE-",
        "outputId": "6a6229dc-7c38-4487-aac8-0e320a019764"
      },
      "outputs": [
        {
          "name": "stdout",
          "output_type": "stream",
          "text": [
            "Enter an integer value: 5\n",
            "<class 'float'> 5.0\n"
          ]
        }
      ],
      "source": [
        "n = float(float(input('Enter an integer value: ')))\n",
        "print(type(n), n)"
      ]
    },
    {
      "cell_type": "markdown",
      "metadata": {
        "id": "iO_0Vn2n3ZE-"
      },
      "source": [
        "Variable `name` takes the value typed by the user.\n",
        "\n",
        "You can check if the assignment done correctly using `print()`"
      ]
    },
    {
      "cell_type": "code",
      "execution_count": null,
      "metadata": {
        "id": "uJqVjycB3ZE-"
      },
      "outputs": [],
      "source": [
        "print('Your name is: ', name)"
      ]
    },
    {
      "cell_type": "markdown",
      "metadata": {
        "id": "vgcgvPq03ZE_"
      },
      "source": [
        "**Finger exercise**: Write code that asks the user to enter their birthday in the form `mm/dd/yyyy`, and then prints a string of the form ‘You were born in the year yyyy.’"
      ]
    },
    {
      "cell_type": "code",
      "execution_count": null,
      "metadata": {
        "id": "lbKAhk1F-4HY"
      },
      "outputs": [],
      "source": [
        "date = input(\"Enter your birthdate in mm/dd/yyyy: \")\n",
        "print(f'You were born in year {int(date[6:])}')"
      ]
    },
    {
      "cell_type": "markdown",
      "metadata": {
        "id": "R3v1xxS4MbFd"
      },
      "source": [
        "#------------------------------------------------------------------------------------------------------------------------------------------#"
      ]
    },
    {
      "cell_type": "markdown",
      "metadata": {
        "id": "3ZXEbcun5npt"
      },
      "source": [
        "# Conditionals and Iterations"
      ]
    },
    {
      "cell_type": "markdown",
      "metadata": {
        "id": "EA7NeKHF5npt"
      },
      "source": [
        "All the code examples so far are **single-line programs**:\n",
        "- The interpreter executes statements in the order they appear, top to bottom\n",
        "- Simple, but inefficient for real-world applications.\n",
        "\n",
        "Modern programs require large parts of them to be executed either based on certain **conditions**, or **iteratively**, or both.\n",
        "\n",
        "Because of that, all high-level programming languages like Python provide a concept that is fundamental on them: **Branching statements**."
      ]
    },
    {
      "cell_type": "markdown",
      "metadata": {
        "id": "_R1sPsyt5npt"
      },
      "source": [
        "* There are two types of branching statements: **conditionals** (*if-else*) and **iterations** (*while/for*).\n",
        "* *Boolean expressions* are usually used in both cases."
      ]
    },
    {
      "cell_type": "code",
      "execution_count": null,
      "metadata": {
        "colab": {
          "base_uri": "https://localhost:8080/"
        },
        "id": "MHBaHCsg9-7L",
        "outputId": "30153563-1e97-4d65-b518-131e99cf0a26"
      },
      "outputs": [
        {
          "name": "stdout",
          "output_type": "stream",
          "text": [
            "\n"
          ]
        }
      ],
      "source": [
        "x = 5\n",
        "y = \"Hi\"\n",
        "\n",
        "if ...:\n",
        "  print()\n"
      ]
    },
    {
      "cell_type": "code",
      "execution_count": null,
      "metadata": {
        "colab": {
          "base_uri": "https://localhost:8080/"
        },
        "id": "0feqZbl9GK67",
        "outputId": "9b77448f-233c-4966-d3a5-90d434c6e79d"
      },
      "outputs": [
        {
          "name": "stdout",
          "output_type": "stream",
          "text": [
            "Enter a number:-1\n",
            "-1.0 is negative\n"
          ]
        }
      ],
      "source": [
        "userInput = float(input('Enter a number:'))\n",
        "if userInput > 0:\n",
        "  print(f'{userInput} is positive')\n",
        "else:\n",
        "  print(f'{userInput} is negative')"
      ]
    },
    {
      "cell_type": "markdown",
      "metadata": {
        "id": "nuLgOjiy5npt"
      },
      "source": [
        "## Conditionals\n",
        "\n",
        "Code structures that are designed to evaluate one, or more, *conditions*.\n",
        "\n",
        "Those conditions are given in a *Boolean format*, that is they are evaluated as either `True` or `False`.\n",
        "\n",
        "The most basic conditional has two main parts:\n",
        "1. A Boolean expression.\n",
        "2. A separate block of code that is executed if expression evaluates as `True`.\n",
        "\n",
        "There are also cases where we have two distinct code parts that correspond to each case separately.\n",
        "1. A block of code that is executed if the Boolean expression evaluates as `True`\n",
        "2. Another block of code that is executed when the Boolean expression evaluates as `False`.\n",
        "\n",
        "Finally, there cases where multiple Boolean conditions are possible, but only one of them can be `True` at any given time.\n",
        "1. Separate blocks of code are designed for each of the Boolean conditions.\n",
        "2. At any given time, the block of code whose expression evaluates as `True` is executed.\n",
        "\n",
        "<img src=\"https://drive.google.com/uc?id=13l4efcPQCkbQmDYRjE5ipnuKp7n5XaZT\" width=600/>\n",
        "\n",
        "The multiple blocks are strictly **mutually-exclusive**.\n",
        "- Not all of them can be executed *simultaneously*.\n",
        "- In the case of a single expression, only if it evaluates as `True` then the *True block* is executed and the `False block` is ignored. If the test evaluates as `False`, then the opposite happens.\n",
        "- In the case of multiple expressions, one block is executed and the rest are ignored.\n",
        "\n",
        "After this part, the flow of control is transferred to the statement immediately following the conditionals structure and is outside of it.\n",
        "\n",
        "### Blocks of code\n",
        "\n",
        "A new thing that we see here is the separate *blocks of code* associated with the test output to be either `True` or `False`.\n",
        "\n",
        "To denote separate blocks of code, we need to *indent* to the right.\n",
        "\n",
        "Python uses indentation to define blocks of code that exist \"outside\" the regular code and are executed given certain conditions (e.g., conditionals, function/class definitions, etc.)\n",
        "\n",
        "To define a block of code in Python, we put a colon `:` at the end of the associated expression. Pressing \"Enter\" for getting to a new line, the cursor will be indented automatically to the right.\n",
        "- Depending on the IDE used, the indentation may vary between 2 and 4 spaces.\n",
        "- **Indentation is very important!** Messing with it could lead to `IndentationError` messages and our code will not work until the problem is fixed.\n",
        "\n",
        "\n",
        "Example:\n",
        "```\n",
        "statement:\n",
        "   block of code\n",
        "```"
      ]
    },
    {
      "cell_type": "code",
      "execution_count": null,
      "metadata": {
        "colab": {
          "base_uri": "https://localhost:8080/"
        },
        "id": "DWIEptMz_9Nk",
        "outputId": "53d6f4b1-09f8-4d83-ff6e-8392387b6c42"
      },
      "outputs": [
        {
          "name": "stdout",
          "output_type": "stream",
          "text": [
            "x greater than y\n"
          ]
        }
      ],
      "source": [
        "x = 5\n",
        "y = 3\n",
        "\n",
        "if x > y:\n",
        "  print(\"x greater than y\")\n"
      ]
    },
    {
      "cell_type": "markdown",
      "metadata": {
        "id": "UT5aQ1_95npu"
      },
      "source": [
        "Basic Python implementation of a conditional is presented below.\n",
        "\n",
        "Conditionals in Python are defined by three keywords: `if`, `elif`, `else`.\n",
        "- Depending on the task to be implemented, if a conditional is necessary then we can have one, and only one, `if`; none, one, or more `elif` (this in case of multiple mutually exclusive conditions); none, or one `else`.\n",
        "- Unlike `if` and `elif`, `else` does **not** take a conditional expression. It functions as a *drain*, in case when nothing else is possible.\n",
        "\n",
        "**Note the indentation on the commands defined by the `if-else`.**\n",
        "\n",
        "The example below evaluates a single Boolean expression and executes the `code block true` if the Boolean expression evaluates as `True`, and the `code block false` if the expression evaluates as `False`.\n",
        "\n",
        "```python\n",
        "if Boolean expression:\n",
        "    code block true\n",
        "else:\n",
        "    code block false\n",
        "```\n",
        "\n",
        "In the case where two, or more conditions are present and need to be tested concurrently, the Python implementation becomes:\n",
        "\n",
        "```python\n",
        "if Boolean expression expr1:\n",
        "  code block when expr1 true\n",
        "elif Boolean expression expr2:\n",
        "  code block when expr2 true\n",
        "...\n",
        "else:\n",
        "  code block when all the above expressions are false\n",
        "```\n",
        "\n",
        "Remember that in such cases, **only one** of the expressions `expr1, expr2` can be `True` at a time.\n",
        "\n",
        "**Review comments:**\n",
        "- The first structure above represents a basic conditional. It only evaluates a single expression and executes the `code block true` if it evaluates as `True` and `code block false` otherwise.\n",
        "- Since the two code blocks are exclusive, they have to be *separated* from the rest of the code. For that to happen, those blocks have to be **right indented**.\n",
        "  - To denote a separate code block, the conditional expressions terminate with a colon (`:`)\n",
        "- Python conditional keywords: `if`, `elif`, `else`\n",
        "  - `if` is the main keyword associated with conditional expressions. You **cannot** have any other keyword without `if` present; *mandatory, only one is necessary*.\n",
        "  - `elif` is used when we have multiple conditional expressions that need to be tested concurrently; *optional, there can be none, one, or more*.\n",
        "  - `else` is used when none of the conditions evaluate as `True`, works as a \"drain\"; *optional, there can be none or one*.\n",
        "\n",
        "<exp>*</exp> *The process of indentation is used every time we want to denote a separate code block. The same concept is used, except on conditionals, also on iterations, function definitions, and custom-made class implementations.*"
      ]
    },
    {
      "cell_type": "code",
      "execution_count": null,
      "metadata": {
        "colab": {
          "base_uri": "https://localhost:8080/"
        },
        "id": "pt7ApXvmwaxu",
        "outputId": "9a1468d5-47c5-43b2-99e0-22574443b183"
      },
      "outputs": [
        {
          "name": "stdout",
          "output_type": "stream",
          "text": [
            "Enter the deposit amount ($):10\n",
            "Total after interest applied: $ 10.3\n"
          ]
        }
      ],
      "source": [
        "# Step 1: Input deposit amount\n",
        "deposit = float(input('Enter the deposit amount ($):'))\n",
        "\n",
        "# Step 2: Decide interest rate\n",
        "if deposit > 10000:\n",
        "  ir= 3.5\n",
        "elif deposit > 1000:\n",
        "  ir= 3.25\n",
        "else:\n",
        "  ir= 3.0\n",
        "\n",
        "#Step 3: Display the total amount after the interest rate is applied\n",
        "total = (1+ir/100)*deposit\n",
        "print (f'Total after interest applied: $ {total}')\n",
        "\n",
        "\n"
      ]
    },
    {
      "cell_type": "code",
      "execution_count": null,
      "metadata": {
        "colab": {
          "base_uri": "https://localhost:8080/"
        },
        "id": "eexsMNP69FJ2",
        "outputId": "35bd0695-72a9-4133-a550-e0232ddde9f7"
      },
      "outputs": [
        {
          "name": "stdout",
          "output_type": "stream",
          "text": [
            "Enter type of customer (n: new, e: existing):n\n",
            "Enter the deposit amount ($):5000\n",
            "Total after interest applied: $ 5150.0\n"
          ]
        }
      ],
      "source": [
        "# Step 1: Input deposit amount\n",
        "customer_type = input('Enter type of customer (n: new, e: existing):')\n",
        "deposit = float(input('Enter the deposit amount ($):'))\n",
        "\n",
        "# Step 2: Decide interest rate (now all of that below is nested to if customer_type = 'e')\n",
        "\n",
        "if customer_type == 'e':\n",
        "  if deposit > 10000:\n",
        "    ir= 3.5\n",
        "  elif deposit > 1000:\n",
        "    ir= 3.25\n",
        "  else:\n",
        "    ir= 3.0\n",
        "else:\n",
        "  ir = 3\n",
        "#Step 3: Display the total amount after the interest rate is applied\n",
        "total = (1+ir/100)*deposit\n",
        "print (f'Total after interest applied: $ {total}')\n",
        "\n",
        "\n"
      ]
    },
    {
      "cell_type": "markdown",
      "metadata": {
        "id": "eYyLJ5IT5npu"
      },
      "source": [
        "**Example:** Evaluate whether an integer variable is `Even` or `Odd`.\n",
        "```python\n",
        "if x%2 == 0:\n",
        "    print('Even')\n",
        "else:\n",
        "    print('Odd')\n",
        "print('Done with conditional')\n",
        "```\n",
        "\n",
        "*Explanation:*\n",
        "- Expression `x%2 == 0` evaluates to `True` if the remainder of `x` divided by `2` is `0`.\n",
        "- It evaluates to `False`, otherwise.\n",
        "- `print('Done with conditional')` follows the conditional block, so it will  be executed after the conditional is done."
      ]
    },
    {
      "cell_type": "code",
      "execution_count": null,
      "metadata": {
        "colab": {
          "base_uri": "https://localhost:8080/"
        },
        "id": "wqxozu604ZvI",
        "outputId": "250d60ca-2805-43d9-bb83-c2f6b191808f"
      },
      "outputs": [
        {
          "name": "stdout",
          "output_type": "stream",
          "text": [
            "Odd\n",
            "Done with conditional\n"
          ]
        }
      ],
      "source": [
        "x = 3\n",
        "\n",
        "if x%2 == 0:\n",
        "  print('Even')\n",
        "else:\n",
        "  print('Odd')\n",
        "print(\"Done with conditional\")"
      ]
    },
    {
      "cell_type": "markdown",
      "metadata": {
        "id": "Ne6DvRqS5npu"
      },
      "source": [
        "### Review comments on indentation\n",
        "\n",
        "Be very careful with **indentation** in Python!\n",
        "\n",
        "Usually done using four space characters.\n",
        "\n",
        "**Missing or wrong indentation, will lead to errors and/or incorrect code execution.**"
      ]
    },
    {
      "cell_type": "markdown",
      "metadata": {
        "id": "YKrv3Stc5npv"
      },
      "source": [
        "## Nested conditionals\n",
        "\n",
        "So far the conditionals are designed to evaluate simple Boolean expressions.\n",
        "\n",
        "There are cases, however, where more complex expressions are necessary.\n",
        "- By complex, we mean expressions that have to be evaluated at the same time.\n",
        "- Not to be confused with the multiple mutually exclusive expressions where the `elif` keyword is needed.\n",
        "\n",
        "To properly design those expressions, we have to combine simple expressions into complex ones.\n",
        "\n",
        "The main challenge is that those expressions have to be combined within a `if-elif-else` structure such that they are evaluated **all at once**.\n",
        "\n",
        "To evaluate multiple Boolean expressions simultaneously, we need **nested** conditional statements.\n",
        "   - A nested conditional is a conditional that contains one or more conditionals.\n",
        "   - Evaluation of nested expressions proceeds top-to-bottom:\n",
        "    * The interpreter starts with the outermost one\n",
        "    * If it evaluates to `True`, the interpreter moves to the conditional directly below and \"inside\" it (the \"nested\" part).\n",
        "    * The process repeats depending on how many nested layers are present and their evaluation.\n",
        "    * If all conditions evaluate as `True`, then the code block that is within the innermost layer will be executed.\n",
        "   - Each conditional layer requires its own indentation, leading to a tilted \"pyramidoid\" shape.\n",
        "\n",
        "**Example:**\n",
        "```python\n",
        "if x%2 == 0: # <-- first checks if x%2 equals to zero\n",
        "    if x%3 == 0: # <-- if x%2 indeed equals to zero, then checks if x%3 is also zero\n",
        "        print('Divisible by 2 and 3')\n",
        "    else:\n",
        "        print('Divisible by 2 and not by 3')\n",
        "elif x%3 == 0:\n",
        "    print('Divisible by 3 and not by 2')\n",
        "else:\n",
        "    print('Not divisible by either 2 or 3')\n",
        "```\n",
        "\n",
        "### Compound Boolean expressions: An alternative to nesting\n",
        "\n",
        "While nested conditionals are necessary when multiple Boolean conditions are present, they may lead to many layers of indentation, and those can easily lead to syntax and other types of errors(e.g., missing colons, wrong indentation, etc.)\n",
        "\n",
        "To avoid that, Python allows the design of **compound Boolean expressions** as an alternative method for concurrent evaluation of multiple expressions.\n",
        "- To create those, we need to use the Boolean operators `and`, `or`, `not` so that we can combine the multiple expressions into single and complex ones.\n"
      ]
    },
    {
      "cell_type": "markdown",
      "metadata": {
        "id": "CIRY3H8Q5npu"
      },
      "source": [
        "#### Boolean operators on conditional expressions\n",
        "\n",
        "Boolean operators can be used on building more rich conditional expressions.\n",
        "\n",
        "Example: a case where we need two Boolean objects to be true **at the same time**\n",
        "```python\n",
        "if a and b:\n",
        "    ...\n",
        "```\n",
        "\n",
        "- For example `(age > 18) and (registered_to_vote) == True`.\n",
        "\n",
        "The example above shows a case with only two Boolean expressions connected using a Boolean operator. However, there is no limit on how many expressions you may have.\n",
        "\n",
        "**Example:** Suppose your task is to write a program that shows whether a bank client is eligible for getting a loan. To determine that, let's assume one needs to take into consideration their age, and marital status. **Alternatively**, significant bank assets can be a decisive factor by itself.\n",
        "\n",
        "<exp>*</exp>*For this, and other, example make sure you identify the words that you need to follow into building up the necessary expression(s). This is a necessary task you need to follow with all programming tasks in this class and beyond.*\n",
        "\n",
        "Using a compound Boolean expression, this will be:\n",
        "```python\n",
        "if (age > 25 and m_status == \"single\") or assets > 100000:\n",
        "    print(\"Eligible for loan\")\n",
        "```\n",
        "\n",
        "In the example above, if the client is over 25 years old and single, the expression within parentheses is evaluated as `True`. Hence, regardless if the client's assets are indeed over 100,000 dollars, they will be granted the loan.\n",
        "\n",
        "**Operator order applies with Boolean operators too. Use parentheses `()` to define higher-order operations, or distinguish between them.**\n",
        "\n",
        "In the presence of compound Boolean expressions, to speed up the evaluation process Python uses what is known as a **lazy evaluation**.\n",
        "- What it means is that the interpreter will start its evaluation from the leftmost sub-expression and, depending on its value and the Boolean operator, will decide whether to continue to the rest sub-expressions or not.\n",
        "- In the previous example, we have the following expression:\n",
        "```python\n",
        "age > 25 and m_status == \"single\"\n",
        "```\n",
        "- The interpreter first will evaluate the `age > 25` sub-expression. If `True` it will then move to evaluate the `m_status = \"single\"` sub-expression. However, if the former ends up as `False`, the interpreter will simply ignore the latter, since the Boolean expression among them is `and`, which evaluates as `True` iff both expressions on the left and right are both `True`. Hence, if the first sub-expression turns out to be `False`, the entire expression will be `False` as well.\n",
        "- This becomes apparent in the next example:\n"
      ]
    },
    {
      "cell_type": "code",
      "execution_count": null,
      "metadata": {
        "colab": {
          "base_uri": "https://localhost:8080/"
        },
        "id": "2WOhyjhm5npv",
        "outputId": "9f60a4a6-0c17-43a7-90b6-2bce1eabb4a2"
      },
      "outputs": [
        {
          "name": "stdout",
          "output_type": "stream",
          "text": [
            "x is least\n"
          ]
        }
      ],
      "source": [
        "# Let's test the compound expression\n",
        "\n",
        "x = 2\n",
        "y = 4\n",
        "z = 6\n",
        "\n",
        "if x < y and x < z:\n",
        "    print('x is least')\n",
        "elif y < z:\n",
        "    print('y is least')\n",
        "else:\n",
        "    print('z is least')"
      ]
    },
    {
      "cell_type": "markdown",
      "metadata": {
        "id": "15csVys_5npv"
      },
      "source": [
        "**Another example**: Write a program that examines three variables — `x`, `y`, and `z` — and prints the largest odd number among them. If none of them are odd, it should print the smallest value of the three."
      ]
    },
    {
      "cell_type": "code",
      "execution_count": null,
      "metadata": {
        "colab": {
          "base_uri": "https://localhost:8080/"
        },
        "id": "ielu011Oqp01",
        "outputId": "b18426f0-7b05-4598-9c37-16dfd9eb7b08"
      },
      "outputs": [
        {
          "name": "stdout",
          "output_type": "stream",
          "text": [
            "2\n"
          ]
        }
      ],
      "source": [
        "x = 2\n",
        "y = 4\n",
        "z = 6\n",
        "\n",
        "if x%2 != 0 and y%2 != 0 and z%2 != 0:\n",
        "    print(max(x, y, z))\n",
        "elif x%2 != 0 and y%2 != 0 and z%2 == 0:\n",
        "    print(max(x, y))\n",
        "elif x%2 != 0 and y%2 == 0 and z%2 != 0:\n",
        "    print(max(x, z))\n",
        "elif x%2 == 0 and y%2 != 0 and z%2 != 0:\n",
        "    print(max(y, z))\n",
        "elif x%2 != 0 and y%2 == 0 and z%2 == 0:\n",
        "    print(x)\n",
        "elif x%2 == 0 and y%2 != 0 and z%2 == 0:\n",
        "    print(y)\n",
        "elif x%2 == 0 and y%2 == 0 and z%2 != 0:\n",
        "    print(z)\n",
        "else:\n",
        "    print(min(x, y, z))"
      ]
    },
    {
      "cell_type": "markdown",
      "metadata": {
        "id": "kOLqbzFHrLd7"
      },
      "source": [
        "### Use your intuition\n",
        "\n",
        "The implementation above, while correct, it is very long and tedious.\n",
        "\n",
        "It can be reworked as:\n",
        "- Start with an assumption; that is, begin by assigning the *minimum value* on variable `answer`.\n",
        "  * This will work regardless if the values are even or odd.\n",
        "  * That way, in case all `x,y,z` are even, you have covered the last answer.\n",
        "- Using smartly defined compound Boolean expressions, the result is given in fewer lines than the previous implementation.\n",
        "  * The code is cleaner, and easier to read.\n",
        "\n",
        "**Note that the way we followed here is not like the ones we have seen so far. That is another demonstration of the power of coding: in some cases there can be more than one possible ways of getting the correct output (just like in mathematics)**"
      ]
    },
    {
      "cell_type": "code",
      "execution_count": null,
      "metadata": {
        "id": "59zEYXxh5npv"
      },
      "outputs": [],
      "source": [
        "x = int(input(\"Give value for x: \"))\n",
        "y = int(input(\"Give value for y: \"))\n",
        "z = int(input(\"Give value for z: \"))\n",
        "\n",
        "# Begin by assigning a provisional value in the variable answer, hypothesizing that all x,y,z are even...\n",
        "answer = min(x, y, z)\n",
        "if x%2 != 0:\n",
        "    # ...updating when appropriate...\n",
        "    answer = x\n",
        "if y%2 != 0 and y > answer:\n",
        "    # ...updating when appropriate...\n",
        "    answer = y\n",
        "if z%2 != 0 and z > answer:\n",
        "    # ...updating when appropriate...\n",
        "    answer = z\n",
        "# ...and finally print the results\n",
        "if x%2 == 0 and y%2 == 0 and z%2 == 0:\n",
        "  print(f'The minimum even value is: {answer}')\n",
        "else:\n",
        "  print(f'The maximum odd value is: {answer}')"
      ]
    },
    {
      "cell_type": "markdown",
      "metadata": {
        "id": "XmxT5XEd5npv"
      },
      "source": [
        "Note here that in order for the previous example to work, we did not use `elif` statements, but multiple `if` ones instead. That is because in this implementation we don't consider the various expressions as mutually exclusive.\n",
        "\n",
        "### Conditional expressions: all in one line (when possible)\n",
        "\n",
        "Python also supports **conditional expressions**, along with conditional statements:\n",
        "```python\n",
        "result = expr1 if condition else expr2\n",
        "```\n",
        "If `condition = True` then `expr1` is assigned to `result`, otherwise `exrp2` is assigned to `result`.\n",
        "\n",
        "Example: `x = y if y > z else z`\n",
        "\n",
        "Conditional expressions can also be found within other conditional expressions\n",
        "\n",
        "The following example prints the maximum between `x,y,z`:\n",
        "```python\n",
        "print((x if x > z else z) if x > y else (y if y > z else z))\n",
        "```\n",
        "\n",
        "However, this can turn out to be more complex that simply using compound expressions as before.\n",
        "\n",
        "Hence, while doable, *it is not advisable to try to turn complex compound expressions into conditional expressions unless you are 100% certain that they are correct.*\n",
        "\n",
        "Notice that `elif` is not used in conditional expressions, which leads to them being challenging in the presence of multiple Boolean conditions present."
      ]
    },
    {
      "cell_type": "code",
      "execution_count": null,
      "metadata": {
        "id": "5SKffMsn5npv"
      },
      "outputs": [],
      "source": [
        "x = y if y > z else z\n",
        "print(x)"
      ]
    },
    {
      "cell_type": "markdown",
      "metadata": {
        "id": "Dd-c3S6cKv4P"
      },
      "source": [
        "#---------------------------------------------------------------------------------------------------------------------------------------------#"
      ]
    },
    {
      "cell_type": "markdown",
      "metadata": {
        "id": "Ab1lZj4B5npw"
      },
      "source": [
        "# Iterations\n",
        "\n",
        "Conditionals are the first example of computational thinking that we can introduce to our programs and generalize their function.\n",
        "\n",
        "Nevertheless, most computational tasks cannot be accomplished using selection branching statements only.\n",
        "\n",
        "**Example**: Write a program that asks the user how many times they want to print the letter X, and\n",
        "then prints a string with that number of X's\n",
        "\n",
        "```python\n",
        "num_x = int(input('How many times should I print the letter X? '))\n",
        "to_print = ''\n",
        "if num_x == 1:\n",
        "    to_print = 'X'\n",
        "elif num_x == 2:\n",
        "    to_print = 'XX'\n",
        "elif num_x == 3:\n",
        "    to_print = 'XXX'\n",
        "#...\n",
        "print(to_print)\n",
        "```\n",
        "\n",
        "As you can imagine, it is impossible to write a conditional that enumerates ALL integers (there are an infinite number of them)."
      ]
    },
    {
      "cell_type": "markdown",
      "metadata": {
        "id": "nrKO-tY-5npw"
      },
      "source": [
        "For a program that needs to execute the same part of code many times, we need to use an **iterative process** (a.k.a. *looping*)\n",
        "\n",
        "In its simplest form, the looping process is controlled by a Boolean expression (not unlike those used on conditionals earlier).\n",
        "\n",
        "The difference here is that **as long as** the expression evaluates as `True`, the looping block of code will be executed; only when the expression turns out to be `False`, the process will exit the loop:\n",
        "\n",
        "<img src=\"https://drive.google.com/uc?id=1rNpRp4kiWQ9tVOgY_l_qwn8XsPFZd74o\" width=500/>\n"
      ]
    },
    {
      "cell_type": "markdown",
      "metadata": {
        "id": "-fIiVBSP5npw"
      },
      "source": [
        "Python provides two looping statements: `while` and `for`\n",
        "\n",
        "## `while` loop\n",
        "\n",
        "```python\n",
        "while Boolean expression:\n",
        "    block of code\n",
        "```\n",
        "\n",
        "In plain language, we can read the above statement as:\n",
        "-  *while the Boolean expression holds (`True`), then run the block of code that follows.*\n",
        "\n",
        "Remember that the Boolean expression *controls* the looping process. Therefore, at the end of every evaluation of the looping code block we need to make sure to update whatever\n",
        "value do we use in the Boolean expression for controlling the iterative process before re-evaluating the expression. Otherwise the looping will never end (**infinite loop**.)\n",
        "\n",
        "Proceeding from iteration to iteration requires the notion of a **controller**. This will be the control variable, so it **has** to be part of the Boolean expression\n",
        "\n",
        "Controller examples:\n",
        "- A variable that shows the number of iteration we are currently in. When the block of code finishes, the counter increases its value (usually by 1, but it can be any value), and a new iteration begins.\n",
        "  * In this case, the controller can also be expressed as a *counter*.\n",
        "- A value that is given from the user using the keyboard, and it executes the loop block of code for as long as the user gives a specific token (or a token in general). When the user instead gives an empty input, the iteration ends.\n",
        "- Sometimes the controller can be a fixed expression. In this case, since the expression cannot be changed, we need another way to exit the loop (more on that later).\n",
        "\n",
        "**Example:** Write a `while` loop that is executed as long as the user chooses \"Yes\" (`y`) as an input from the keyboard, and exits otherwise."
      ]
    },
    {
      "cell_type": "code",
      "execution_count": null,
      "metadata": {
        "colab": {
          "base_uri": "https://localhost:8080/"
        },
        "id": "HDr9WelaiSOF",
        "outputId": "ab51b9d3-6160-4469-a781-3c10fb174509"
      },
      "outputs": [
        {
          "name": "stdout",
          "output_type": "stream",
          "text": [
            "Enter value for check (y/n): n\n",
            "Process finished\n"
          ]
        }
      ],
      "source": [
        "check = input(\"Enter value for check (y/n): \")\n",
        "\n",
        "while check == 'y':\n",
        "  print(\"Hello!\")\n",
        "  check = input(\"Do you wish to continue? (y/n) \")\n",
        "print(\"Process finished\")"
      ]
    },
    {
      "cell_type": "code",
      "execution_count": null,
      "metadata": {
        "id": "d_45v0Q0Pwi2"
      },
      "outputs": [],
      "source": []
    },
    {
      "cell_type": "markdown",
      "metadata": {
        "id": "xQL8tUAxRR6f"
      },
      "source": [
        "**Example**: Write a Python code that calculates the square of an integer using while loop"
      ]
    },
    {
      "cell_type": "code",
      "execution_count": null,
      "metadata": {
        "id": "YBeK5SG05npw"
      },
      "outputs": [],
      "source": [
        "x = 5\n",
        "ans = 0\n",
        "num_iterations = 0\n",
        "while num_iterations < x:\n",
        "    ans = ans + x\n",
        "    num_iterations = num_iterations + 1\n",
        "print(f'{x}*{x} = {ans}')"
      ]
    },
    {
      "cell_type": "code",
      "execution_count": null,
      "metadata": {
        "id": "bPtO_9B0SA44"
      },
      "outputs": [],
      "source": [
        "n = input(\"Enter value for n: \")"
      ]
    },
    {
      "cell_type": "markdown",
      "metadata": {
        "id": "ghd43WFBRvbj"
      },
      "source": [
        "In the previous two examples we saw two different types of Boolean conditions that were used for controlling the `while` loop."
      ]
    },
    {
      "cell_type": "markdown",
      "metadata": {
        "id": "-AXHutXI5npw"
      },
      "source": [
        "**Finger exercise**: Replace the comment in the following code with a `while` loop.\n",
        "```python\n",
        "num_x = int(input('How many times should I print the letter X? '))\n",
        "to_print = ''\n",
        "#concatenate X to to_print num_x times\n",
        "print(to_print)\n",
        "```"
      ]
    },
    {
      "cell_type": "markdown",
      "metadata": {
        "id": "wDeEoXTu5npx"
      },
      "source": [
        "## `for` loop\n",
        "\n",
        "This is the second type of iterative process we have in Python.\n",
        "\n",
        "Structurally it is different than `while`, in that we don't use a Boolean expression like we did earlier.\n",
        "\n",
        "However, that is a misconception; we will see now why.\n",
        "\n",
        "The `for` loop is very efficient, and simpler to use than `while`, if number of iterations is known **in advance**.\n",
        "\n",
        "Logic behind `for` loop:\n",
        "- the iterative process runs for a given *sequence* of objects (e.g., range of numbers, values in a sequential object, files in a folder), and an *iterator variable* is used to **point** to each object of the sequence on every iteration, until there are no more objects.\n",
        "\n",
        "Syntax:\n",
        "```python\n",
        "for variable in sequence:\n",
        "    code block\n",
        "```\n",
        "\n",
        "No need for a *controller* like in `while`; `for` loop defines internally a counter that distinguishes iteration from iteration  within `sequence` statement. This happens automatically.\n",
        "\n",
        "The illustration below shows how the looping proceeds. On every iteration, the next object in the sequence is assigned on the iterator variable, until the sequence is exhausted and the process completes.\n",
        "\n",
        "<img src=\"https://drive.google.com/uc?id=1GD9r5IkmogrC7DxALwTp0agI0u2GuFpz\" width=800/>\n"
      ]
    },
    {
      "cell_type": "markdown",
      "metadata": {
        "id": "yHtlIUqU5npx"
      },
      "source": [
        "The `sequence` object can be a sequence of elements that are given in order, or it can be a sequence where no specific order is observed.\n",
        "\n",
        "We will see more options about these types of sequences when we will discuss about `tuple` and `list` types."
      ]
    },
    {
      "cell_type": "markdown",
      "metadata": {
        "id": "xw5VlO5g5npx"
      },
      "source": [
        "### `range()` function\n",
        "\n",
        "The first example of a sequential object we will see is by using the function `range()`.\n",
        "\n",
        "The built-in function **range()** returns a sequence of integers in a clear order.\n",
        "\n",
        "It takes three main arguments:\n",
        " - `start`- denotes the first value in the sequence (inclusive).\n",
        "  * Default value: 0\n",
        " - `end`- denotes the last value (exclusive).\n",
        " - `step`- denotes the (integer) increments.\n",
        "  * Default value: 1\n",
        "\n",
        "<u>Format:</u>\n",
        "```\n",
        "range(start, end, step)\n",
        "```\n",
        "$\\Rightarrow$\n",
        "```\n",
        "start, start + step, start + 2*step,...\n",
        "```\n",
        "\n",
        "Mathematically, `range()` is expressed as:\n",
        "```\n",
        "[start, end)\n",
        "```\n",
        "\n",
        "`range()` can generate range of numerical values either on an ascending (`start < end`) or descending (`start > end`) order.\n",
        "\n",
        "If the total number of iterations is `I`, `start + I*step` will be strictly less than `end` for incremental sequence and strictly more than `end` for the opposite.\n",
        "- `start + I*step < end` for ascending order.\n",
        "- `start + I*step > end` for descending order.\n",
        "\n",
        "**Examples**:\n",
        "\n",
        "`(5, 40, 10)` $\\Rightarrow$ `5, 15, 25, 35`\n",
        "\n",
        "If the default `step` value is needed, it can be omitted:\n",
        "`range(0,4,1)` $\\Rightarrow$ `range(0,4)` $\\Rightarrow$ `0,1,2,3`\n",
        "\n",
        "If our sequence starts from 0, the default value for `start`, it can also be omitted. However we have to be careful:\n",
        "- If the default value for `step` is used, then both the `start` and `step` values can be omitted: `range(0,4,1)` $\\Rightarrow$ `range(4)` $\\Rightarrow$ `0,1,2,3`\n",
        "- However, if the `step` is other than 1, then we have to include the `start` value, even if it is the default one. That is because if we write `range(4,2)` thinking of `end=4` and `step=2`, the interpreter will instead see `start=4`, `end=2`.\n",
        "\n",
        "Negative step values are also possible, in case the `start > end`.\n",
        "```python\n",
        "for i in range(40, 5, -10):\n",
        "    #do something\n",
        "```"
      ]
    },
    {
      "cell_type": "markdown",
      "metadata": {
        "id": "46vQJMZrcJHO"
      },
      "source": [
        "**Example:** Define an integer variable `x=4` and use a `for` loop to iterate over a range that uses `x` as the `end` value; keep `start` and `step` on their default values."
      ]
    },
    {
      "cell_type": "code",
      "execution_count": null,
      "metadata": {
        "id": "net6lqEB5npx",
        "outputId": "630fd145-0b4b-4d79-d71e-d991b5dbc617"
      },
      "outputs": [
        {
          "name": "stdout",
          "output_type": "stream",
          "text": [
            "0\n",
            "1\n",
            "2\n",
            "3\n"
          ]
        }
      ],
      "source": [
        "x = 4\n",
        "for i in range(x):\n",
        "    print(i)"
      ]
    },
    {
      "cell_type": "markdown",
      "metadata": {
        "id": "raJRphZJ5npx"
      },
      "source": [
        "`range()` shares many similarities to the string slicing operation:\n",
        "\n",
        "`range(3)` $\\Rightarrow$ `range(0,3)`\n",
        "\n",
        "`range()` numbers produced in \"as needed\" basis, so it consumes little memory\n",
        "\n",
        "Let's now revisit the example above where we used a `while` loop to calculate the squared value of an integer, this time using a `for` loop:"
      ]
    },
    {
      "cell_type": "code",
      "execution_count": null,
      "metadata": {
        "id": "-0ytUIsH5npx",
        "outputId": "21d9445a-6b71-4b31-f5ae-fdb1a176c8f7"
      },
      "outputs": [
        {
          "name": "stdout",
          "output_type": "stream",
          "text": [
            "3*3 = 9\n"
          ]
        }
      ],
      "source": [
        "x = 3\n",
        "ans = 0\n",
        "\n",
        "for iter in range(x):\n",
        "    ans = ans + x\n",
        "print(f'{x}*{x} = {ans}')"
      ]
    },
    {
      "cell_type": "markdown",
      "metadata": {
        "id": "YHc1FVyCbxk_"
      },
      "source": [
        "As we see here, using `for` leads to a more neat and simple code.\n",
        "- No need for controlling the loop using a `num_iterations` variable; the number of iterations is known in advance anyway."
      ]
    },
    {
      "cell_type": "markdown",
      "metadata": {
        "id": "uNoWo1K25npx"
      },
      "source": [
        "## How to intervene to a loop process\n",
        "\n",
        "Sometimes, it might be necessary to exit from an iterative process before it is over; alternatively, we may need to skip some iterations and proceed with the next one.\n",
        "\n",
        "For those cases, Python provides the keywords `break` and `continue`.\n",
        "\n",
        "### `break`\n",
        "In case we want to exit a loop process before reaching the maximum number of iterations, we use `break`.\n",
        "\n",
        "**break:** a statement that, when executed, terminates the loop and transfers the control to the code statement immediately following the loop (outside the loop.)\n",
        "\n",
        "**Example:** Starting from 9, print integers in a decreasing order, until you reach 6. The process will break when the next value to be printed is 5."
      ]
    },
    {
      "cell_type": "code",
      "execution_count": null,
      "metadata": {
        "colab": {
          "base_uri": "https://localhost:8080/"
        },
        "id": "S-gJIRac5npx",
        "outputId": "f69cee34-807b-4bba-b585-4590537bc6a2"
      },
      "outputs": [
        {
          "name": "stdout",
          "output_type": "stream",
          "text": [
            "Current variable value : 9\n",
            "Current variable value : 8\n",
            "Current variable value : 7\n",
            "Current variable value : 6\n",
            "Good bye!\n"
          ]
        }
      ],
      "source": [
        "var = 10\n",
        "while var > 0:\n",
        "    var = var-1\n",
        "    if var == 5:\n",
        "        break\n",
        "    print('Current variable value :', var)\n",
        "print(\"Good bye!\")"
      ]
    },
    {
      "cell_type": "markdown",
      "metadata": {
        "id": "eCYFLJMa5npx"
      },
      "source": [
        "### `continue`\n",
        "\n",
        "What if we want to skip parts of the loop (but not exit prematurely)?\n",
        "\n",
        "**continue:** terminates the current iteration of the statement, skips any code statements following in the current iteration and the control flows to the next iteration of the loop.\n",
        "\n",
        "**Example:** Rewrite the previous example, but this time skip printing only value 5, continue until you reach 0."
      ]
    },
    {
      "cell_type": "code",
      "execution_count": null,
      "metadata": {
        "colab": {
          "base_uri": "https://localhost:8080/"
        },
        "id": "L0waOKiN5npx",
        "outputId": "2a8c502a-9253-4b61-88bc-39e5da536dd1"
      },
      "outputs": [
        {
          "name": "stdout",
          "output_type": "stream",
          "text": [
            "Current variable value : 9\n",
            "Current variable value : 8\n",
            "Current variable value : 7\n",
            "Current variable value : 6\n",
            "Current variable value : 4\n",
            "Current variable value : 3\n",
            "Current variable value : 2\n",
            "Current variable value : 1\n",
            "Current variable value : 0\n",
            "Good bye!\n"
          ]
        }
      ],
      "source": [
        "var = 10\n",
        "while var > 0:\n",
        "    var = var-1\n",
        "    if var == 5:\n",
        "      continue\n",
        "    print('Current variable value :', var)\n",
        "print(\"Good bye!\")"
      ]
    },
    {
      "cell_type": "markdown",
      "metadata": {
        "id": "fOXRIawX5npx"
      },
      "source": [
        "Both `break` and `continue` work in any type of looping we saw."
      ]
    },
    {
      "cell_type": "markdown",
      "metadata": {
        "id": "lSSvoUgD5npy"
      },
      "source": [
        "<img src=\"https://drive.google.com/uc?id=1rsm6sP8XQr8SIhxDyan_eRydvYwX-CvS\" width=800/>\n"
      ]
    },
    {
      "cell_type": "markdown",
      "metadata": {
        "id": "yzuE880Yd_vS"
      },
      "source": [
        "## Nested loops\n",
        "\n",
        "Similarly to nested `if-else` statements, nested loops can also be used in many cases:\n",
        "- Iterating over the elements of a 2D matrix (or any dimensionality size larger than 2).\n",
        "- Iterating over multiple sequences (as is the case of identifying prime numbers over a given range of values).\n",
        "\n",
        "Nested loops can contain purely `while` or `for` loop processes, or combinations of the two.\n",
        "\n",
        "- Example 1: nested `for` loops\n",
        "```python\n",
        "for var1 in seq1:\n",
        "      for var2 in seq2:\n",
        "            # do something\n",
        "```\n",
        "\n",
        "- Example 2: nested `while` loops\n",
        "```python\n",
        "cntr = ...\n",
        "while expr1:\n",
        "    cntr2 = ...\n",
        "    while expr2:\n",
        "      # do something\n",
        "```\n",
        "-Example 3: combination of nested `for` and `while`\n",
        "```python\n",
        "for var in seq:\n",
        "    cntr = ...\n",
        "    while expr:\n",
        "      # do something\n",
        "```\n",
        "\n",
        "Of course, these are not exhaustive examples. There are no rules set in stone on how one combines iterative processes, as long as they work as expected.\n",
        "\n"
      ]
    },
    {
      "cell_type": "markdown",
      "metadata": {
        "id": "2MNFkRRn5npx"
      },
      "source": [
        "**Finger exercise**: Write a program that prints the sum of the prime numbers greater than 2 and up to 1000."
      ]
    },
    {
      "cell_type": "code",
      "execution_count": null,
      "metadata": {
        "id": "l2jL2WpP5npx"
      },
      "outputs": [],
      "source": [
        "start = 2\n",
        "end = 1000\n",
        "total = 0\n",
        "\n",
        "for num in range(start, end + 1):\n",
        "    # all prime numbers are greater than 1\n",
        "    flag = False\n",
        "    for i in range(2,num):\n",
        "        if (num%i==0):\n",
        "            flag = True\n",
        "            break\n",
        "    if flag == False:\n",
        "        total += num\n",
        "        print(num)\n",
        "print(total)"
      ]
    },
    {
      "cell_type": "markdown",
      "metadata": {
        "id": "p9Xc3HX35npy"
      },
      "source": [
        "\n",
        "\n",
        "**Example:** Write a Python program that produces the following star patterns:\n",
        "- Full square\n",
        "\n",
        "```\n",
        " *   *   *   *   *  \n",
        "\n",
        " *   *   *   *   *  \n",
        "\n",
        " *   *   *   *   *  \n",
        "\n",
        " *   *   *   *   *  \n",
        "\n",
        " *   *   *   *   *  \n",
        "```\n",
        "- Empty square\n",
        "\n",
        "```\n",
        " *  *  *  *  *  \n",
        "\n",
        " *           *  \n",
        "\n",
        " *           *  \n",
        "\n",
        " *           *  \n",
        "\n",
        " *  *  *  *  *\n",
        "```"
      ]
    },
    {
      "cell_type": "code",
      "execution_count": null,
      "metadata": {
        "colab": {
          "base_uri": "https://localhost:8080/"
        },
        "id": "jd4MME4L5npy",
        "outputId": "eb243907-028c-4b8a-9409-85c2caac8e2e"
      },
      "outputs": [
        {
          "name": "stdout",
          "output_type": "stream",
          "text": [
            " *   *   *   *   *  \n",
            "\n",
            " *   *   *   *   *  \n",
            "\n",
            " *   *   *   *   *  \n",
            "\n",
            " *   *   *   *   *  \n",
            "\n",
            " *   *   *   *   *  \n",
            "\n"
          ]
        }
      ],
      "source": [
        "for i in range(5):\n",
        "    for j in range(5):\n",
        "        print(\" * \", end=\" \")\n",
        "    print(\"\\n\")"
      ]
    },
    {
      "cell_type": "code",
      "execution_count": null,
      "metadata": {
        "colab": {
          "base_uri": "https://localhost:8080/"
        },
        "id": "qnJgvOhP5npy",
        "outputId": "e3fb1dbb-f68e-4961-9997-bb3de5419b16"
      },
      "outputs": [
        {
          "name": "stdout",
          "output_type": "stream",
          "text": [
            "*  *  *  *  *  \n",
            "\n",
            "*           *  \n",
            "\n",
            "*           *  \n",
            "\n",
            "*           *  \n",
            "\n",
            "*  *  *  *  *  \n",
            "\n"
          ]
        }
      ],
      "source": [
        "for i in range(5):\n",
        "    for j in range(5):\n",
        "        if i == 0 or i == 4 or j == 0 or j == 4:\n",
        "            print(\"*\", end=\"  \")\n",
        "        else:\n",
        "            print(\" \", end=\"  \")\n",
        "    print(\"\\n\")"
      ]
    },
    {
      "cell_type": "markdown",
      "metadata": {
        "id": "X7Nxeu6-5npy"
      },
      "source": [
        "## Comment section: Similarities and differences between `while` and `for` loops\n",
        "\n",
        "| For loop                                     \t| While loop                                                                           \t|\n",
        "|----------------------------------------------\t|--------------------------------------------------------------------------------------\t|\n",
        "| Known number of<br>iterations<br><br>         \t| Unbounded number of<br>iterations                                                    \t|\n",
        "| Can end early via<br>break                   \t| Can end early via break                                                              \t|\n",
        "| Uses a counter                               \t| Can use a counter but<br>must initialize before loop<br>and increment it inside loop \t|\n",
        "| Can rewrite a for loop<br>using a while loop \t| May not be able to<br>rewrite a while loop using<br>a for loop         "
      ]
    },
    {
      "cell_type": "markdown",
      "metadata": {
        "id": "eQhnOWhIK_wH"
      },
      "source": [
        "#---------------------------------------------------------------------------------------------------------------------------------------------#"
      ]
    },
    {
      "cell_type": "markdown",
      "metadata": {
        "id": "QWqYxuPW4gCx"
      },
      "source": [
        "# Applications of conditionals and iterations combined"
      ]
    },
    {
      "cell_type": "markdown",
      "metadata": {
        "id": "dew6aP9h4gOE"
      },
      "source": [
        "## Exhaustive enumeration\n",
        "\n",
        "Algorithmic technique that is used to enumerate all possibilities over an iteration until we get to the right answer or exhaust\n",
        "the space of possibilities.\n",
        "\n",
        "Easy to implement and understand.\n",
        "\n",
        "In most cases runs fast enough for all practical purposes.\n",
        "\n",
        "Exhaustive enumeration is also known as *guess-and-check*.\n",
        "\n",
        "During guess-and-check, given a problem:\n",
        "- you are able to guess a value for solution\n",
        "- you are able to check if the solution is correct\n",
        "- keep guessing until find solution or guessed all values\n",
        "\n",
        "Let's see how that works in code that finds the cube root of a perfect cube"
      ]
    },
    {
      "cell_type": "code",
      "execution_count": null,
      "metadata": {
        "id": "lP19_V0k4gOF"
      },
      "outputs": [],
      "source": [
        "cube = 8\n",
        "for guess in range(cube+1):\n",
        "    if guess**3 == cube:\n",
        "        print(\"Cube root of\", cube, \"is\", guess)"
      ]
    },
    {
      "cell_type": "code",
      "execution_count": null,
      "metadata": {
        "id": "FHYV2vwI4gOF"
      },
      "outputs": [],
      "source": [
        "cube = -7406961012236344616\n",
        "for guess in range(abs(cube)+1):\n",
        "    if guess**3 >= abs(cube):\n",
        "        break\n",
        "if guess**3 != abs(cube):\n",
        "    print(cube, 'is not a perfect cube')\n",
        "else:\n",
        "    if cube < 0:\n",
        "        guess = -guess\n",
        "    print('Cube root of '+str(cube)+' is '+str(guess))"
      ]
    },
    {
      "cell_type": "markdown",
      "metadata": {
        "id": "rya1JfmP4gOF"
      },
      "source": [
        "This probably does not seem very important information, don't you think? Besides, why use exhaustive enumeration? What's the purpose of it?\n",
        "\n",
        "**Answer**:\n",
        "- Practically may not be that important. However, it is a good way to understand how looping works\n",
        "- In both previous examples, loops shouldered most of the computational burden\n",
        "- This way you can observe that CPU runtimes in modern computers are very low, even for computation-intensive applications"
      ]
    },
    {
      "cell_type": "markdown",
      "metadata": {
        "id": "zt3R9lqW4gOF"
      },
      "source": [
        "**Finger exercise**: Write a program that asks the user to enter an integer and prints two integers, `root` and `pwr`, such that `0 < pwr < 6` and `root**pwr` is equal to the integer entered by the user. If no such pair of integers exists, it should print a message to that effect."
      ]
    },
    {
      "cell_type": "markdown",
      "metadata": {
        "id": "YLUImXh34gOG"
      },
      "source": [
        "Let's look at another example of exhaustive enumeration: test whether an integer is a prime number and returning the smallest divisor if it is not.\n",
        "\n",
        "**Approach**: An integer `x > 3` is prime if no remainder of the divisions `x / i, i=2,...,x-1` is 0, otherwise x is\n",
        "not a prime."
      ]
    },
    {
      "cell_type": "code",
      "execution_count": null,
      "metadata": {
        "id": "h_dIF7g44gOG"
      },
      "outputs": [],
      "source": [
        "x = int(input(\"Enter an integer greater than 2: \"))\n",
        "smallest_divisor = None\n",
        "\n",
        "for guess in range(2, x):\n",
        "    if x%guess == 0:\n",
        "        smallest_divisor = guess\n",
        "        break\n",
        "\n",
        "if smallest_divisor != None:\n",
        "    print(\"smallest divisor of \", x, \" is: \", smallest_divisor)\n",
        "else:\n",
        "    print(x,\"is a prime number\")"
      ]
    },
    {
      "cell_type": "markdown",
      "metadata": {
        "id": "IqJlxdQt4gOG"
      },
      "source": [
        "Exhaustive enumeration occurs within the `for` loop, which exits prematurely (`break`) if a smallest divisor is found, otherwise all possible divisors have been tested"
      ]
    },
    {
      "cell_type": "markdown",
      "metadata": {
        "id": "z2K36e9T4gOG"
      },
      "source": [
        "## Approximate solutions and bisection\n",
        "\n",
        "**Example**: We want to write a program that calculates the cube root of a nonnegative number\n",
        "\n",
        "The solution is not straightforward. E.g., calculating the cube root of 27 is easy, but what about the square root of 2?\n",
        "\n",
        "Cube root of 2 is not a rational number $\\rightarrow$ cannot be precisely represented with a finite number of digits\n",
        "\n",
        "**Solution**: write a program that finds an **approximation** to the cube root, that is a close enough value\n",
        "\n",
        "Approximate solutions usually require a notion of a small value (*epsilon*) that denotes the \"distance\" between the current answer and the actual answer\n",
        "\n",
        "Let's see an example of a code that calculates the square root:\n",
        "\n",
        "<!--\n",
        "```python\n",
        "cube = 27\n",
        "epsilon = 0.01\n",
        "guess = 0.0\n",
        "increment = 0.0001\n",
        "num_guesses = 0\n",
        "while abs(guess**3 - cube) >= epsilon:\n",
        "    guess += increment\n",
        "    num_guesses += 1\n",
        "print('num_guesses =', num_guesses)\n",
        "if abs(guess**3 - cube) >= epsilon:\n",
        "    print('Failed on cube root of', cube)\n",
        "else:\n",
        "    print(guess, 'is close to the cube root of', cube)\n",
        "```\n",
        "-->\n",
        "\n",
        "Special operators:\n",
        "- `ans += step` $\\Rightarrow$ `ans = ans + step`\n",
        "- `ans -= step` $\\Rightarrow$ `ans = ans - step`\n",
        "- `ans *= step` $\\Rightarrow$ `ans = ans * step`"
      ]
    },
    {
      "cell_type": "code",
      "execution_count": null,
      "metadata": {
        "id": "u3r3f19U4gOG"
      },
      "outputs": [],
      "source": [
        "cube = 10\n",
        "epsilon = 0.0001\n",
        "guess = 0.0\n",
        "increment = 0.00001\n",
        "num_guesses = 0\n",
        "\n",
        "while abs(guess**3 - cube) >= epsilon:\n",
        "    guess += increment\n",
        "    num_guesses += 1\n",
        "print('num_guesses =', num_guesses)\n",
        "\n",
        "if abs(guess**3 - cube) >= epsilon:\n",
        "    print('Failed on cube root of', cube)\n",
        "else:\n",
        "    print(guess, 'is close to the cube root of', cube)"
      ]
    },
    {
      "cell_type": "markdown",
      "metadata": {
        "id": "3enUQger4gOG"
      },
      "source": [
        "As you probably guessed, the above code fragment uses exhaustive enumeration\n",
        "\n",
        "What about the result then? It's not equal to 3, as we might have expected, right?\n",
        "\n",
        "That's not a bad thing, the code did what was intended to do\n",
        "\n",
        "The previous code example runs quite fast, but that will not be the case always\n",
        "\n",
        "In this case, exhaustive enumeration will probably take a long time to run\n",
        "\n",
        "So, how we solve this? **Bisection**\n",
        "\n",
        "For the cube root example, let's assume that a good approximation is somewhere between 0 and a `max` value\n",
        "\n",
        "We also know that numbers are totally ordered:\n",
        "- for any two numbers `n1` and `n2`, it is either `n1 < n2` or `n1 > n2`"
      ]
    },
    {
      "cell_type": "markdown",
      "metadata": {
        "id": "09ZdSTHZ4gOG"
      },
      "source": [
        "Bisection search:\n",
        "- half interval each iteration\n",
        "- new guess is halfway in between\n",
        "\n",
        "Let's see an illustrative example:\n",
        "\n",
        "<img src=\"https://drive.google.com/uc?id=1EoYma5afzv-_9QugLRX1epR2qpx3wL-1\" width=800/>\n"
      ]
    },
    {
      "cell_type": "code",
      "execution_count": null,
      "metadata": {
        "id": "aLmwkag14gOG"
      },
      "outputs": [],
      "source": [
        "cube = 7406961012236344616\n",
        "epsilon = 0.1\n",
        "num_guesses = 0\n",
        "low = 0\n",
        "high = cube\n",
        "guess = (high + low)/2.0\n",
        "while abs(guess**3 - cube) >= epsilon:\n",
        "    if guess**3 < cube :\n",
        "        low = guess\n",
        "    else:\n",
        "        high = guess\n",
        "    guess = (high + low)/2.0\n",
        "    num_guesses += 1\n",
        "print('num_guesses =', num_guesses)\n",
        "print(guess, 'is close to the cube root of', cube)"
      ]
    },
    {
      "cell_type": "markdown",
      "metadata": {
        "id": "KezTv9jP4gOG"
      },
      "source": [
        "Code works only for `cube >= 1`\n",
        "\n",
        "**Finger exercise**: What about `cube < 1`? Or negative cube values?"
      ]
    },
    {
      "cell_type": "code",
      "execution_count": null,
      "metadata": {
        "id": "RHLdyMtG4gOH"
      },
      "outputs": [],
      "source": [
        "cube = .1\n",
        "epsilon = 0.01\n",
        "num_guesses = 0\n",
        "low = min(cube, -1)\n",
        "high = max(cube, 1)\n",
        "guess = (high + low)/2.0\n",
        "while abs(guess**3 - cube) >= epsilon:\n",
        "    if guess**3 < cube:\n",
        "        low = guess\n",
        "    else:\n",
        "        high = guess\n",
        "    guess = (high + low)/2.0\n",
        "    num_guesses += 1\n",
        "print('num_guesses =', num_guesses)\n",
        "print(guess, 'is close to the cube root of', cube)"
      ]
    },
    {
      "cell_type": "code",
      "execution_count": null,
      "metadata": {
        "id": "qGt7iYFS4gOH"
      },
      "outputs": [],
      "source": [
        "import numpy as np\n",
        "\n",
        "np.cbrt(0.1)"
      ]
    },
    {
      "cell_type": "code",
      "execution_count": null,
      "metadata": {
        "id": "4hAGco1M4gOH"
      },
      "outputs": [],
      "source": [
        "cube = -27\n",
        "epsilon = 0.01\n",
        "num_guesses = 0\n",
        "low = 0\n",
        "high = cube\n",
        "guess = (high + low)/2.0\n",
        "while abs(guess**3 - cube) >= epsilon:\n",
        "    if guess**3 > cube :\n",
        "        low = guess\n",
        "    else:\n",
        "        high = guess\n",
        "    guess = (high + low)/2.0\n",
        "    num_guesses += 1\n",
        "print('num_guesses =', num_guesses)\n",
        "print(guess, 'is close to the cube root of', cube)"
      ]
    },
    {
      "cell_type": "markdown",
      "metadata": {
        "id": "kTeO6Zly4gOH"
      },
      "source": [
        "### <up>*<up/>Famous bisection algorithm: Newton-Raphson\n",
        "\n",
        "Used to find roots of many functions\n",
        "\n",
        "Let's see how to use it to find roots of a single-variable polynomial\n",
        "\n",
        "With `p` a polynomial and `r` a real number:\n",
        "- `p(r)` is the value of the polynomial when `x = r`\n",
        "- A root of the polynomial `p` is a solution to the equation `p(r) = 0`\n",
        "    \n",
        "Newton-Raphson suggests that:\n",
        "- if a value `guess` is an approximation to a root of a polynomial, then:\n",
        "    * `guess – p(guess)/p’(guess)`, where `p’` is the first derivative of `p`, is a better approximation\n",
        "    * **Example**: the first derivative of $x^2 - k$ is $2x$; We can improve on the current guess `y` as $y - (y^2 - k)/2y$\n",
        "    \n",
        "* **Finger exercise**: Finding an approximation to the square root of `24` can be formulated as finding an `x` s.t.: $x^2 – 24 ≈ 0$"
      ]
    },
    {
      "cell_type": "code",
      "execution_count": null,
      "metadata": {
        "colab": {
          "base_uri": "https://localhost:8080/"
        },
        "id": "axc748S44gOH",
        "outputId": "d23dd83f-bd7f-4ea3-a518-fbbcb91db640"
      },
      "outputs": [
        {
          "name": "stdout",
          "output_type": "stream",
          "text": [
            "Square root of 24.0 is about 4.8989887432139305\n"
          ]
        }
      ],
      "source": [
        "epsilon = 0.01\n",
        "k = 24.0\n",
        "guess = k/2.0\n",
        "while abs(guess*guess - k) >= epsilon:\n",
        "    guess = guess - (((guess**2) - k)/(2*guess))\n",
        "print('Square root of', k, 'is about', guess)"
      ]
    },
    {
      "cell_type": "code",
      "execution_count": null,
      "metadata": {
        "colab": {
          "base_uri": "https://localhost:8080/"
        },
        "id": "40VhoOFu4gOH",
        "outputId": "fab59e24-c75e-4a16-d7ce-ab4cf62826ae"
      },
      "outputs": [
        {
          "data": {
            "text/plain": [
              "24.000090706136806"
            ]
          },
          "execution_count": 2,
          "metadata": {},
          "output_type": "execute_result"
        }
      ],
      "source": [
        "4.8989887432139305**2"
      ]
    },
    {
      "cell_type": "markdown",
      "metadata": {
        "id": "_gREmju6KPb4"
      },
      "source": [
        "ROCK PAPER SCISSORS EXAMPLE:"
      ]
    },
    {
      "cell_type": "code",
      "execution_count": null,
      "metadata": {
        "colab": {
          "base_uri": "https://localhost:8080/"
        },
        "id": "Q1T46TEK4gOI",
        "outputId": "149053ff-e751-4e3d-f03b-71d2d80fc235"
      },
      "outputs": [
        {
          "name": "stdout",
          "output_type": "stream",
          "text": [
            "Enter rock, paper, or scissors: rock\n",
            "Your Choice: rock\n",
            "PC Choice: rock\n",
            "tie\n"
          ]
        }
      ],
      "source": [
        "user_input = input('Enter rock, paper, or scissors: ')\n",
        "print('Your Choice:',user_input)\n",
        "\n",
        "import random\n",
        "pc_choice= random.choice(['rock','paper','scissors'])\n",
        "print('PC Choice:',pc_choice)\n",
        "\n",
        "if(user_input == pc_choice):\n",
        "  print('tie')\n",
        "if (user_input == 'scissors' and pc_choice == 'rock'):\n",
        "  print('you lose')\n",
        "if (user_input == 'scissors' and pc_choice == 'paper'):\n",
        "  print('YOU WIN!')\n",
        "if (user_input == 'paper' and pc_choice == 'scissors'):\n",
        "  print('you lose')\n",
        "if (user_input == 'paper' and pc_choice == 'rock'):\n",
        "  print('YOU WIN!')\n",
        "if (user_input == 'rock' and pc_choice == 'scissors'):\n",
        "  print('YOU WIN!')\n",
        "if (user_input == 'rock' and pc_choice == 'paper'):\n",
        "  print('you lose')"
      ]
    },
    {
      "cell_type": "code",
      "execution_count": null,
      "metadata": {
        "colab": {
          "base_uri": "https://localhost:8080/"
        },
        "id": "u8nJ5eUiKWqD",
        "outputId": "4a8f816c-cacf-482a-b180-e2effb217634"
      },
      "outputs": [
        {
          "name": "stdout",
          "output_type": "stream",
          "text": [
            "Enter rock, paper, or scissors: rock\n",
            "Your Choice: rock\n",
            "Bad Input: Enter rock, paper, or scissors\n",
            "PC Choice: scissors\n",
            "YOU WIN!\n"
          ]
        }
      ],
      "source": [
        "#Most efficient way\n",
        "\n",
        "user_input = input('Enter rock, paper, or scissors: ')\n",
        "print('Your Choice:',user_input)\n",
        "\n",
        "if (user_input != ['rock', 'paper','scissors']): #not necessary\n",
        "  print('Bad Input: Enter rock, paper, or scissors')\n",
        "\n",
        "\n",
        "import random\n",
        "pc_choice= random.choice(['rock','paper','scissors'])\n",
        "print('PC Choice:',pc_choice)\n",
        "\n",
        "if(user_input == pc_choice):\n",
        "  print('DRAW')\n",
        "elif(user_input == 'scissors' and pc_choice == 'paper') or (user_input == 'paper' and pc_choice == 'rock') or (user_input == 'rock' and pc_choice == 'scissors'):\n",
        "  print ('YOU WIN!')\n",
        "elif(user_input != ['rock', 'paper','scissors']): #not necessary\n",
        "  print('Winner could not be chosen')\n",
        "else:\n",
        "  print ('you lose')\n"
      ]
    },
    {
      "cell_type": "code",
      "execution_count": null,
      "metadata": {
        "colab": {
          "base_uri": "https://localhost:8080/"
        },
        "id": "AqjEUaT8mD2E",
        "outputId": "d006f62b-d4ad-46cc-da61-f515eb6c7e99"
      },
      "outputs": [
        {
          "name": "stdout",
          "output_type": "stream",
          "text": [
            "Enter your choice (rock, paper, or scissors): rock\n",
            "You chose: rock\n",
            "Computer chose: scissors\n",
            "You win!\n"
          ]
        }
      ],
      "source": [
        "import random # prof. code\n",
        "\n",
        "user_choice = input(\"Enter your choice (rock, paper, or scissors): \")\n",
        "computer_choice = random.choice([\"rock\", \"paper\", \"scissors\"])\n",
        "\n",
        "print(f\"You chose: {user_choice}\")\n",
        "print(f\"Computer chose: {computer_choice}\")\n",
        "\n",
        "if user_choice == computer_choice:\n",
        "    print(\"It's a tie!\")\n",
        "elif (\n",
        "    (user_choice == \"rock\" and computer_choice == \"scissors\") or\n",
        "    (user_choice == \"paper\" and computer_choice == \"rock\") or\n",
        "    (user_choice == \"scissors\" and computer_choice == \"paper\")\n",
        "):\n",
        "    print(\"You win!\")\n",
        "else:\n",
        "    print(\"Computer wins!\")"
      ]
    },
    {
      "cell_type": "code",
      "execution_count": null,
      "metadata": {
        "colab": {
          "base_uri": "https://localhost:8080/"
        },
        "id": "-LrabJneKX9s",
        "outputId": "f4b63e18-d2e0-4637-b3d0-8daba51b7916"
      },
      "outputs": [
        {
          "name": "stdout",
          "output_type": "stream",
          "text": [
            "Enter A Year:2024\n",
            "Leap Year\n"
          ]
        }
      ],
      "source": [
        "#Leap Year Check\n",
        "\n",
        "user_input=int(input('Enter A Year:'))\n",
        "\n",
        "if (user_input%4 == 0) and (user_input%100 !=0) or (user_input%400 ==0):\n",
        "  print('Leap Year')\n",
        "else:\n",
        "  print('Not a Leap Year')\n"
      ]
    },
    {
      "cell_type": "code",
      "execution_count": null,
      "metadata": {
        "colab": {
          "base_uri": "https://localhost:8080/"
        },
        "id": "E83sy7ZPmhl2",
        "outputId": "3863587b-832b-48fa-80bb-43a5af22df4f"
      },
      "outputs": [
        {
          "name": "stdout",
          "output_type": "stream",
          "text": [
            "Enter a year: 2024\n",
            "2024 is a leap year!\n"
          ]
        }
      ],
      "source": [
        "year = int(input(\"Enter a year: \"))\n",
        "\n",
        "if (year % 4 == 0 and year % 100 != 0) or (year % 400 == 0):\n",
        "    print(f\"{year} is a leap year!\")\n",
        "else:\n",
        "    print(f\"{year} is not a leap year.\")"
      ]
    },
    {
      "cell_type": "code",
      "execution_count": null,
      "metadata": {
        "colab": {
          "base_uri": "https://localhost:8080/"
        },
        "id": "JNk_wYkFx9QU",
        "outputId": "bd648067-8b7a-407e-abff-5307f0e2bdef"
      },
      "outputs": [
        {
          "name": "stdout",
          "output_type": "stream",
          "text": [
            "Collecting ColabTurtlePlus\n",
            "  Downloading ColabTurtlePlus-2.0.1-py3-none-any.whl (31 kB)\n",
            "Installing collected packages: ColabTurtlePlus\n",
            "Successfully installed ColabTurtlePlus-2.0.1\n"
          ]
        }
      ],
      "source": [
        "!pip install ColabTurtlePlus"
      ]
    },
    {
      "cell_type": "code",
      "execution_count": null,
      "metadata": {
        "colab": {
          "base_uri": "https://localhost:8080/",
          "height": 621
        },
        "id": "JwDTIbBiyVbu",
        "outputId": "d5a4e3bf-484a-4e34-a2da-01b51baed414"
      },
      "outputs": [
        {
          "data": {
            "text/html": [
              "\n",
              "      <svg width=\"800\" height=\"600\">  \n",
              "        <rect width=\"100%\" height=\"100%\" style=\"fill:white;stroke:;stroke-width:1\"/>\n",
              "        \n",
              "        \n",
              "        <path fill-rule=\"evenodd\" fill-opacity=\"1\" d=\"M 400.0 300.0  L 500.0 300.0  L 500.0 200.0  L 400.0 200.0  L 400.0 300.0 \" stroke-linecap=\"round\" style=\"stroke:black;stroke-width:1\" fill=\"green\" />\n",
              "        \n",
              "        \n",
              "        <g id=\"classic\" visibility=\"visible\" transform=\"rotate(-90,400.0,300.0) translate(400.0, 300.0)\">\n",
              "<polygon points=\"-5,-4.5 0,-2.5 5,-4.5 0,4.5\" transform=\"skewX(0) scale(1,1)\" style=\"stroke:black;fill:green;stroke-width:1\" />\n",
              "</g>\n",
              "      </svg>\n",
              "    "
            ],
            "text/plain": [
              "<IPython.core.display.HTML object>"
            ]
          },
          "metadata": {},
          "output_type": "display_data"
        }
      ],
      "source": [
        "from ColabTurtlePlus.Turtle import*\n",
        "\n",
        "clearscreen()\n",
        "\n",
        "color('black', 'green')\n",
        "begin_fill()\n",
        "\n",
        "forward(100)\n",
        "left(90)\n",
        "forward(100)\n",
        "left(90)\n",
        "forward(100)\n",
        "left(90)\n",
        "forward(100)\n",
        "left(90)\n",
        "\n",
        "end_fill()"
      ]
    },
    {
      "cell_type": "code",
      "execution_count": null,
      "metadata": {
        "colab": {
          "base_uri": "https://localhost:8080/",
          "height": 621
        },
        "id": "FFGEaLcn0Y4Z",
        "outputId": "91faab80-3d40-403b-97ed-c8e3cf8f08b0"
      },
      "outputs": [
        {
          "data": {
            "text/html": [
              "\n",
              "      <svg width=\"800\" height=\"600\">  \n",
              "        <rect width=\"100%\" height=\"100%\" style=\"fill:white;stroke:;stroke-width:1\"/>\n",
              "        \n",
              "        \n",
              "        <path fill-rule=\"evenodd\" fill-opacity=\"1\" d=\"M 400.0 300.0  L 500.0 300.0  L 500.0 200.0  L 400.0 200.0  L 400.0 300.0 \" stroke-linecap=\"round\" style=\"stroke:black;stroke-width:1\" fill=\"green\" />\n",
              "        \n",
              "        \n",
              "        <g id=\"classic\" visibility=\"visible\" transform=\"rotate(-90,400.0,300.0) translate(400.0, 300.0)\">\n",
              "<polygon points=\"-5,-4.5 0,-2.5 5,-4.5 0,4.5\" transform=\"skewX(0) scale(1,1)\" style=\"stroke:black;fill:green;stroke-width:1\" />\n",
              "</g>\n",
              "      </svg>\n",
              "    "
            ],
            "text/plain": [
              "<IPython.core.display.HTML object>"
            ]
          },
          "metadata": {},
          "output_type": "display_data"
        }
      ],
      "source": [
        "from ColabTurtlePlus.Turtle import* # range(start, end step)- only takes integer number inputs, and returns a sequence of numbers as output.\n",
        "#start default value is 0, step is 1\n",
        "#range(5,40,10)-- 5,15,25,35\n",
        "#range(5,20,5)-- 5,10,15 (cant go onto or past the end number)\n",
        "clearscreen()\n",
        "\n",
        "color('black', 'green')\n",
        "begin_fill()\n",
        "\n",
        "for i in range(4):\n",
        "  forward(100)\n",
        "  left(90)\n",
        "\n",
        "end_fill()"
      ]
    },
    {
      "cell_type": "code",
      "execution_count": null,
      "metadata": {
        "colab": {
          "base_uri": "https://localhost:8080/"
        },
        "id": "EfTkLXsw4kcl",
        "outputId": "b2878be4-cd8f-4be3-d2f7-ad39d8160018"
      },
      "outputs": [
        {
          "name": "stdout",
          "output_type": "stream",
          "text": [
            "5\n",
            "15\n",
            "25\n",
            "35\n"
          ]
        }
      ],
      "source": [
        "for i in range (5,40,10): #for var_name in sequence:\n",
        "  print(i) # ex: range (4)= range(0,4,1)-default (0,x,1)\n"
      ]
    },
    {
      "cell_type": "code",
      "execution_count": null,
      "metadata": {
        "colab": {
          "base_uri": "https://localhost:8080/"
        },
        "id": "X8hQSnMK482n",
        "outputId": "5eb6abfe-8ac0-4ae0-b47f-9a133557df77"
      },
      "outputs": [
        {
          "name": "stdout",
          "output_type": "stream",
          "text": [
            "5\n",
            "10\n",
            "15\n"
          ]
        }
      ],
      "source": [
        "for i in range (5,20,5):\n",
        "  print(i)"
      ]
    },
    {
      "cell_type": "code",
      "execution_count": null,
      "metadata": {
        "colab": {
          "base_uri": "https://localhost:8080/"
        },
        "id": "ALPRNYC564fz",
        "outputId": "15312ce9-1277-402f-cfc7-5788db69f6e0"
      },
      "outputs": [
        {
          "name": "stdout",
          "output_type": "stream",
          "text": [
            "1\n",
            "2\n",
            "3\n",
            "4\n",
            "5\n",
            "6\n",
            "7\n",
            "8\n",
            "9\n",
            "10\n",
            "11\n",
            "12\n"
          ]
        }
      ],
      "source": [
        "for i in range(1,13,1):\n",
        "  print(i)"
      ]
    },
    {
      "cell_type": "code",
      "execution_count": null,
      "metadata": {
        "colab": {
          "base_uri": "https://localhost:8080/"
        },
        "id": "Hy5Wi0bM8HR9",
        "outputId": "e2ad1a60-04c3-4818-ec9b-45d9912de1de"
      },
      "outputs": [
        {
          "name": "stdout",
          "output_type": "stream",
          "text": [
            "10\n",
            "9\n",
            "8\n",
            "7\n",
            "6\n"
          ]
        }
      ],
      "source": [
        "# step has to be negative if start value is greater than end\n",
        "\n",
        "for i in range(10,5,-1):\n",
        "  print(i)"
      ]
    },
    {
      "cell_type": "code",
      "execution_count": null,
      "metadata": {
        "colab": {
          "base_uri": "https://localhost:8080/"
        },
        "id": "2crXDoDy86dZ",
        "outputId": "5fc133c8-8d9d-4e9d-bd4a-f8be1875a01c"
      },
      "outputs": [
        {
          "name": "stdout",
          "output_type": "stream",
          "text": [
            "1. $7.5\n",
            "2. $10.0\n",
            "3. $12.5\n",
            "4. $15.0\n",
            "5. $17.5\n",
            "6. $20.0\n",
            "7. $22.5\n",
            "8. $25.0\n"
          ]
        }
      ],
      "source": [
        "def parking_fee(hours_parked):\n",
        "    base_fee = 5\n",
        "    hourly_rate = 2.5\n",
        "    total_fee = base_fee + hourly_rate * hours_parked\n",
        "    return total_fee\n",
        "\n",
        "for hours in range(1, 9):\n",
        "        fee = parking_fee(hours)\n",
        "        print(f\"{hours}. ${fee}\")"
      ]
    },
    {
      "cell_type": "code",
      "execution_count": null,
      "metadata": {
        "colab": {
          "base_uri": "https://localhost:8080/"
        },
        "id": "3tZIGXoFAioh",
        "outputId": "209ba94f-5338-41a9-d921-8e5bb478f8bb"
      },
      "outputs": [
        {
          "name": "stdout",
          "output_type": "stream",
          "text": [
            "1. $10\n",
            "2. $10.0\n",
            "3. $12.5\n",
            "4. $15.0\n",
            "5. $17.5\n",
            "6. $20.0\n",
            "7. $20\n",
            "8. $20\n"
          ]
        }
      ],
      "source": [
        "base_fee = 5\n",
        "hourly_rate = 2.5\n",
        "\n",
        "#everything has to be defined before it can be used, but in order.\n",
        "for hours in range(1, 9):\n",
        "    total_fee = base_fee + hourly_rate * hours\n",
        "    if total_fee<10:\n",
        "      total_fee=10\n",
        "    elif total_fee>20:\n",
        "      total_fee=20\n",
        "    print(f\"{hours:}. ${total_fee:}\")\n"
      ]
    },
    {
      "cell_type": "code",
      "execution_count": null,
      "metadata": {
        "id": "Iz28TwHePz8B"
      },
      "outputs": [],
      "source": [
        "import random # prof. code\n",
        "\n",
        "user_input = input(\"would you like to play? (y/n): \") # rock, paper, scissors with while loop.\n",
        "\n",
        "while user_input == 'y':\n",
        "  user_choice = input(\"Enter your choice (rock, paper, or scissors): \")\n",
        "  computer_choice = random.choice([\"rock\", \"paper\", \"scissors\"])\n",
        "\n",
        "  print(f\"You chose: {user_choice}\")\n",
        "  print(f\"Computer chose: {computer_choice}\")\n",
        "\n",
        "  if user_choice == computer_choice:\n",
        "    print(\"It's a tie!\")\n",
        "  elif (\n",
        "    (user_choice == \"rock\" and computer_choice == \"scissors\") or\n",
        "    (user_choice == \"paper\" and computer_choice == \"rock\") or\n",
        "    (user_choice == \"scissors\" and computer_choice == \"paper\")\n",
        "):\n",
        "    print(\"You win!\")\n",
        "  else:\n",
        "    print(\"Computer wins!\")\n",
        "\n",
        "  user_input = input(\"Do you wish to play again? (y/n) \")\n",
        "print('GAME OVER')"
      ]
    },
    {
      "cell_type": "code",
      "execution_count": null,
      "metadata": {
        "colab": {
          "background_save": true,
          "base_uri": "https://localhost:8080/"
        },
        "id": "PkWmxNcdR0iv",
        "outputId": "0668beef-d0ba-4f6d-db6a-a90ce4f5df46"
      },
      "outputs": [
        {
          "name": "stdout",
          "output_type": "stream",
          "text": [
            "1. $12500\n",
            "2. $15000\n",
            "3. $17500\n",
            "4. $20000\n",
            "5. $22500\n",
            "6. $25000\n",
            "7. $27500\n",
            "8. $30000\n",
            "9. $32500\n",
            "10. $35000\n",
            "11. $37500\n",
            "12. $40000\n",
            "13. $42500\n",
            "14. $45000\n",
            "15. $47500\n",
            "16. $50000\n",
            "17. $52500\n",
            "18. $55000\n",
            "19. $57500\n",
            "20. $60000\n",
            "21. $62500\n",
            "22. $65000\n",
            "23. $67500\n",
            "24. $70000\n",
            "25. $72500\n",
            "26. $75000\n",
            "27. $77500\n",
            "28. $80000\n",
            "29. $82500\n",
            "30. $85000\n",
            "31. $87500\n",
            "32. $90000\n",
            "33. $92500\n",
            "34. $95000\n",
            "35. $97500\n",
            "36. $100000\n",
            "it takes 36 months to save up to the down payment\n"
          ]
        }
      ],
      "source": [
        "down=100000\n",
        "deposit=10000\n",
        "n_months=0\n",
        "\n",
        "\n",
        "while deposit < down:\n",
        "  deposit= deposit+2500\n",
        "  n_months=n_months+1\n",
        "  print(f\"{n_months}. ${deposit}\")\n",
        "print(f\"it takes {n_months} months to save up to the down payment\")"
      ]
    },
    {
      "cell_type": "code",
      "source": [
        "\n",
        "    while True:\n",
        "        num1 = float(input(\"Enter first number: \"))\n",
        "        operator = input(\"Enter operator (+, -, *, /) or 'exit' to quit: \")\n",
        "\n",
        "        num2 = float(input(\"Enter second number: \"))\n",
        "\n",
        "        if operator == '+':\n",
        "            result = num1 + num2\n",
        "        elif operator == '-':\n",
        "            result = num1 - num2\n",
        "        elif operator == '*':\n",
        "            result = num1 * num2\n",
        "        elif operator == '/':\n",
        "                result = num1 / num2\n",
        "\n",
        "        else:\n",
        "            print(\"Invalid operator\")\n",
        "\n",
        "\n",
        "        print(f\"{num1} {operator} {num2} = {result}\")"
      ],
      "metadata": {
        "colab": {
          "base_uri": "https://localhost:8080/"
        },
        "id": "-SEjb1546XA-",
        "outputId": "8e8f8bc5-20b2-4d69-a6b3-6c6a30371830"
      },
      "execution_count": null,
      "outputs": [
        {
          "metadata": {
            "tags": null
          },
          "name": "stdout",
          "output_type": "stream",
          "text": [
            "5.0 + 2.0 = 7.0\n"
          ]
        }
      ]
    },
    {
      "cell_type": "code",
      "source": [
        "while True:\n",
        "\n",
        "  operator = input(\"Enter operator (+, -, *, /)\")\n",
        "\n",
        "  if operator = 'break':\n",
        "    print('Goodbye!')\n",
        "    break\n",
        "\n",
        "  num1 = float(input(\"Enter first number: \"))\n",
        "  num2 = float(input(\"Enter second number: \"))\n",
        "\n",
        "  if operator == \"+\":\n",
        "    print(f\"{num1}+{num2} = {num1 + num2}\")\n",
        "  elif operator == \"-\":\n",
        "    print(f\"{num1}-{num2} = {num1 - num2}\")\n",
        "  elif operator == \"/\":\n",
        "    print(f\"{num1}/{num2} = {num1 / num2}\")\n",
        "  elif operator == \"*\":\n",
        "    print(f\"{num1}*{num2} = {num1 * num2}\")\n",
        "  elif operator == \"**\":\n",
        "    print(f\"{num1}**{num2} = {num1 ** num2}\")\n",
        "  elif operator == \"//\":\n",
        "    print(f\"{num1}//{num2} = {num1 // num2}\")\n",
        "  elif operator == \"%\":\n",
        "    print(f\"{num1} modulo {num2} = {num1 % num2}\")\n",
        "  else:\n",
        "    print(f'Invalid operator:\\'{operator}\\'')\n",
        "    continue\n",
        "\n"
      ],
      "metadata": {
        "id": "cJcfOGZTDB82"
      },
      "execution_count": null,
      "outputs": []
    }
  ],
  "metadata": {
    "celltoolbar": "Slideshow",
    "colab": {
      "provenance": [],
      "include_colab_link": true
    },
    "kernelspec": {
      "display_name": "Python 3 (ipykernel)",
      "language": "python",
      "name": "python3"
    },
    "language_info": {
      "codemirror_mode": {
        "name": "ipython",
        "version": 3
      },
      "file_extension": ".py",
      "mimetype": "text/x-python",
      "name": "python",
      "nbconvert_exporter": "python",
      "pygments_lexer": "ipython3",
      "version": "3.8.2"
    }
  },
  "nbformat": 4,
  "nbformat_minor": 0
}