{
  "nbformat": 4,
  "nbformat_minor": 0,
  "metadata": {
    "colab": {
      "provenance": [],
      "authorship_tag": "ABX9TyNN1hsCGoxqhqFVHGGmDoRt",
      "include_colab_link": true
    },
    "kernelspec": {
      "name": "python3",
      "display_name": "Python 3"
    },
    "language_info": {
      "name": "python"
    }
  },
  "cells": [
    {
      "cell_type": "markdown",
      "metadata": {
        "id": "view-in-github",
        "colab_type": "text"
      },
      "source": [
        "<a href=\"https://colab.research.google.com/github/zacharyesquenazi/BTE320-Projects/blob/main/List_Creator_(populating_a_list_using_a_while_loop).ipynb\" target=\"_parent\"><img src=\"https://colab.research.google.com/assets/colab-badge.svg\" alt=\"Open In Colab\"/></a>"
      ]
    },
    {
      "cell_type": "code",
      "execution_count": null,
      "metadata": {
        "colab": {
          "base_uri": "https://localhost:8080/"
        },
        "id": "pmjhrRQsqadS",
        "outputId": "d810e119-01f6-4a27-d6b4-8ad7a39c0d16"
      },
      "outputs": [
        {
          "name": "stdout",
          "output_type": "stream",
          "text": [
            "Enter a value: 5\n",
            "Enter a value: 4\n",
            "Enter a value: 3\n",
            "Enter a value: 2\n",
            "Enter a value: 10\n",
            "Enter a value: 7\n",
            "Enter a value: 0\n"
          ]
        },
        {
          "output_type": "execute_result",
          "data": {
            "text/plain": [
              "[5, 4, 3, 2, 10, 7]"
            ]
          },
          "metadata": {},
          "execution_count": 1
        }
      ],
      "source": [
        "L=[]\n",
        "\n",
        "\n",
        "while True:\n",
        "    number = int(input('Enter a value: '))\n",
        "    if number == 0:\n",
        "        break\n",
        "    L.append(number)\n",
        "L"
      ]
    },
    {
      "cell_type": "code",
      "source": [
        "L=[]\n",
        "\n",
        "number = int(input('Enter a value: '))\n",
        "\n",
        "while number!=0:\n",
        "  L.append(number)\n",
        "  number = int(input('Enter a value: '))\n",
        "L"
      ],
      "metadata": {
        "colab": {
          "base_uri": "https://localhost:8080/"
        },
        "id": "lXw8tpdSqmX_",
        "outputId": "b69cbf79-2e14-41c1-9ebe-fdef2e4a3edb"
      },
      "execution_count": null,
      "outputs": [
        {
          "name": "stdout",
          "output_type": "stream",
          "text": [
            "Enter a value: 5\n",
            "Enter a value: 44\n",
            "Enter a value: 5\n",
            "Enter a value: 4\n",
            "Enter a value: 3\n",
            "Enter a value: 0\n"
          ]
        },
        {
          "output_type": "execute_result",
          "data": {
            "text/plain": [
              "[5, 44, 5, 4, 3]"
            ]
          },
          "metadata": {},
          "execution_count": 2
        }
      ]
    },
    {
      "cell_type": "code",
      "source": [
        "    List = []\n",
        "    while True:\n",
        "      userinput = int(input('Enter an integer to append to the list:'))\n",
        "      if userinput == 0:\n",
        "        break\n",
        "      List.append(userinput)\n",
        "      print(f'Here is your current list:{List}')\n",
        "\n",
        "    print(f'Here is your list: {List}')"
      ],
      "metadata": {
        "colab": {
          "base_uri": "https://localhost:8080/"
        },
        "id": "z0WANvaAi-Hq",
        "outputId": "99bf8c78-211f-408b-bbb0-6fd052af50d6"
      },
      "execution_count": 1,
      "outputs": [
        {
          "output_type": "stream",
          "name": "stdout",
          "text": [
            "Enter an integer to append to the list:5\n",
            "Here is your current list:[5]\n",
            "Enter an integer to append to the list:14\n",
            "Here is your current list:[5, 14]\n",
            "Enter an integer to append to the list:65\n",
            "Here is your current list:[5, 14, 65]\n",
            "Enter an integer to append to the list:4444\n",
            "Here is your current list:[5, 14, 65, 4444]\n",
            "Enter an integer to append to the list:23\n",
            "Here is your current list:[5, 14, 65, 4444, 23]\n",
            "Enter an integer to append to the list:891291\n",
            "Here is your current list:[5, 14, 65, 4444, 23, 891291]\n",
            "Enter an integer to append to the list:0\n",
            "Here is your list: [5, 14, 65, 4444, 23, 891291]\n"
          ]
        }
      ]
    }
  ]
}