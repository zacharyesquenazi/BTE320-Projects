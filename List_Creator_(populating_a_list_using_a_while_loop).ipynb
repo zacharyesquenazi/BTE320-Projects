{
  "nbformat": 4,
  "nbformat_minor": 0,
  "metadata": {
    "colab": {
      "provenance": [],
      "authorship_tag": "ABX9TyOViLY9v90jtS7PmdiM2m7v",
      "include_colab_link": true
    },
    "kernelspec": {
      "name": "python3",
      "display_name": "Python 3"
    },
    "language_info": {
      "name": "python"
    }
  },
  "cells": [
    {
      "cell_type": "markdown",
      "metadata": {
        "id": "view-in-github",
        "colab_type": "text"
      },
      "source": [
        "<a href=\"https://colab.research.google.com/github/zacharyesquenazi/BTE320-Projects/blob/main/List_Creator_(populating_a_list_using_a_while_loop).ipynb\" target=\"_parent\"><img src=\"https://colab.research.google.com/assets/colab-badge.svg\" alt=\"Open In Colab\"/></a>"
      ]
    },
    {
      "cell_type": "code",
      "execution_count": 1,
      "metadata": {
        "colab": {
          "base_uri": "https://localhost:8080/"
        },
        "id": "pmjhrRQsqadS",
        "outputId": "d810e119-01f6-4a27-d6b4-8ad7a39c0d16"
      },
      "outputs": [
        {
          "name": "stdout",
          "output_type": "stream",
          "text": [
            "Enter a value: 5\n",
            "Enter a value: 4\n",
            "Enter a value: 3\n",
            "Enter a value: 2\n",
            "Enter a value: 10\n",
            "Enter a value: 7\n",
            "Enter a value: 0\n"
          ]
        },
        {
          "output_type": "execute_result",
          "data": {
            "text/plain": [
              "[5, 4, 3, 2, 10, 7]"
            ]
          },
          "metadata": {},
          "execution_count": 1
        }
      ],
      "source": [
        "L=[]\n",
        "\n",
        "\n",
        "while True:\n",
        "    number = int(input('Enter a value: '))\n",
        "    if number == 0:\n",
        "        break\n",
        "    L.append(number)\n",
        "L"
      ]
    },
    {
      "cell_type": "code",
      "source": [
        "L=[]\n",
        "\n",
        "number = int(input('Enter a value: '))\n",
        "\n",
        "while number!=0:\n",
        "  L.append(number)\n",
        "  number = int(input('Enter a value: '))\n",
        "L"
      ],
      "metadata": {
        "colab": {
          "base_uri": "https://localhost:8080/"
        },
        "id": "lXw8tpdSqmX_",
        "outputId": "b69cbf79-2e14-41c1-9ebe-fdef2e4a3edb"
      },
      "execution_count": 2,
      "outputs": [
        {
          "name": "stdout",
          "output_type": "stream",
          "text": [
            "Enter a value: 5\n",
            "Enter a value: 44\n",
            "Enter a value: 5\n",
            "Enter a value: 4\n",
            "Enter a value: 3\n",
            "Enter a value: 0\n"
          ]
        },
        {
          "output_type": "execute_result",
          "data": {
            "text/plain": [
              "[5, 44, 5, 4, 3]"
            ]
          },
          "metadata": {},
          "execution_count": 2
        }
      ]
    }
  ]
}