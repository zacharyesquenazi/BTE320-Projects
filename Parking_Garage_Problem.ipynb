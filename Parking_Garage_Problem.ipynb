{
  "nbformat": 4,
  "nbformat_minor": 0,
  "metadata": {
    "colab": {
      "provenance": [],
      "authorship_tag": "ABX9TyMXX391t3kLLdCSs7RSfVd4",
      "include_colab_link": true
    },
    "kernelspec": {
      "name": "python3",
      "display_name": "Python 3"
    },
    "language_info": {
      "name": "python"
    }
  },
  "cells": [
    {
      "cell_type": "markdown",
      "metadata": {
        "id": "view-in-github",
        "colab_type": "text"
      },
      "source": [
        "<a href=\"https://colab.research.google.com/github/zacharyesquenazi/BTE320-Projects/blob/main/Parking_Garage_Problem.ipynb\" target=\"_parent\"><img src=\"https://colab.research.google.com/assets/colab-badge.svg\" alt=\"Open In Colab\"/></a>"
      ]
    },
    {
      "cell_type": "code",
      "execution_count": 1,
      "metadata": {
        "colab": {
          "base_uri": "https://localhost:8080/"
        },
        "id": "jBFbs0_8rihu",
        "outputId": "ba6d781b-4b75-472b-cc3d-5a2e61912f77"
      },
      "outputs": [
        {
          "output_type": "stream",
          "name": "stdout",
          "text": [
            "1. $7.5\n",
            "2. $10.0\n",
            "3. $12.5\n",
            "4. $15.0\n",
            "5. $17.5\n",
            "6. $20.0\n",
            "7. $22.5\n",
            "8. $25.0\n"
          ]
        }
      ],
      "source": [
        "def parking_fee(hours_parked):\n",
        "    base_fee = 5\n",
        "    hourly_rate = 2.5\n",
        "    total_fee = base_fee + hourly_rate * hours_parked\n",
        "    return total_fee\n",
        "\n",
        "for hours in range(1, 9):\n",
        "        fee = parking_fee(hours)\n",
        "        print(f\"{hours}. ${fee}\")"
      ]
    },
    {
      "cell_type": "code",
      "source": [
        "base_fee = 5\n",
        "hourly_rate = 2.5\n",
        "\n",
        "#everything has to be defined before it can be used, but in order.\n",
        "for hours in range(1, 9):\n",
        "    total_fee = base_fee + hourly_rate * hours\n",
        "    if total_fee<10:\n",
        "      total_fee=10\n",
        "    elif total_fee>20:\n",
        "      total_fee=20\n",
        "    print(f\"{hours:}. ${total_fee:}\")\n"
      ],
      "metadata": {
        "colab": {
          "base_uri": "https://localhost:8080/"
        },
        "id": "RtrVRaozrv8Y",
        "outputId": "44cc3996-58c8-47e6-9257-7a86bbbdf235"
      },
      "execution_count": 2,
      "outputs": [
        {
          "output_type": "stream",
          "name": "stdout",
          "text": [
            "1. $10\n",
            "2. $10.0\n",
            "3. $12.5\n",
            "4. $15.0\n",
            "5. $17.5\n",
            "6. $20.0\n",
            "7. $20\n",
            "8. $20\n"
          ]
        }
      ]
    }
  ]
}