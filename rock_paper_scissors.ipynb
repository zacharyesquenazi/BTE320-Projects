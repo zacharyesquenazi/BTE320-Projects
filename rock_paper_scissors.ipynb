{
  "nbformat": 4,
  "nbformat_minor": 0,
  "metadata": {
    "colab": {
      "provenance": [],
      "authorship_tag": "ABX9TyPdHhn+tVOVFMZqKMo2wbW0",
      "include_colab_link": true
    },
    "kernelspec": {
      "name": "python3",
      "display_name": "Python 3"
    },
    "language_info": {
      "name": "python"
    }
  },
  "cells": [
    {
      "cell_type": "markdown",
      "metadata": {
        "id": "view-in-github",
        "colab_type": "text"
      },
      "source": [
        "<a href=\"https://colab.research.google.com/github/zacharyesquenazi/BTE320-Projects/blob/main/rock_paper_scissors.ipynb\" target=\"_parent\"><img src=\"https://colab.research.google.com/assets/colab-badge.svg\" alt=\"Open In Colab\"/></a>"
      ]
    },
    {
      "cell_type": "code",
      "execution_count": 1,
      "metadata": {
        "colab": {
          "base_uri": "https://localhost:8080/"
        },
        "id": "aGjukslEnvUG",
        "outputId": "74983662-c1d4-449f-8bb7-7e19b4479f35"
      },
      "outputs": [
        {
          "output_type": "stream",
          "name": "stdout",
          "text": [
            "Enter rock, paper, or scissors: rock\n",
            "Your Choice: rock\n",
            "PC Choice: scissors\n",
            "YOU WIN!\n"
          ]
        }
      ],
      "source": [
        "user_input = input('Enter rock, paper, or scissors: ')\n",
        "print('Your Choice:',user_input)\n",
        "\n",
        "import random\n",
        "pc_choice= random.choice(['rock','paper','scissors'])\n",
        "print('PC Choice:',pc_choice)\n",
        "\n",
        "if(user_input == pc_choice):\n",
        "  print('tie')\n",
        "if (user_input == 'scissors' and pc_choice == 'rock'):\n",
        "  print('you lose')\n",
        "if (user_input == 'scissors' and pc_choice == 'paper'):\n",
        "  print('YOU WIN!')\n",
        "if (user_input == 'paper' and pc_choice == 'scissors'):\n",
        "  print('you lose')\n",
        "if (user_input == 'paper' and pc_choice == 'rock'):\n",
        "  print('YOU WIN!')\n",
        "if (user_input == 'rock' and pc_choice == 'scissors'):\n",
        "  print('YOU WIN!')\n",
        "if (user_input == 'rock' and pc_choice == 'paper'):\n",
        "  print('you lose')"
      ]
    },
    {
      "cell_type": "code",
      "source": [
        "#Most efficient way\n",
        "\n",
        "user_input = input('Enter rock, paper, or scissors: ')\n",
        "print('Your Choice:',user_input)\n",
        "\n",
        "if (user_input != ['rock', 'paper','scissors']): #not necessary\n",
        "  print('User Input: Enter rock, paper, or scissors')\n",
        "\n",
        "\n",
        "import random\n",
        "pc_choice= random.choice(['rock','paper','scissors'])\n",
        "print('PC Choice:',pc_choice)\n",
        "\n",
        "if(user_input == pc_choice):\n",
        "  print('DRAW')\n",
        "elif(user_input == 'scissors' and pc_choice == 'paper') or (user_input == 'paper' and pc_choice == 'rock') or (user_input == 'rock' and pc_choice == 'scissors'):\n",
        "  print ('YOU WIN!')\n",
        "elif(user_input != ['rock', 'paper','scissors']): #not necessary\n",
        "  print('Winner could not be chosen')\n",
        "else:\n",
        "  print ('you lose')\n"
      ],
      "metadata": {
        "colab": {
          "base_uri": "https://localhost:8080/"
        },
        "id": "E4q2t3o3n3Rc",
        "outputId": "64fff617-1868-463d-b541-6d3623fdab1e"
      },
      "execution_count": 2,
      "outputs": [
        {
          "output_type": "stream",
          "name": "stdout",
          "text": [
            "Enter rock, paper, or scissors: rock\n",
            "Your Choice: rock\n",
            "User Input: Enter rock, paper, or scissors\n",
            "PC Choice: rock\n",
            "DRAW\n"
          ]
        }
      ]
    },
    {
      "cell_type": "code",
      "source": [
        "import random # prof. code\n",
        "\n",
        "user_choice = input(\"Enter your choice (rock, paper, or scissors): \")\n",
        "computer_choice = random.choice([\"rock\", \"paper\", \"scissors\"])\n",
        "\n",
        "print(f\"You chose: {user_choice}\")\n",
        "print(f\"Computer chose: {computer_choice}\")\n",
        "\n",
        "if user_choice == computer_choice:\n",
        "    print(\"It's a tie!\")\n",
        "elif (\n",
        "    (user_choice == \"rock\" and computer_choice == \"scissors\") or\n",
        "    (user_choice == \"paper\" and computer_choice == \"rock\") or\n",
        "    (user_choice == \"scissors\" and computer_choice == \"paper\")\n",
        "):\n",
        "    print(\"You win!\")\n",
        "else:\n",
        "    print(\"Computer wins!\")"
      ],
      "metadata": {
        "colab": {
          "base_uri": "https://localhost:8080/"
        },
        "id": "tq2PBNzdn6si",
        "outputId": "1f09c812-dfeb-4b3b-fdf2-af4e4e964d19"
      },
      "execution_count": 3,
      "outputs": [
        {
          "output_type": "stream",
          "name": "stdout",
          "text": [
            "Enter your choice (rock, paper, or scissors): paper\n",
            "You chose: paper\n",
            "Computer chose: paper\n",
            "It's a tie!\n"
          ]
        }
      ]
    }
  ]
}