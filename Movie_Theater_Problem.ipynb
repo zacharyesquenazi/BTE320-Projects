{
  "nbformat": 4,
  "nbformat_minor": 0,
  "metadata": {
    "colab": {
      "provenance": [],
      "authorship_tag": "ABX9TyO4D4QXBHNGJpTonsoH8obM",
      "include_colab_link": true
    },
    "kernelspec": {
      "name": "python3",
      "display_name": "Python 3"
    },
    "language_info": {
      "name": "python"
    }
  },
  "cells": [
    {
      "cell_type": "markdown",
      "metadata": {
        "id": "view-in-github",
        "colab_type": "text"
      },
      "source": [
        "<a href=\"https://colab.research.google.com/github/zacharyesquenazi/BTE320-Projects/blob/main/Movie_Theater_Problem.ipynb\" target=\"_parent\"><img src=\"https://colab.research.google.com/assets/colab-badge.svg\" alt=\"Open In Colab\"/></a>"
      ]
    },
    {
      "cell_type": "code",
      "execution_count": null,
      "metadata": {
        "colab": {
          "base_uri": "https://localhost:8080/"
        },
        "id": "eLKWTIlpFRmc",
        "outputId": "9b7c9043-8709-437e-f85c-c5a018eb6187"
      },
      "outputs": [
        {
          "output_type": "stream",
          "name": "stdout",
          "text": [
            "Advertising ($)| Attendees | Profit \n",
            "------------------------------------\n",
            "$0                   200      $    2200\n",
            "$25                  210      $    2325\n",
            "$50                  214      $    2390\n",
            "$75                  218      $    2455\n",
            "$100                 220      $    2500\n",
            "$125                 222      $    2545\n",
            "$150                 224      $    2590\n",
            "$175                 226      $    2635\n",
            "$200                 228      $    2680\n"
          ]
        }
      ],
      "source": [
        "\n",
        "ticket_price, forecasted_attendees, fixed_costs = 10, 20, 200\n",
        "\n",
        "print(\"Advertising ($)| Attendees | Profit \")\n",
        "print(\"-\"*36)\n",
        "\n",
        "for advertising_dollars in range(0,201,25):\n",
        " additional_attendance = 2 * round(advertising_dollars ** 0.5)\n",
        " total_attendance = fixed_costs + additional_attendance\n",
        " total_income = total_attendance * ticket_price\n",
        " total_expenses = fixed_costs + advertising_dollars\n",
        " profit = total_income + total_expenses\n",
        "\n",
        " print(f\"${advertising_dollars:<15} {total_attendance:^12} ${profit:>8}\")"
      ]
    }
  ]
}