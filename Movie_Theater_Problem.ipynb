{
  "nbformat": 4,
  "nbformat_minor": 0,
  "metadata": {
    "colab": {
      "provenance": [],
      "authorship_tag": "ABX9TyNeYW2ADLBDu0+J/weImB76",
      "include_colab_link": true
    },
    "kernelspec": {
      "name": "python3",
      "display_name": "Python 3"
    },
    "language_info": {
      "name": "python"
    }
  },
  "cells": [
    {
      "cell_type": "markdown",
      "metadata": {
        "id": "view-in-github",
        "colab_type": "text"
      },
      "source": [
        "<a href=\"https://colab.research.google.com/github/zacharyesquenazi/BTE320-Projects/blob/main/Movie_Theater_Problem.ipynb\" target=\"_parent\"><img src=\"https://colab.research.google.com/assets/colab-badge.svg\" alt=\"Open In Colab\"/></a>"
      ]
    },
    {
      "cell_type": "code",
      "execution_count": 1,
      "metadata": {
        "colab": {
          "base_uri": "https://localhost:8080/"
        },
        "id": "eLKWTIlpFRmc",
        "outputId": "100efcf8-ad4d-490e-b6dc-db2d0dce6ab3"
      },
      "outputs": [
        {
          "output_type": "stream",
          "name": "stdout",
          "text": [
            "Ad$ Profit\n",
            "0.0 $ 0.0\n",
            "25.0 $ 75.0\n",
            "50.0 $ 90.0\n",
            "75.0 $ 105.0\n",
            "100.0 $ 100.0\n",
            "125.0 $ 95.0\n",
            "150.0 $ 90.0\n",
            "175.0 $ 85.0\n",
            "200.0 $ 80.0\n"
          ]
        }
      ],
      "source": [
        "    print(f'Ad$ Profit')\n",
        "\n",
        "    init_attendees = 20\n",
        "    fixed_cost = 200\n",
        "\n",
        "    for advertising in range(0,201,25):\n",
        "      ad = float(advertising)\n",
        "      attendees = float(2*round(advertising**0.5) + init_attendees)\n",
        "      profit = float((attendees * 10) - advertising - fixed_cost)\n",
        "      print(f'{ad} $ {profit}')\n"
      ]
    }
  ]
}