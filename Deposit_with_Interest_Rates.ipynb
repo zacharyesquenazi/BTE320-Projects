{
  "nbformat": 4,
  "nbformat_minor": 0,
  "metadata": {
    "colab": {
      "provenance": [],
      "authorship_tag": "ABX9TyPDuLqxSEwb7zRDPQefrwH3",
      "include_colab_link": true
    },
    "kernelspec": {
      "name": "python3",
      "display_name": "Python 3"
    },
    "language_info": {
      "name": "python"
    }
  },
  "cells": [
    {
      "cell_type": "markdown",
      "metadata": {
        "id": "view-in-github",
        "colab_type": "text"
      },
      "source": [
        "<a href=\"https://colab.research.google.com/github/zacharyesquenazi/BTE320-Projects/blob/main/Deposit_with_Interest_Rates.ipynb\" target=\"_parent\"><img src=\"https://colab.research.google.com/assets/colab-badge.svg\" alt=\"Open In Colab\"/></a>"
      ]
    },
    {
      "cell_type": "code",
      "execution_count": 1,
      "metadata": {
        "colab": {
          "base_uri": "https://localhost:8080/"
        },
        "id": "4WTvdiWXpMTm",
        "outputId": "13ad7e76-c6d2-4312-97ed-e15d657b3307"
      },
      "outputs": [
        {
          "output_type": "stream",
          "name": "stdout",
          "text": [
            "Enter the deposit amount ($):10\n",
            "Total after interest applied: $ 10.3\n"
          ]
        }
      ],
      "source": [
        "# Step 1: Input deposit amount\n",
        "deposit = float(input('Enter the deposit amount ($):'))\n",
        "\n",
        "# Step 2: Decide interest rate\n",
        "if deposit > 10000:\n",
        "  ir= 3.5\n",
        "elif deposit > 1000:\n",
        "  ir= 3.25\n",
        "else:\n",
        "  ir= 3.0\n",
        "\n",
        "#Step 3: Display the total amount after the interest rate is applied\n",
        "total = (1+ir/100)*deposit\n",
        "print (f'Total after interest applied: $ {total}')"
      ]
    },
    {
      "cell_type": "code",
      "source": [
        "# Step 1: Input deposit amount\n",
        "customer_type = input('Enter type of customer (n: new, e: existing):')\n",
        "deposit = float(input('Enter the deposit amount ($):'))\n",
        "\n",
        "# Step 2: Decide interest rate (now all of that below is nested to if customer_type = 'e')\n",
        "\n",
        "if customer_type == 'e':\n",
        "  if deposit > 10000:\n",
        "    ir= 3.5\n",
        "  elif deposit > 1000:\n",
        "    ir= 3.25\n",
        "  else:\n",
        "    ir= 3.0\n",
        "else:\n",
        "  ir = 3\n",
        "#Step 3: Display the total amount after the interest rate is applied\n",
        "total = (1+ir/100)*deposit\n",
        "print (f'Total after interest applied: $ {total}')\n"
      ],
      "metadata": {
        "id": "uSglRgidpbib",
        "outputId": "86a49e0c-ad9f-4b10-ae75-b6cbd6203eee",
        "colab": {
          "base_uri": "https://localhost:8080/"
        }
      },
      "execution_count": 2,
      "outputs": [
        {
          "output_type": "stream",
          "name": "stdout",
          "text": [
            "Enter type of customer (n: new, e: existing):n\n",
            "Enter the deposit amount ($):5000\n",
            "Total after interest applied: $ 5150.0\n"
          ]
        }
      ]
    }
  ]
}