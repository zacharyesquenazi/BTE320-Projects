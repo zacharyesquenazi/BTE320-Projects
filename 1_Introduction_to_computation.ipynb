{
  "cells": [
    {
      "cell_type": "markdown",
      "metadata": {
        "id": "view-in-github",
        "colab_type": "text"
      },
      "source": [
        "<a href=\"https://colab.research.google.com/github/zacharyesquenazi/BTE320-Projects/blob/main/1_Introduction_to_computation.ipynb\" target=\"_parent\"><img src=\"https://colab.research.google.com/assets/colab-badge.svg\" alt=\"Open In Colab\"/></a>"
      ]
    },
    {
      "cell_type": "markdown",
      "source": [
        "\n",
        "<p float=\"left\">\n",
        "  <img src=\"https://drive.google.com/uc?id=1WaU7RsOCbD15I-hb3c7JiDHska6GR0tN\" width=500/>\n",
        "  <img src=\"https://drive.google.com/uc?id=1fptwTVOyMBK6rswObP-f29x7POuz72Ny\" width=500/>\n",
        "</p>\n",
        "<p align=\"center\">\n"
      ],
      "metadata": {
        "id": "fzqPer2hfUxf"
      }
    },
    {
      "cell_type": "markdown",
      "metadata": {
        "id": "7-J3g6IKlGcI"
      },
      "source": [
        "#<b>Introduction to Programming</b>\n",
        "\n",
        "Why are so many people learning computer programming?\n",
        "- The interest and value of computer programming has grown due to the intersection of:\n",
        "  * Data availability and accessibility\n",
        "  * Analysis of data\n",
        "  * Programming languages and tools\n",
        "\n",
        "<p align=\"center\">\n",
        "<img src=\"https://drive.google.com/uc?id=1ExgxYB9FconkuYTE_CWhPo6syyAbRXLJ\" width=300/>\n",
        "</p>\n"
      ]
    },
    {
      "cell_type": "markdown",
      "source": [
        "### Input / Processing / Output (IPO)\n",
        "\n",
        "- Programs collect input, process the data, and provide output\n",
        "- This pattern is called Input / Processing / Output (IPO)\n",
        "- Your goal in programming is to decide the inputs, how best to organize the data, what processing is needed, how best to organize the processing, and how to output the results\n",
        "\n",
        "<p align=\"center\">\n",
        "<img src=\"https://drive.google.com/uc?id=1NuyUuVjLJMPHfem1pnLu4AzIwqQBkWyf\" width=400/>\n",
        "</p>\n"
      ],
      "metadata": {
        "id": "yTLplkQYaviX"
      }
    },
    {
      "cell_type": "markdown",
      "source": [
        "### The art and science of programming\n",
        "\n",
        "- The science of programming includes:\n",
        "  * the syntax of the programming language\n",
        "  * the different types of data types\n",
        "- There is a variety of ways data and logic can be organized\n",
        "- The art of programming includes:\n",
        "  * from where to collect data\n",
        "  * how to organize data within the program\n",
        "  * how to organize the programming logic\n",
        "  * how and where to provide the results\n"
      ],
      "metadata": {
        "id": "0CU7Xm_ua_bT"
      }
    },
    {
      "cell_type": "markdown",
      "source": [
        "### Python version history\n",
        "\n",
        "- Designed and implemented by Guido van Rossum\n",
        "  * Some goals: ease of use, readability, extensibility\n",
        "  * Initial public release in 1991\n",
        "  * Current major version 3; not compatible with version 2\n",
        "\n",
        "<img src=\"https://drive.google.com/uc?id=1Ib40oYtExAF57QktYB_ndCchLi7fZXx-\" width=800/>\n"
      ],
      "metadata": {
        "id": "H12oadyjbQBy"
      }
    },
    {
      "cell_type": "markdown",
      "metadata": {
        "id": "DmRJqgpIlGcW"
      },
      "source": [
        "## **Benefits of Python**\n",
        "\n",
        "High-level, interpreted, general-purpose programming language.\n",
        "\n",
        "Can be used to build almost any type of application with the right tools/libraries.\n",
        "\n",
        "Supports objects, modules, threads, exception-handling, and automatic memory management which help in modelling real-world problems and building applications to solve these problems.\n",
        "\n",
        "**Benefits of using Python:**\n",
        "\n",
        " - Python has a simple, easy-to-learn syntax; emphasizes readability, reduces the cost of program maintenance.   \n",
        " - Capable of scripting, completely open-source, supports 3rd-party packages encouraging modularity and code reuse.\n",
        " - Attractive to developers for Rapid Application Development and deployment due to its high-level data structures, combined with dynamic typing and dynamic binding.\n"
      ]
    },
    {
      "cell_type": "markdown",
      "metadata": {
        "id": "fSClmL5mlGcW"
      },
      "source": [
        "## Applications of Python\n",
        "\n",
        "Python is a general-purpose language and a great choice for several types of programs.\n",
        "\n",
        "Can be found in almost every new field, <i>notably in AI</i>.\n",
        "\n",
        "### Examples of Python-based applications\n",
        "\n",
        "- Web Applications\n",
        "- Desktop GUI Applications\n",
        "- Console-based Application\n",
        "- Software Development\n",
        "- Scientific Computing\n",
        "- Business Applications\n",
        "- Audio or Video-based Applications\n",
        "- 3D CAD Applications\n",
        "- Enterprise Applications\n",
        "- Image Processing Application"
      ]
    },
    {
      "cell_type": "markdown",
      "source": [
        "### Online Python resources\n",
        "\n",
        "For a deeper dive in Python, you can find excellent online resources for basic and advanced topics [here](https://wiki.python.org/moin/BeginnersGuide/Programmers)"
      ],
      "metadata": {
        "id": "8UPMg0kMJhSQ"
      }
    },
    {
      "cell_type": "markdown",
      "metadata": {
        "id": "_d4e8jMUlGcX"
      },
      "source": [
        "## Python Enhancement Proposal (PEP)\n",
        "\n",
        "Official design document providing information to the Python community, or describing a new feature for Python or its processes.\n",
        "\n",
        "[**PEP 8**](https://peps.python.org/pep-0008/) is especially important since it documents the style guidelines for Python Code.\n",
        "\n",
        "These style guidelines have to be followed sincerely and strictly.\n",
        "\n"
      ]
    },
    {
      "cell_type": "markdown",
      "metadata": {
        "id": "SHJwKfShlGcX"
      },
      "source": [
        "## Memory management in Python\n",
        "\n",
        "There are three main ways of managing memory in Python:\n",
        "\n",
        " 1. Memory management is managed by *Python private heap space*. All objects and data structures are located in a private heap. The programmer does not have access to this private heap. The python interpreter takes care of this instead.\n",
        " 2. The allocation of heap space for Python objects is done by Python’s memory manager. The core API gives access to some tools for the programmer to code.\n",
        " 3. Python also has an inbuilt garbage collector, which recycles all the unused memory and so that it can be made available to the heap space."
      ]
    },
    {
      "cell_type": "markdown",
      "source": [
        "#---------------------------------------------------------------------------------------------------------------------------------------------#"
      ],
      "metadata": {
        "id": "HgIHsZ8WKKf1"
      }
    },
    {
      "cell_type": "markdown",
      "metadata": {
        "id": "pK4ruZSylGcX"
      },
      "source": [
        "# Basic Python elements\n",
        "\n",
        "There are 3 primary alternative ways to run Python\n",
        "- Interactively: one (or few) lines of code at a time\n",
        "  * The standard Python interactive prompt is: `>>>`\n",
        "  * Not user-friendly.\n",
        "- Code files (also called scripts), with .py extension\n",
        "  * The above two approaches are provided in Integrated Development Environments (IDEs)\n",
        "  * Professional coding procedure.\n",
        "  * IDE examples: VS Code, PyCharm\n",
        "- <i>Notebook tool: run one or several lines of code in a code cell\n",
        "  * Save inputs and outputs in a .ipynb file\n",
        "  * Also supports documentation cells\n",
        "  * Examples: **Google Colab**, Jupyter notebooks</i>\n",
        "\n",
        "\n"
      ]
    },
    {
      "cell_type": "markdown",
      "source": [
        "Google Colab:\n",
        "\n",
        "<img src=\"https://drive.google.com/uc?id=1eUwsJVSG1Q1dCmKJGNguE3ZPf0mB5_5u\" width=800/>\n",
        "\n",
        "\n",
        "A Python program (or *script*) is a sequence of definitions and commands.\n",
        "\n",
        "The Python interpreter evaluates the definitions and executes the commands.\n",
        "\n",
        "A command instructs the interpreter to proceed with said evaluation.\n",
        "- E.g., the command `print('Canes rule!')` instructs the interpreter to call the function `print`, which outputs\n",
        "the string `Canes rule!`"
      ],
      "metadata": {
        "id": "9y2MAgBBJRbg"
      }
    },
    {
      "cell_type": "markdown",
      "metadata": {
        "id": "5OaV8g4UlGcX"
      },
      "source": [
        "## Type-checking in Python\n",
        "\n",
        "Strongly-typed language; `\"1\" + 2` results in a **type error**.\n",
        " - Doesn't allow for \"type-coercion\" (implicit conversion of data types).\n",
        "\n",
        "Dynamically typed - Data Types are checked during execution\n",
        "\n",
        "Interpreted language - type checking done during execution.\n"
      ]
    },
    {
      "cell_type": "markdown",
      "metadata": {
        "id": "-06DS9ULlGcZ"
      },
      "source": [
        "## Objects, Expressions, and Numerical Types\n",
        "\n",
        "**Objects**: Core Python elements that a program can manipulate. They are distinguished as:\n",
        "- Scalars which are indivisible (e.g., numbers)\n",
        "- Non-scalars which have internal structure (e.g., strings, lists)\n",
        "\n",
        "<i><upper>*</upper>These are just a subset of the various data types that exist in Python. Many modules create their own types; we will do something similar towards the end of the semester.</i>\n",
        "\n",
        "**Every element in Python is an object.**\n",
        "\n",
        "Objects are denoted by **literals**\n",
        "- `2` is a literal representing a `number`\n",
        "- `'abc'` is a literal representing a `string`\n",
        "\n",
        "We should not confuse literals with variables.\n",
        "- Literals are the actual objects\n",
        "- Variables are names that we associate objects with, to make it easier to work with them (instead of having to use the literal everywhere).\n",
        "  * E.g., it is easier to do `s = 'Hello'` and then use `s` to work with, than writing the entire `Hello` word every time we want to do something with it."
      ]
    },
    {
      "cell_type": "markdown",
      "source": [
        "## Scalar objects"
      ],
      "metadata": {
        "id": "_G1ldi0OMd70"
      }
    },
    {
      "cell_type": "markdown",
      "metadata": {
        "id": "SLResBZslGcZ"
      },
      "source": [
        "<img src=\"https://drive.google.com/uc?id=1RC7RiYz_4qPvSzu3MIUQ4cs8Mw0cads3\" width=800/>\n",
        "\n",
        "- `int`: represents integers.\n",
        "- `float`: represents real numbers. Written with a decimal point (e.g. `3.2`), or scientific notation (e.g. `1.6E3` = 1600.0)\n",
        "- `bool`: represents Boolean objects. Takes two possible values, `True` or `False`\n",
        "- `None`: singular value"
      ]
    },
    {
      "cell_type": "markdown",
      "metadata": {
        "id": "VC-fpn6ZlGcZ"
      },
      "source": [
        "### Objects + operators --> *expressions*\n",
        "\n",
        "Expressions are evaluated to an object of some type, depending on the types of operand objects.\n",
        "- We need to be careful; while some operators are *overloaded* and can be used to operate on objects of various types, some are not.\n",
        "\n",
        "E.g., `3 + 2` denotes the value `5` of type `int`, whereas `3.0 + 2.0` denotes the value `5.0` of type `float`\n",
        "\n",
        "The easiest operators are those used for evaluation:\n",
        "- `==`: Tests if two expressions evaluate to the same value (i.e. are equal)\n",
        "- `!=`: Tests if two expressions evaluate to different values (i.e. are NOT equal)\n",
        "- `=`: The single equality sign is used to **assign** the literal on the right hand side to the variable on the left.\n",
        "    * E.g., `x = 3` will assign the numerical literal `3` to variable `x`\n",
        "\n",
        "Python provides the following comparison operators:\n",
        "\n",
        "|Operator| Meaning|\n",
        "|---|---|\n",
        "| == | equal to|\n",
        "| != | not equal to|\n",
        "|< |less than\n",
        "|<= |less than or equal to\n",
        "|> |greater than\n",
        "|>= |greater than or equal to\n",
        "\n",
        "All those operators evaluate as either **True** or **False**.\n",
        "- This type of result is called *Boolean*, in memory of [George Boole](https://en.wikipedia.org/wiki/George_Boole), the English mathematician that devised the concept of Logical Algebra and led to the theoretical foundations of the Information Age.\n",
        "- Expressions that use evaluation operators are called *Boolean expressions*, and they evaluate as **True** or **False**.\n",
        "\n",
        "\n",
        "### type() and isinstance()\n",
        "\n",
        "Two built-in functions in Python that allow the user to identify the type of an object/variable\n",
        "- `type(x)`: returns the type of x\n",
        "- `isinstance(x, type_of_variable)`: returns **True** or **False**, depending on whether variable `x` is of type `type_of_variable` or not.\n"
      ]
    },
    {
      "cell_type": "markdown",
      "metadata": {
        "id": "h_rr2HjrlGca"
      },
      "source": [
        "### Numerical operators\n",
        "\n",
        "Programming languages execute mainly numerical operations; hence, they heavily use mathematical operators (+, -, /, etc.)\n",
        "\n",
        "Arithmetic operators have the same mathematical precedence as in math.\n",
        "\n",
        "Multiplication operator `*` binds more tightly than addition `+`:\n",
        "- Expression `x+y*2` is evaluated by first multiplying `y` by `2` and then adding the result to `x`\n",
        "- The order of evaluation can be changed by using parentheses\n",
        "    * `(x+y)*2` first adds `x` and `y`, and then multiplies the result by `2`"
      ]
    },
    {
      "cell_type": "markdown",
      "metadata": {
        "id": "6FXasgrUlGca"
      },
      "source": [
        "<img src=\"https://drive.google.com/uc?id=1JkVSG5elkMCERdnNHzMyeg9mKTxo_rWK\" width=600/>\n",
        "\n",
        "### Comments\n",
        "\n",
        "Do not confuse the `/` or `//` operators (division or floor division, respectively) with the `%` operator.\n",
        "- The first two return the result of division between two numbers, either in a `float` format (`/`) or `int` format (`//`).\n",
        "- The modulo operator returns the **remainder** of the division between two numbers. E.g., `5%2` equals to 1, since 2 fits twice on 5, and there is still 1 remaining.\n",
        "  * In the case where `n < m`, then `n%m = n`"
      ]
    },
    {
      "cell_type": "markdown",
      "metadata": {
        "id": "LtmyIVS2lGca"
      },
      "source": [
        "### Boolean operators\n",
        "\n",
        "Operators that result into `True` or `False`.\n",
        "- Used mainly in conditional expressions (more on that later)\n",
        "\n",
        "The Boolean operators used in Python are: `and`, `or`, `not`\n",
        "\n",
        "For any given Boolean objects/expressions `a`, and `b`, we have:\n",
        "- `a and b` evaluates as `True` if **BOTH** `a` and `b` are `True`, and `False` otherwise.\n",
        "- `a or b` evaluates as `True` if **AT LEAST ONE** of `a` or `b` is `True`, and `False` otherwise.\n",
        "- `not a` is `True` if `a` is `False`, and `False` if `a` is `True`.\n",
        "\n",
        "Both `and` and `or` require two objects to work on; `not` works on a single object.\n",
        "\n",
        "The easiest way to learn about how they work is using logic tables:\n",
        "\n",
        "**and**\n",
        "\n",
        "|a|b|a and b|\n",
        "|---|---|---|\n",
        "|False|False|False|\n",
        "|False|True|False|\n",
        "|True|False|False|\n",
        "|True|True|True|\n",
        "\n",
        "\n",
        "**or**\n",
        "\n",
        "|a|b|a or b|\n",
        "|---|---|---|\n",
        "|False|False|False|\n",
        "|False|True|True|\n",
        "|True|False|True|\n",
        "|True|True|True|\n",
        "\n",
        "**not**\n",
        "\n",
        "|a|not a|\n",
        "|---|---|\n",
        "|False|True|\n",
        "|True|False|\n",
        "\n",
        "Boolean operator properties are easily shown using Venn diagrams:\n",
        "\n",
        "<img src=\"https://drive.google.com/uc?id=13-xPxBdIWFVkCDGOUo1d2C9hVqjXLAlC\" width=800/>\n"
      ]
    },
    {
      "cell_type": "markdown",
      "metadata": {
        "id": "yCcQ5dywlGcb"
      },
      "source": [
        "## Variables and assignment\n",
        "\n",
        "**Variables** help associate names with objects.\n",
        "\n",
        "In other words, names attached to particular objects.\n",
        " - Remember: all Python elements are objects!\n",
        " - Variables **need not** be declared or defined in advance.\n",
        "\n",
        "To create a variable, assign it a value and then start using it.\n",
        "\n",
        "Assignment is done with a single *equals sign* `=`\n",
        "\n",
        "\n",
        "Example: Calcuate area of circle:\n",
        "- First define values for $π$ and radius\n",
        "- Calculate area using formula `area = `$π\\times radius^2$\n",
        "\n",
        "```python\n",
        "pi = 3\n",
        "radius = 11\n",
        "area = pi * (radius**2)\n",
        "print(area)\n",
        "```\n",
        "\n",
        "Remember that a variable is just a name. We use it so we won't have to copy-paste the actual object everywhere we need it.\n",
        "\n",
        "**Tip**: always choose names that are descriptive and try to avoid single-letter names.\n",
        "\n",
        "E.g., consider the following code fragments:\n",
        "```python\n",
        "a = 3.14159        pi = 3.14159\n",
        "b = 11.2           diameter = 11.2\n",
        "c = a*(b**2)       area = pi*(diameter**2)\n",
        "```\n",
        "\n",
        "- They do the same thing\n",
        "- The fragment on the left seems right at first\n",
        "- But looking at the one on the right, we see that mathematically is wrong (`diameter` should be `radius`)"
      ]
    },
    {
      "cell_type": "markdown",
      "metadata": {
        "id": "hIt1yp0NlGcb"
      },
      "source": [
        "**Remember**: Variables in Python are dynamically assigned values.\n",
        "\n",
        "Therefore, in Python you can assign one type of value to a variable and later re-assign a value of a different type.\n",
        "\n",
        "While flexible, it can be confusing; be careful when assigning values on existing variables."
      ]
    },
    {
      "cell_type": "markdown",
      "metadata": {
        "id": "TJE_MybblGcb"
      },
      "source": [
        "## Object references\n",
        "\n",
        "Python is a heavily object-oriented language\n",
        "\n",
        "Every item/object is of a specific *class* or *type*\n",
        " - We will see what classes are later in the course\n",
        "\n",
        "Let's see the following example:\n",
        "\n",
        "```python\n",
        "print(5)\n",
        "```\n",
        "\n",
        "What the interpreter does here?\n",
        " - Creates an integer object\n",
        " - Assigns value `5` to it\n",
        " - Displays it on screen\n",
        "\n",
        "A Python variable is a symbolic name\n",
        " - reference to an object.\n",
        "\n",
        "Previously, we had:\n",
        "```python\n",
        "radius = 11\n",
        "```\n",
        "An integer object `11` is created and a variable `radius` points to it.\n",
        "<img src=\"https://drive.google.com/uc?id=16M5k6-FoTAr31NwQkYWU-EzmkjOgcuAF\" width=300/>\n",
        "\n",
        "You can also assign a variable name to another variable name:\n",
        "```python\n",
        "r = radius\n",
        "```\n",
        "<img src=\"https://drive.google.com/uc?id=1kJmbnKQCPN42VwVzR_j8xSw7C0uSxRYE\" width=400/>"
      ]
    },
    {
      "cell_type": "markdown",
      "metadata": {
        "id": "c5_u1JSelGcb"
      },
      "source": [
        "Variable names in Python follow specific rules.\n",
        "\n",
        "They must consist of:\n",
        "- Uppercase and lowercase letters\n",
        "- Digits (**ONLY** if they follow letters)\n",
        "- The special character `_`\n",
        "\n",
        "Variable names are case-sensitive (e.g. `radius` is different from `Radius`)\n",
        "\n",
        "There are also some *reserved words*, called **keywords**, that cannot be used for variable names. Those include:\n",
        "\n",
        "```\n",
        "and    break    elif    for    in       not    True\n",
        "as     class    else    from   is       or     try\n",
        "assert continue except  global lambda   pass   while\n",
        "async  def      False   if     nonlocal raise  with\n",
        "await  del      finally import None     return yield\n",
        "```"
      ]
    },
    {
      "cell_type": "markdown",
      "metadata": {
        "id": "bLLH19fWlGcb"
      },
      "source": [
        "Comments in Python start with the hashtag symbol `#` and they are single-lined\n",
        " - C/C++ has special characters `//` for single-line and `*...*/` for multi-line comments\n",
        " - Python does have a version for multi-line comments, but it is mainly used to describe functions (more on that later).\n",
        "  - Multi-line comments in Python are given in triple-double quotes:\n",
        "  ```python\n",
        "  \"\"\"\n",
        "  This is a\n",
        "  multiline comment\n",
        "  \"\"\"\n",
        "  ```\n",
        "\n",
        "**Tip**: Use comments to enhance code readability\n",
        "\n",
        "```python\n",
        "side = 1 # length of sides of a unit square\n",
        "radius = 1 # radius of a unit circle\n",
        "\n",
        "# subtract area of unit circle from area of unit square\n",
        "area_circle = pi*radius**2\n",
        "area_square = side*side\n",
        "difference = area_square - area_circle\n",
        "```\n",
        "\n",
        "\n",
        "### Multiple assignments\n",
        "\n",
        "Python allows multiple assignments of objects to variables in a single line, using a single equality sign:\n",
        "\n",
        "```python\n",
        "x, y = 2, 3\n",
        "```\n",
        "\n",
        "This statement assigns `2` to `x` and `3` to `y`\n",
        "\n",
        "**Q**: What will be the values of `x` and `y`?\n",
        "```python\n",
        "x, y = y, x\n",
        "print('x =', x)\n",
        "print('y =', y)\n",
        "```"
      ]
    },
    {
      "cell_type": "markdown",
      "metadata": {
        "id": "EGlOpQzXlGcb"
      },
      "source": [
        "## Built-in Python data types\n",
        "\n",
        "There are several built-in data types in Python.\n",
        "\n",
        "Python doesn't require variable types to be defined explicitly during variable declarations.\n",
        "\n",
        "Type errors are likely to occur if the knowledge of data types and their compatibility with each other are neglected.\n",
        "\n",
        "Use built-in functions `type()` and `isinstance()` to check variable types."
      ]
    },
    {
      "cell_type": "markdown",
      "metadata": {
        "id": "CLlHS8uIlGcb"
      },
      "source": [
        "### Categories of data types\n",
        "\n",
        " - *None:* Represents null values in Python\n",
        " - *Numerical types:*\n",
        "     * Three distinct types:\n",
        "         1. *int:* Stores integer literals\n",
        "         2. *float:* Stores real-valued numericals (decimals, exponents, floating points)\n",
        "         3. *complex:* Stores complex numbers (*A +Bj*)\n",
        "         4. *bool:* Stores boolean values (True/False)\n",
        " - *Sequence types:*\n",
        "     * *list:* mutable, used to store collections of items\n",
        "     * *tuple:* immutable, used to store collections of items\n",
        "     * *range:* immutable, sequence of numbers\n",
        "     * *str:* immutable, stores textual data\n",
        " - *Mapping types:*\n",
        "     * Maps hashable values to random objects:\n",
        "         1. *dict:* Stores elements in `key:value` pairs\n",
        " - *Set types*\n",
        " - *Modules*\n",
        " - *Callable types*"
      ]
    },
    {
      "cell_type": "markdown",
      "metadata": {
        "id": "lQKENoSh5npu"
      },
      "source": [
        "### Breaking long code into multiple lines\n",
        "\n",
        "Very long lines can be broken in multiple ones using backslash `\\`:\n",
        "\n",
        "  ```python\n",
        "  x = 1111111111111111111111111111111 + 222222222222333222222222 +\\\n",
        "      3333333333333333333333333333333\n",
        "  ```\n",
        "You can also break a line with Python's implied line continuation using bracketing (parentheses, square brackets):\n",
        "  - Wrapping the right-hand side expression in parentheses solves the issue\n",
        "  ```python    \n",
        "  x = (1111111111111111111111111111111 + 222222222222333222222222 +\n",
        "      3333333333333333333333333333333)\n",
        "  ```\n",
        "\n",
        "The following code fragment is interpreted as two lines and returns a **syntax error**:\n",
        "  ```python\n",
        "  x = 1111111111111111111111111111111 + 222222222222333222222222 +\n",
        "      3333333333333333333333333333333\n",
        "  ```"
      ]
    },
    {
      "cell_type": "markdown",
      "source": [
        "#------------------------------------------------------------------------------------------------------------------------------------------#"
      ],
      "metadata": {
        "id": "zn8jUhp-KkeA"
      }
    },
    {
      "cell_type": "markdown",
      "metadata": {
        "id": "p2pVu3lilGcb"
      },
      "source": [
        "## Review: Benefits of Python\n",
        "\n",
        "1. Easy to use - Python is a high-level programming language that is easy to use, read, write and learn.\n",
        "2. Interpreted language - Python executes the code line by line and stops if an error occurs in any line.\n",
        "3. Dynamically typed - No need to assign data types to variables during coding. It automatically gets assigned during execution.\n",
        "4. Free and open source.\n",
        "5. Extensive support for libraries– Python has vast libraries that contain almost any function needed. It also further provides the facility to import other packages using Python Package Manager(pip).\n",
        "6. Portable - Python programs can run on any platform without requiring any change.\n",
        "7. The data structures used in python are user-friendly.\n",
        "8. It provides more functionality with less coding."
      ]
    },
    {
      "cell_type": "markdown",
      "source": [
        "#------------------------------------------------------------------------------------------------------------------------------------------#\n",
        "\n",
        "#### Simple Python commands\n",
        "\n",
        "\n",
        "<b>Let's open Colab and try some basic Python coding!</b>"
      ],
      "metadata": {
        "id": "8VZbINBUFnnx"
      }
    },
    {
      "cell_type": "code",
      "execution_count": null,
      "metadata": {
        "id": "H8qS1EhQlGcZ",
        "colab": {
          "base_uri": "https://localhost:8080/"
        },
        "outputId": "fe762753-1eda-458c-c1cc-71fa41b3c5e0"
      },
      "outputs": [
        {
          "output_type": "execute_result",
          "data": {
            "text/plain": [
              "3"
            ]
          },
          "metadata": {},
          "execution_count": 1
        }
      ],
      "source": [
        "3"
      ]
    },
    {
      "cell_type": "code",
      "source": [
        "'abc'"
      ],
      "metadata": {
        "id": "-HIu8OTH71m6",
        "colab": {
          "base_uri": "https://localhost:8080/",
          "height": 35
        },
        "outputId": "d02272a4-e2f3-486f-9c29-b5e2e6a1525d"
      },
      "execution_count": null,
      "outputs": [
        {
          "output_type": "execute_result",
          "data": {
            "text/plain": [
              "'abc'"
            ],
            "application/vnd.google.colaboratory.intrinsic+json": {
              "type": "string"
            }
          },
          "metadata": {},
          "execution_count": 2
        }
      ]
    },
    {
      "cell_type": "code",
      "execution_count": null,
      "metadata": {
        "id": "UwmnW4jslGcZ",
        "colab": {
          "base_uri": "https://localhost:8080/"
        },
        "outputId": "f49586ee-7104-49ea-d96a-214433cb7499"
      },
      "outputs": [
        {
          "output_type": "execute_result",
          "data": {
            "text/plain": [
              "5"
            ]
          },
          "metadata": {},
          "execution_count": 3
        }
      ],
      "source": [
        "3+2"
      ]
    },
    {
      "cell_type": "code",
      "execution_count": null,
      "metadata": {
        "id": "mWS62-r0lGca",
        "colab": {
          "base_uri": "https://localhost:8080/"
        },
        "outputId": "ed8efd06-11cc-49d5-fe19-57d401f35aea"
      },
      "outputs": [
        {
          "output_type": "execute_result",
          "data": {
            "text/plain": [
              "5.0"
            ]
          },
          "metadata": {},
          "execution_count": 14
        }
      ],
      "source": [
        "3.0+2.0"
      ]
    },
    {
      "cell_type": "code",
      "source": [
        "5 == 5.0"
      ],
      "metadata": {
        "id": "q4cQnzFCuRMZ",
        "colab": {
          "base_uri": "https://localhost:8080/"
        },
        "outputId": "53c88b46-aa50-4577-aa41-158ea5395b1f"
      },
      "execution_count": null,
      "outputs": [
        {
          "output_type": "execute_result",
          "data": {
            "text/plain": [
              "True"
            ]
          },
          "metadata": {},
          "execution_count": 15
        }
      ]
    },
    {
      "cell_type": "code",
      "execution_count": null,
      "metadata": {
        "id": "QwC2BLnilGca",
        "colab": {
          "base_uri": "https://localhost:8080/"
        },
        "outputId": "ce71e44c-9119-42c3-95d4-f807c72f867f"
      },
      "outputs": [
        {
          "output_type": "execute_result",
          "data": {
            "text/plain": [
              "True"
            ]
          },
          "metadata": {},
          "execution_count": 16
        }
      ],
      "source": [
        "3!=2"
      ]
    },
    {
      "cell_type": "code",
      "execution_count": null,
      "metadata": {
        "id": "2tgDmNIslGca",
        "colab": {
          "base_uri": "https://localhost:8080/"
        },
        "outputId": "88adad5d-ce41-4933-c014-b17fdfb15a92"
      },
      "outputs": [
        {
          "output_type": "execute_result",
          "data": {
            "text/plain": [
              "str"
            ]
          },
          "metadata": {},
          "execution_count": 4
        }
      ],
      "source": [
        "type('3.0')"
      ]
    },
    {
      "cell_type": "code",
      "execution_count": null,
      "metadata": {
        "id": "jS0uIpXulGca",
        "colab": {
          "base_uri": "https://localhost:8080/"
        },
        "outputId": "7f952e5c-c960-4e0f-d054-1e77c9a420d1"
      },
      "outputs": [
        {
          "output_type": "execute_result",
          "data": {
            "text/plain": [
              "float"
            ]
          },
          "metadata": {},
          "execution_count": 5
        }
      ],
      "source": [
        "type(3.0)"
      ]
    },
    {
      "cell_type": "code",
      "execution_count": null,
      "metadata": {
        "id": "aZprPewalGcb",
        "colab": {
          "base_uri": "https://localhost:8080/"
        },
        "outputId": "fbcd8a2f-7d41-4a6f-fdd7-6c2e4184b728"
      },
      "outputs": [
        {
          "output_type": "stream",
          "name": "stdout",
          "text": [
            "x = 3\n",
            "y = 2\n"
          ]
        }
      ],
      "source": [
        "x, y = 2, 3 # x = 2, y = 3\n",
        "x, y = y, x # x = 3, y = 2\n",
        "print('x =', x)\n",
        "print('y =', y)"
      ]
    },
    {
      "cell_type": "code",
      "source": [
        "x = 2\n",
        "\n",
        "isinstance(x, float)"
      ],
      "metadata": {
        "id": "sJoCvj9a6GdQ",
        "colab": {
          "base_uri": "https://localhost:8080/"
        },
        "outputId": "fd2c51ee-ab5f-4aa5-aaaa-944bb515d474"
      },
      "execution_count": null,
      "outputs": [
        {
          "output_type": "execute_result",
          "data": {
            "text/plain": [
              "False"
            ]
          },
          "metadata": {},
          "execution_count": 10
        }
      ]
    },
    {
      "cell_type": "code",
      "source": [
        "type(x)"
      ],
      "metadata": {
        "id": "-CeKfWsm6q-I",
        "colab": {
          "base_uri": "https://localhost:8080/"
        },
        "outputId": "d8529469-44f8-43ae-d641-464ea11e3b92"
      },
      "execution_count": null,
      "outputs": [
        {
          "output_type": "execute_result",
          "data": {
            "text/plain": [
              "int"
            ]
          },
          "metadata": {},
          "execution_count": 2
        }
      ]
    }
  ],
  "metadata": {
    "celltoolbar": "Slideshow",
    "kernelspec": {
      "display_name": "Python 3 (ipykernel)",
      "language": "python",
      "name": "python3"
    },
    "language_info": {
      "codemirror_mode": {
        "name": "ipython",
        "version": 3
      },
      "file_extension": ".py",
      "mimetype": "text/x-python",
      "name": "python",
      "nbconvert_exporter": "python",
      "pygments_lexer": "ipython3",
      "version": "3.8.2"
    },
    "colab": {
      "provenance": [],
      "include_colab_link": true
    }
  },
  "nbformat": 4,
  "nbformat_minor": 0
}