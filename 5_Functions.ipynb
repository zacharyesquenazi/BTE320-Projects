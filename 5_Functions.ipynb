{
  "cells": [
    {
      "cell_type": "markdown",
      "metadata": {
        "id": "view-in-github",
        "colab_type": "text"
      },
      "source": [
        "<a href=\"https://colab.research.google.com/github/zacharyesquenazi/BTE320-Projects/blob/main/5_Functions.ipynb\" target=\"_parent\"><img src=\"https://colab.research.google.com/assets/colab-badge.svg\" alt=\"Open In Colab\"/></a>"
      ]
    },
    {
      "cell_type": "markdown",
      "metadata": {
        "id": "yVpqSaQC_O4g"
      },
      "source": [
        "# Functions\n",
        "\n",
        "So far, all coding we did involved single-thread coding examples that demonstrates a generic characteristic we find in all forms of computer programming: input - processes - output (IPO).\n",
        "\n",
        "While this is the main way every piece of code follows, from the simplest programs to GPT-4, regarding the examples we saw in this class it works only for a narrow scope of inputs and outputs.\n",
        "\n",
        "What if we would be able to work with more abstract objects that allow us to use multiple sets of inputs and get outputs based on those inputs?\n",
        "- This is where **functions** become necessary.\n",
        "\n",
        "In previous lectures we used many Python built-in functions (e.g., `print`, `max`, `abs`, `zip`, etc.)\n",
        "\n",
        "In this lecture we will discuss functions, what they are, why they are essential and good coding practice, and finally we will see how can we write our own functions.\n",
        "\n"
      ]
    },
    {
      "cell_type": "markdown",
      "metadata": {
        "id": "tZCsiFUw_O4k"
      },
      "source": [
        "### Function definitions\n",
        "\n",
        "A Python function is a block of code that is designed to perform a certain task given multiple sets of inputs.\n",
        "\n",
        "Using functions, we are able to *subcontract* parts of our program to separate modules that can sometimes be stored in separate script files. For this course, that will not be necessary, but it is a good practice to try it for those interested in it.\n",
        "\n",
        "Before using a function, we need to make sure that it is implemented. Of course, that doesn't have to be when it comes to Python built-in functions, but it is important when it comes to custom-made ones.\n",
        "\n",
        "To define a function in Python, we use the keyword `def` followed by the name of the function and parentheses that contains the names of the function inputs.\n",
        "- Naming functions and/or function parameters (a.k.a. inputs, arguments) follows the same rules we discussed before (refer to the first lecture for more details).\n",
        "- After closing the input parentheses, a semicolon `:` is given. That way the interpreter knows that all statements below that are indented, belong to the function and to the function only.\n",
        "\n",
        "\n",
        "Syntactically, that looks like the following:\n",
        "\n",
        "```python\n",
        "def function_name(input1, input2,...):\n",
        "    #...function body...\n",
        "```\n",
        "\n",
        "Functions in Python most times follow the same logic as mathematical functions; they take one, or more inputs, and return one, or more, outputs.\n",
        "\n",
        "<img src=\"https://drive.google.com/uc?id=19yLYy3yxAEvpcB6dKXTWccd_y1S4n5x1\" width=400/>\n",
        "\n",
        "Like the illustration above, a function `f` takes an input (`x`) and *returns* an output (`y`).\n",
        "\n",
        "For returning an output, we use the keyword `return` followed by the result we wish the function to return.\n",
        "\n",
        "**Example**: write a function that takes as inputs two integers, and returns the sum of them:\n",
        "\n",
        "```python\n",
        "def add_num(a, b):\n",
        "    res = a + b\n",
        "    return res\n",
        "```\n",
        "\n",
        "The above simply *defines* a function. However, unless **called**, a function does nothing. The interpreter doesn't call a function by itself, the user has to call it with any inputs necessary and get the output(s) (if any).\n",
        "\n",
        "The example above is meaningless if we don't call the function:\n",
        "```python\n",
        "s = add_num(3,4)\n",
        "```\n",
        "As you can see here, calling a function means writing an equation (i.e., and assignment binding) where on the left-hand side we have a variable-placeholder for the result the function on the right-hand side returns.\n",
        "\n",
        "*When a function returns some value(s) after calling it, we need to assign them somewhere; otherwise we won't be able to see them*\n",
        "\n",
        "**Note:** We must respect argument order when invocating a function e.g., if you want to add 3 and 4, calling `add_num(3, 4)` will bind `a=3` and `b=4`.\n",
        "\n",
        "### Function keywords\n",
        "\n",
        "- `def` for *defining* the function\n",
        "- `return` returns an output. If no value is given in return, the function returns `None`\n",
        "  * If we want to directly print the returned value of a function, instead of first assigning it in a variable and then printing the variable, we can directly call the function from within print: `print(func(...))`.\n",
        "  * That basically assigns, under the hood, the returned value to the `object` input of function `print()`\n",
        "\n"
      ]
    },
    {
      "cell_type": "code",
      "source": [
        "def add_num(a, b):\n",
        "  if a > b:\n",
        "    print(\"a is greater than b\")\n",
        "\n",
        "s = add_num(3, 4)\n",
        "print(s)"
      ],
      "metadata": {
        "id": "qMSAObcUXbVE"
      },
      "execution_count": null,
      "outputs": []
    },
    {
      "cell_type": "markdown",
      "source": [
        "**Finger exercise**: Write a function named `isIn` that accepts two strings as arguments and returns `True` if the first string occurs anywhere in the second, and `False` otherwise."
      ],
      "metadata": {
        "id": "hChgjkmIEOtH"
      }
    },
    {
      "cell_type": "code",
      "execution_count": null,
      "metadata": {
        "id": "0tkEtH8q_O4l"
      },
      "outputs": [],
      "source": [
        "def isIn(str1, str2):\n",
        "    if str1 in str2:\n",
        "        return True\n",
        "    else:\n",
        "        return False\n",
        "\n",
        "print(isIn(\"Tech\", \"Business Technology\"))"
      ]
    },
    {
      "cell_type": "code",
      "source": [
        "def isIn(str1, str2):\n",
        "  flag = False\n",
        "  if str1 in str2:\n",
        "    flag = True\n",
        "  return flag\n",
        "\n",
        "a = \"Tech\"\n",
        "b = \"Business Technology\"\n",
        "\n",
        "print(isIn(a,b))"
      ],
      "metadata": {
        "id": "6YYad_OiMwya"
      },
      "execution_count": null,
      "outputs": []
    },
    {
      "cell_type": "markdown",
      "metadata": {
        "id": "3fKPWJLz_O4n"
      },
      "source": [
        "#### Passing values in a function by position or by keyword (or both)\n",
        "\n",
        "When passing values to input parameters of a function we call, there are two main options:\n",
        "- Passing values in a *positional* manner:\n",
        "    * **Example**: in the previous example, `isIn(a, b)` will assign `a` to function argument `str1` and `b` to `str2`\n",
        "    * Positional argument passing must respect the order the arguments in `def()`\n",
        "- Passing values using *keywords*:\n",
        "    * The values are passed in a function call by directly associating them to input parameters.\n",
        "    * This option does not need to respect the order of the input values, since we directly assign them to the input parameters we want.\n",
        "    * **Example**: for the previous example, you can call `isIn` also as:\n",
        "    ```python\n",
        "       isIn(str2=b, str1=a)\n",
        "    ```\n",
        "    * Use this option mostly for functions with a large number of arguments that can be of various types (e.g., `int`, `float`, `str`)\n",
        "- Using a combination of both methods:\n",
        "  * Using the same example as above:\n",
        "  ```python\n",
        "       isIn(a, str2=b)\n",
        "  ```\n",
        "  * **Be careful! It is not legal to have a keyworded input following a non-keyworded input!!** The following will produce an error:\n",
        "  ```python\n",
        "      isIn(str1=a, b)\n",
        "  ```\n",
        "\n",
        "\n",
        "#### Default-valued parameters\n",
        "\n",
        "It is not uncommon for function definitions to include input parameters that already take a default value.\n",
        "\n",
        "We have seen it many times so far, though we didn't notice:\n",
        "- Function `print()` takes 4 distinct input parameters, except the objects to be flushed on the screen. That is because keeping `sep=' '` and `end='\\n'` is convenient 99% of the time. However, when needed we assigned different values on them.\n",
        "- Many list methods also take default inputs. Method `pop()` by default removes the last element in a list. The reason is that method `pop()` has a single parameter that takes a default input `-1` (corresponding to the index of the *last* list element). If necessary, we can remove any other list element by giving an input ourselves (writing `L.pop(1)` will remove the second element of list `L`).\n",
        "\n",
        "If we need to, we can also use default-valued input parameters, allows users to call the function with fewer than the specified number of arguments. Let's see an example:"
      ]
    },
    {
      "cell_type": "code",
      "execution_count": null,
      "metadata": {
        "id": "BOexeM_b_O4p"
      },
      "outputs": [],
      "source": [
        "def printName(firstName, lastName, reverse = False):\n",
        "    if reverse:\n",
        "        print(lastName + ', ' + firstName)\n",
        "    else:\n",
        "        print(firstName, lastName)\n",
        "\n",
        "printName(\"John\", \"Smith\")\n",
        "printName(\"John\", \"Smith\", False)\n",
        "printName(\"John\", \"Smith\", reverse=True)"
      ]
    },
    {
      "cell_type": "markdown",
      "source": [
        "#------------------------------------------------------------------------------------------------------------------------------------------#"
      ],
      "metadata": {
        "id": "zI01vsedN7fg"
      }
    },
    {
      "cell_type": "markdown",
      "metadata": {
        "id": "bRNIXVmy_O4q"
      },
      "source": [
        "# Scoping\n",
        "\n",
        "Every object in Python works within a certain *scope*.\n",
        "\n",
        "A scope is a block of code where an object in Python remains relevant.\n",
        "- You can think of those blocks of code as **levels of indentation**\n",
        "\n",
        "*Namespaces* are used for that. A namespace is a mapping from names to objects.\n",
        "- uniquely identify all the objects inside a program.\n",
        " * Example: built-in names, such as names of functions (`abs()`, `min()`, `max()`, etc.)\n",
        "\n",
        "Scoping is organized in levels that are created during Python coding:\n",
        " 1. **Global scope**: refers to the objects available throughout the code execution since their inception (**no indentation**).\n",
        " 2. **Local scope**: refers to the local objects available in the current block of code, created either in a function definition, a conditional/iteration, etc.\n",
        "       * if there are nested blocks (blocks within blocks), then every nested block defines its own local level.\n",
        " 3. *Module-level scope*: refers to the global objects of the current module accessible in the program.\n",
        " 4. *Outermost scope*: refers to all the built-in names callable in the program. The objects in this scope are searched last to find the name referenced.\n",
        "\n",
        "**Note:** Local scope objects can be synced with global scope objects using keywords such as `global` (we won't work with that in this course).\n",
        "\n",
        "*Variables have a scope depending on the level they were defined.*\n",
        "\n",
        "Let's see an example:\n",
        "\n",
        "```python\n",
        "def f(x): #name x used as formal parameter\n",
        "    y = 1\n",
        "    x = x + y\n",
        "    print('x =', x)\n",
        "    return x\n",
        "\n",
        "x = 3\n",
        "y = 2\n",
        "z = f(x) #value of x used as actual parameter\n",
        "print('z =', z)\n",
        "print('x =', x)\n",
        "print('y =', y)\n",
        "```"
      ]
    },
    {
      "cell_type": "markdown",
      "metadata": {
        "id": "DbbBCWo0_O4r"
      },
      "source": [
        "In this example, we see a variable named `y` defined in a global level (`y=2`) and a same-name variable defined locally within function `f(x)`\n",
        "\n",
        "What do you believe the result from the `print` prompts will be? Let's find out:"
      ]
    },
    {
      "cell_type": "code",
      "execution_count": null,
      "metadata": {
        "id": "4vohjzkF_O4r",
        "colab": {
          "base_uri": "https://localhost:8080/"
        },
        "outputId": "c205c848-3ad8-499c-eba4-1e0e11c94361"
      },
      "outputs": [
        {
          "output_type": "stream",
          "name": "stdout",
          "text": [
            "x = 4\n",
            "z = 4\n",
            "x = 3\n",
            "y = 2\n"
          ]
        }
      ],
      "source": [
        "def f(x): #name x used as formal parameter\n",
        "    y = 1\n",
        "    x = x + y\n",
        "    print('x =', x)\n",
        "    return x\n",
        "\n",
        "x = 3\n",
        "y = 2\n",
        "z = f(x) #value of x used as actual parameter\n",
        "print('z =', z)\n",
        "print('x =', x)\n",
        "print('y =', y)"
      ]
    },
    {
      "cell_type": "markdown",
      "metadata": {
        "id": "G-iQizAj_O4s"
      },
      "source": [
        "As you can see, defining `y=2` in a global level does not affect the result of the `y = x + y` assignment within the body of function `f(x)`\n",
        "\n",
        "That is because variables defined within functions (*locally*) have a scope **ONLY** within this specific function.\n",
        "- In other words, `y=1` in `f(x)` creates a **new, local** variable that simply shares a name with the **global** variable `y=2`, but other than that they are two completely different objects. The same occurs between the global `x=3` and the local `x=x+y`.\n",
        "\n",
        "Locally defined variables that have same names as globally defined ones always take precedence for any commands given within the function (i.e., global variables, unless passed as function arguments, are like non-existent at all!)\n",
        "\n",
        "Next example will further illustrate scoping in more detail:\n",
        "\n",
        "```python\n",
        "def f(x):\n",
        "    def g():\n",
        "        x = 'abc'\n",
        "        print('x =', x)\n",
        "    def h():\n",
        "        z = x\n",
        "        print('z =', z)\n",
        "    x = x + 1\n",
        "    print('x =', x)\n",
        "    h()\n",
        "    g()\n",
        "    print('x =', x)\n",
        "    \n",
        "    return g\n",
        "\n",
        "x = 3\n",
        "z = f(x)\n",
        "print('x =', x)\n",
        "print('z =', z)\n",
        "z()\n",
        "```"
      ]
    },
    {
      "cell_type": "code",
      "execution_count": null,
      "metadata": {
        "id": "aqsRbZcU_O4t",
        "colab": {
          "base_uri": "https://localhost:8080/"
        },
        "outputId": "bcc8702d-c01e-426b-c34b-ce958e1c6511"
      },
      "outputs": [
        {
          "output_type": "stream",
          "name": "stdout",
          "text": [
            "x = 4\n",
            "z = 4\n",
            "x = abc\n",
            "x = 4\n",
            "x = 3\n",
            "z = <function f.<locals>.g at 0x7b19cb958c10>\n",
            "x = abc\n"
          ]
        }
      ],
      "source": [
        "def f(x):\n",
        "    def g():\n",
        "        x = 'abc'\n",
        "        print('x =', x)\n",
        "    def h():\n",
        "        z = x\n",
        "        print('z =', z)\n",
        "    x = x + 1\n",
        "    print('x =', x)\n",
        "    h()\n",
        "    g()\n",
        "    print('x =', x)\n",
        "\n",
        "    return g\n",
        "\n",
        "x = 3\n",
        "z = f(x)\n",
        "print('x =', x)\n",
        "print('z =', z)\n",
        "z()"
      ]
    },
    {
      "cell_type": "markdown",
      "metadata": {
        "id": "153uPcbK_O4t"
      },
      "source": [
        "<img src=\"https://drive.google.com/uc?id=1cLtYkkq_b6MDCgJh-WMi8fTZCKOx0qTT\" width=500/>\n"
      ]
    },
    {
      "cell_type": "markdown",
      "metadata": {
        "id": "w5YyrekL_O4u"
      },
      "source": [
        "Discerning between global and local levels when it comes to variables (especially when the same variable name is used) is very important!\n",
        "\n",
        "**Note:** When encountering a reference to a variable, the interpreter will first search within the current scope about that variable. If it will not find it there, it will move one scope layer *higher*, and will continue to do so until the variable is located, or an error is raised.\n",
        "\n",
        "**Note 2:** When encountering a reference to a variable, the interpreter searches for a variable definition *both before and after* said reference. If there is a variable with the same name defined within the same scope and before the reference, the interpreter will use this. If the definition follows the reference, we will get an error. It doesn't matter if a variable of the same name exists on a higher scoping layer.\n",
        "\n",
        "Next example highlights this importance:\n",
        "\n",
        "```python\n",
        "def f():\n",
        "    print(x)\n",
        "\n",
        "def g():\n",
        "    print(x)\n",
        "    x = 1\n",
        "\n",
        "x = 3\n",
        "f()\n",
        "x = 3\n",
        "g()\n",
        "```\n",
        "\n",
        "General rule:\n",
        "- When you are inside a function, you can access a variable defined outside\n",
        "- But, cannot modify a variable defined outside"
      ]
    },
    {
      "cell_type": "code",
      "execution_count": null,
      "metadata": {
        "id": "cn8vPu9R_O4u",
        "colab": {
          "base_uri": "https://localhost:8080/",
          "height": 349
        },
        "outputId": "ec35a6aa-8128-46f8-a762-61bddf5ed829"
      },
      "outputs": [
        {
          "output_type": "stream",
          "name": "stdout",
          "text": [
            "3\n"
          ]
        },
        {
          "output_type": "error",
          "ename": "UnboundLocalError",
          "evalue": "ignored",
          "traceback": [
            "\u001b[0;31m---------------------------------------------------------------------------\u001b[0m",
            "\u001b[0;31mUnboundLocalError\u001b[0m                         Traceback (most recent call last)",
            "\u001b[0;32m<ipython-input-7-06934e6b9d6e>\u001b[0m in \u001b[0;36m<cell line: 11>\u001b[0;34m()\u001b[0m\n\u001b[1;32m      9\u001b[0m \u001b[0mf\u001b[0m\u001b[0;34m(\u001b[0m\u001b[0;34m)\u001b[0m\u001b[0;34m\u001b[0m\u001b[0;34m\u001b[0m\u001b[0m\n\u001b[1;32m     10\u001b[0m \u001b[0mx\u001b[0m \u001b[0;34m=\u001b[0m \u001b[0;36m3\u001b[0m\u001b[0;34m\u001b[0m\u001b[0;34m\u001b[0m\u001b[0m\n\u001b[0;32m---> 11\u001b[0;31m \u001b[0mg\u001b[0m\u001b[0;34m(\u001b[0m\u001b[0;34m)\u001b[0m\u001b[0;34m\u001b[0m\u001b[0;34m\u001b[0m\u001b[0m\n\u001b[0m",
            "\u001b[0;32m<ipython-input-7-06934e6b9d6e>\u001b[0m in \u001b[0;36mg\u001b[0;34m()\u001b[0m\n\u001b[1;32m      3\u001b[0m \u001b[0;34m\u001b[0m\u001b[0m\n\u001b[1;32m      4\u001b[0m \u001b[0;32mdef\u001b[0m \u001b[0mg\u001b[0m\u001b[0;34m(\u001b[0m\u001b[0;34m)\u001b[0m\u001b[0;34m:\u001b[0m\u001b[0;34m\u001b[0m\u001b[0;34m\u001b[0m\u001b[0m\n\u001b[0;32m----> 5\u001b[0;31m     \u001b[0mprint\u001b[0m\u001b[0;34m(\u001b[0m\u001b[0mx\u001b[0m\u001b[0;34m)\u001b[0m\u001b[0;34m\u001b[0m\u001b[0;34m\u001b[0m\u001b[0m\n\u001b[0m\u001b[1;32m      6\u001b[0m     \u001b[0mx\u001b[0m \u001b[0;34m=\u001b[0m \u001b[0;36m1\u001b[0m\u001b[0;34m\u001b[0m\u001b[0;34m\u001b[0m\u001b[0m\n\u001b[1;32m      7\u001b[0m \u001b[0;34m\u001b[0m\u001b[0m\n",
            "\u001b[0;31mUnboundLocalError\u001b[0m: local variable 'x' referenced before assignment"
          ]
        }
      ],
      "source": [
        "def f():\n",
        "    print(x)\n",
        "\n",
        "def g():\n",
        "    print(x)\n",
        "    x = 1\n",
        "\n",
        "x = 3\n",
        "f()\n",
        "x = 3\n",
        "g()"
      ]
    },
    {
      "cell_type": "markdown",
      "metadata": {
        "id": "3wz4qPmY_O4v"
      },
      "source": [
        "### Functions do not have to return a result always\n",
        "\n",
        "Take a look at the example below:\n",
        "\n",
        "```python\n",
        "def is_even(i):\n",
        "    \"\"\"\n",
        "    Input: i, a positive int\n",
        "    Does not return anything\n",
        "    \"\"\"\n",
        "    i%2 == 0\n",
        "```\n",
        "\n",
        "As we see, there is no `return` statement given. Does this mean the function is not properly formatted? No.\n",
        "\n",
        "Unlike mathematical functions, programming functions do not have to return a result always.\n",
        "- In compiled, statically-defined languages like Java, C++, these functions are defined as **void**, in that they don't return anything.\n",
        "- Python being dynamically-typed ommits this; regardless if a function returns a result or not, it is defined the same way.\n",
        "\n",
        "In the case where a function does not return anything, a `None` value is actually returned.\n",
        "\n",
        "For that to happen, there are two ways:\n",
        "- `return` is there, no value follows:\n",
        "```python\n",
        "def is_even(i):\n",
        "    \"\"\"\n",
        "    Input: i, a positive int\n",
        "    Does not return anything\n",
        "    \"\"\"\n",
        "    i%2 == 0\n",
        "\n",
        "    return\n",
        "```\n",
        "- No `return`:\n",
        "```python\n",
        "def is_even(i):\n",
        "    \"\"\"\n",
        "    Input: i, a positive int\n",
        "    Does not return anything\n",
        "    \"\"\"\n",
        "    i%2 == 0\n",
        "```\n",
        "\n",
        "In both cases, calling the function and assigning it to a variable, the latter will be `None`\n",
        "```python\n",
        "s = is_even(3)\n",
        "print(s) # this will show None\n",
        "```\n",
        "\n",
        "Again, this happens **only** if whatever the function returns is assigned to variable\n",
        "- if the above function is simply called as `is_even(3)`, then we will see nothing on the screen.\n",
        "- if, on the other hand, we call `x = is_even(3)`, then `x = None`."
      ]
    },
    {
      "cell_type": "markdown",
      "metadata": {
        "id": "ezikzdU-_O4v"
      },
      "source": [
        "## Visualize the flow\n",
        "\n",
        "If you want to take a look to how your code jumps from line to line:\n",
        "\n",
        "http://www.pythontutor.com/"
      ]
    },
    {
      "cell_type": "markdown",
      "source": [
        "#------------------------------------------------------------------------------------------------------------------------------------------#"
      ],
      "metadata": {
        "id": "LeRIuS-iN_5A"
      }
    },
    {
      "cell_type": "markdown",
      "metadata": {
        "id": "G-rzjFJF_O4v"
      },
      "source": [
        "## Decomposition and Abstraction\n",
        "\n",
        "Functions help us create elements that make our code robust and easier to maintain.\n",
        "\n",
        "They manage that through **decomposition** and **abstraction**\n",
        "\n",
        "**Decomposition**: allows the code to be broken down into self-contained parts, able to reused in many instances with multiple sets of inputs.\n",
        "\n",
        "**Abstraction**: allows hiding details (Very important!!)\n",
        "- pieces of code work as black boxes, where we only care for the inputs given and the value(s) returned, and we do not need to know what's inside."
      ]
    },
    {
      "cell_type": "markdown",
      "source": [
        "#------------------------------------------------------------------------------------------------------------------------------------------#"
      ],
      "metadata": {
        "id": "tOIcl2-TOBwU"
      }
    },
    {
      "cell_type": "markdown",
      "metadata": {
        "id": "sUu9HI3R9ifm"
      },
      "source": [
        "# Functions as Objects\n",
        "\n",
        "In Python, functions are **first-class** objects\n",
        "\n",
        "This means that they:\n",
        " * have types.\n",
        " * can be given as inputs to other functions.\n",
        " * can be used in expressions.\n",
        " * can become part of various data structures like dictionaries.\n",
        "\n",
        "---------------------------------------------------------\n",
        "\n",
        "In Python, functions are treated like objects of any other type:\n",
        "- `int`, `list`, etc.\n",
        "\n",
        "They have types:\n",
        "- Expression `type(abs)` returns `<type 'built-in_function_or_method'>`\n",
        "\n",
        "They can appear in expressions:\n",
        "- e.g., the right-hand side of an assignment statement,\n",
        "- an argument to a function\n",
        "\n",
        "They can be elements of lists\n",
        "\n",
        "and more...\n",
        "\n",
        "Using functions as arguments allows a style of coding called *higher-order programming!*\n",
        "\n",
        "Let's take a look at the examples below:"
      ]
    },
    {
      "cell_type": "markdown",
      "metadata": {
        "id": "blR5fGkO9ifm"
      },
      "source": [
        "```python\n",
        "def applyToEach(L, f):\n",
        "    \"\"\"Assumes L is a list, f a function\n",
        "    Mutates L by replacing each element, e, of L by f(e)\"\"\"\n",
        "    for i in range(len(L)):\n",
        "        L[i] = f(L[i])\n",
        "\n",
        "L = [1, -2, 3.33]\n",
        "print('L =', L)\n",
        "print('Apply abs to each element of L.')\n",
        "applyToEach(L, abs)\n",
        "print('L =', L)\n",
        "print('Apply int to each element of', L)\n",
        "applyToEach(L, int)\n",
        "print('L =', L)\n",
        "```"
      ]
    },
    {
      "cell_type": "markdown",
      "metadata": {
        "id": "DtAGWy0P9ifm"
      },
      "source": [
        "The function `applyToEach` is a higher-order function because it has an argument that is itself a function.\n",
        "- The first time it is called, it mutates L by applying the unary built-in function `abs` to each element.\n",
        "- The second time it is called, it applies a type conversion to each element.\n",
        "\n",
        "Python native provides a built-in higher-order function `map` that does the same as `applyToEach` but more efficiently (Remember that we always opt-in for readily available functions, if they exist, rather than custom-made ones).\n",
        "\n",
        "Function `map` is used together with a `for` loop.\n",
        "\n",
        "In its simplest form:\n",
        "- First argument to `map` is a unary function (i.e., a function that takes only one parameter)\n",
        "- Second argument is any ordered collection of values suitable as arguments to the first argument.\n",
        "\n",
        "Works similarly to `range`, that is it returns one value/iteration in the loop."
      ]
    },
    {
      "cell_type": "code",
      "execution_count": null,
      "metadata": {
        "id": "z-dnzBUr9ifm"
      },
      "outputs": [],
      "source": [
        "for i in map(int, (2.9, 6.3, 4)):\n",
        "    print(i)"
      ]
    },
    {
      "cell_type": "markdown",
      "source": [
        "#------------------------------------------------------------------------------------------------------------------------------------------#"
      ],
      "metadata": {
        "id": "TH_FepmOWRtf"
      }
    },
    {
      "cell_type": "markdown",
      "source": [
        "## Top-level code environment\n",
        "\n",
        "`__main__` is the name of the environment where top-level code is run.\n",
        "\n",
        "“Top-level code” is the first user-specified Python module that starts running. It is “top-level” because it imports all other modules that the program needs. Sometimes “top-level code” is called an *entry point* to the application.\n",
        "\n",
        "As a result, a module can discover whether or not it is running in the top-level environment by checking its own `__name__`, which allows a common idiom for conditionally executing code when the module is not initialized from an import statement:\n",
        "```python\n",
        "if __name__ == '__main__':\n",
        "    # Execute when the module is not initialized from an import statement.\n",
        "    ...\n",
        "```\n",
        "\n",
        "Equivalently, *it allows you to execute code when the file runs as a script.*"
      ],
      "metadata": {
        "id": "oz1iHSyWWQ0e"
      }
    },
    {
      "cell_type": "markdown",
      "source": [
        "```python\n",
        "# echo.py\n",
        "\n",
        "def echo(text, repetitions=3):\n",
        "    \"\"\"Imitate a real-world echo.\"\"\"\n",
        "    echoed_text = \"\"\n",
        "    for i in range(repetitions, 0, -1):\n",
        "        echoed_text += f\"{text[-i:]}\\n\"\n",
        "    return f\"{echoed_text.lower()}.\"\n",
        "\n",
        "if __name__ == \"__main__\":\n",
        "    text = input(\"Yell something at a mountain: \")\n",
        "    print(echo(text))\n",
        "```"
      ],
      "metadata": {
        "id": "eHcGAICeWZNs"
      }
    },
    {
      "cell_type": "markdown",
      "source": [
        "`if __name__ == \"__main__\"` is used to protect users from accidentally executing code from another module."
      ],
      "metadata": {
        "id": "DdHW2LaLXUnG"
      }
    },
    {
      "cell_type": "code",
      "source": [
        "def fill(l):\n",
        "  for i in range(10):\n",
        "    l.append(i)\n",
        "    if i%2 ==0:\n",
        "      l.pop()\n",
        "  print(l)"
      ],
      "metadata": {
        "id": "tjim4y9d5W_u"
      },
      "execution_count": null,
      "outputs": []
    },
    {
      "cell_type": "code",
      "source": [
        "aList = []\n",
        "\n",
        "for i in range (10):\n",
        "  aList.append(i)\n",
        "  if i%2 == 0:\n",
        "    aList.pop()\n",
        "\n",
        "print(aList)\n",
        "\n",
        "aList= []\n",
        "fill(aList)"
      ],
      "metadata": {
        "id": "gq7AUPNQXhmA",
        "colab": {
          "base_uri": "https://localhost:8080/"
        },
        "outputId": "a12a6cd9-b799-4278-b3bf-243a137b2dcc"
      },
      "execution_count": null,
      "outputs": [
        {
          "output_type": "stream",
          "name": "stdout",
          "text": [
            "[1, 3, 5, 7, 9]\n",
            "[1, 3, 5, 7, 9]\n"
          ]
        }
      ]
    },
    {
      "cell_type": "code",
      "source": [
        "aList= []\n",
        "fill(aList)"
      ],
      "metadata": {
        "colab": {
          "base_uri": "https://localhost:8080/"
        },
        "id": "iwfcv1Ys4EFh",
        "outputId": "f2d3efe4-36da-47a2-90a4-8b1269493f3f"
      },
      "execution_count": null,
      "outputs": [
        {
          "output_type": "stream",
          "name": "stdout",
          "text": [
            "[1, 3, 5, 7, 9]\n"
          ]
        }
      ]
    },
    {
      "cell_type": "code",
      "source": [
        "def fill():\n",
        "  l = []\n",
        "\n",
        "  for i in range (10):\n",
        "    l.append(i)\n",
        "    if i%2 == 0:\n",
        "      l.pop()\n",
        "  print(l)\n",
        "fill()"
      ],
      "metadata": {
        "colab": {
          "base_uri": "https://localhost:8080/"
        },
        "id": "JLkgaTncEGs1",
        "outputId": "d216719c-5a36-4107-ad4f-ca04deb493d8"
      },
      "execution_count": null,
      "outputs": [
        {
          "output_type": "stream",
          "name": "stdout",
          "text": [
            "[1, 3, 5, 7, 9]\n"
          ]
        }
      ]
    },
    {
      "cell_type": "code",
      "source": [
        "# This one makes a lot more sense than the one below.\n",
        "def greeting(n):\n",
        "  print(f'Hello {n}!')\n",
        "\n",
        "name= input('Enter a name:')\n",
        "greeting(name)"
      ],
      "metadata": {
        "colab": {
          "base_uri": "https://localhost:8080/"
        },
        "id": "E7zObNF6911G",
        "outputId": "85ffd9b4-f421-45ed-90d5-ef7ffd9eaa3d"
      },
      "execution_count": null,
      "outputs": [
        {
          "output_type": "stream",
          "name": "stdout",
          "text": [
            "Enter a name:Zachary\n",
            "Hello Zachary!\n"
          ]
        }
      ]
    },
    {
      "cell_type": "code",
      "source": [
        "def greeting(n):\n",
        "  return f'Hello {n}!'\n",
        "\n",
        "name= input('Enter a name:')\n",
        "message = greeting(name)\n",
        "print(message)"
      ],
      "metadata": {
        "colab": {
          "base_uri": "https://localhost:8080/"
        },
        "id": "UHDb6gkmBM-T",
        "outputId": "59d9b86e-9284-4ba2-87cb-0ac8b5094f52"
      },
      "execution_count": null,
      "outputs": [
        {
          "output_type": "stream",
          "name": "stdout",
          "text": [
            "Enter a name:Zachary\n",
            "Hello Zachary!\n"
          ]
        }
      ]
    },
    {
      "cell_type": "code",
      "source": [
        "def add_num(a, b):\n",
        " bob = a + b\n",
        " bob_sq = bob** 2\n",
        " return bob, bob_sq\n",
        "\n",
        "x = 5\n",
        "y = 6\n",
        "c, c_sq= add_num(x,y)\n",
        "print(c_sq) # can choose which one u want to print individually by defining both or use tuples"
      ],
      "metadata": {
        "colab": {
          "base_uri": "https://localhost:8080/"
        },
        "id": "XIzCqNfBBlso",
        "outputId": "04cee30c-ad32-41c5-9d03-e759f45cafcd"
      },
      "execution_count": null,
      "outputs": [
        {
          "output_type": "stream",
          "name": "stdout",
          "text": [
            "121\n"
          ]
        }
      ]
    },
    {
      "cell_type": "code",
      "source": [
        "def add_num(a, b):\n",
        " bob = a + b\n",
        " bob_sq = bob** 2\n",
        " return bob, bob_sq\n",
        "\n",
        "x = 5\n",
        "y = 6\n",
        "c= add_num(x,y)\n",
        "print(c)\n",
        "print(c[1]) # can use a tuple [0] or [1] etc. to get the output of choice"
      ],
      "metadata": {
        "colab": {
          "base_uri": "https://localhost:8080/"
        },
        "id": "GdQ14YHTGbY-",
        "outputId": "627ee196-6e98-4ff6-dc1e-2063f4a67192"
      },
      "execution_count": null,
      "outputs": [
        {
          "output_type": "stream",
          "name": "stdout",
          "text": [
            "(11, 121)\n",
            "121\n"
          ]
        }
      ]
    },
    {
      "cell_type": "code",
      "source": [
        "def example():\n",
        "  print('This is an example')\n",
        "  return #none means there is no return statement. also shows up without the word return in this example.\n",
        "\n",
        "name = example()\n",
        "print(name)"
      ],
      "metadata": {
        "colab": {
          "base_uri": "https://localhost:8080/"
        },
        "id": "ulQ0iMem6FDI",
        "outputId": "dd62c2b0-5205-4313-a981-b7b9400da7df"
      },
      "execution_count": null,
      "outputs": [
        {
          "output_type": "stream",
          "name": "stdout",
          "text": [
            "This is an example\n",
            "None\n"
          ]
        }
      ]
    },
    {
      "cell_type": "code",
      "source": [
        "def countdown(n):\n",
        "  for i in range(n,-1,-1):\n",
        "    print(i)\n",
        "\n",
        "countdown(5)"
      ],
      "metadata": {
        "id": "k9rdrbho6RRS",
        "colab": {
          "base_uri": "https://localhost:8080/"
        },
        "outputId": "115e3694-d033-4784-de04-482d9ef0924a"
      },
      "execution_count": null,
      "outputs": [
        {
          "output_type": "stream",
          "name": "stdout",
          "text": [
            "5\n",
            "4\n",
            "3\n",
            "2\n",
            "1\n",
            "0\n"
          ]
        }
      ]
    },
    {
      "cell_type": "code",
      "source": [
        "def recursive_countdown(n):\n",
        "  if n== 0:\n",
        "    print(0)\n",
        "  else:\n",
        "    print(n)\n",
        "    recursive_countdown(n-1)\n",
        "\n",
        "recursive_countdown(5)"
      ],
      "metadata": {
        "colab": {
          "base_uri": "https://localhost:8080/"
        },
        "id": "t1TbkwKiAahj",
        "outputId": "09128ef8-542f-487d-c0af-39863768ab18"
      },
      "execution_count": null,
      "outputs": [
        {
          "output_type": "stream",
          "name": "stdout",
          "text": [
            "5\n",
            "4\n",
            "3\n",
            "2\n",
            "1\n",
            "0\n"
          ]
        }
      ]
    },
    {
      "cell_type": "code",
      "source": [
        "def recursive_countdown(n):\n",
        "  if n> 0:\n",
        "    print(n)\n",
        "    recursive_countdown(n-1)\n",
        "  else:\n",
        "    print(0)\n",
        "\n",
        "recursive_countdown(5)"
      ],
      "metadata": {
        "colab": {
          "base_uri": "https://localhost:8080/"
        },
        "id": "fnVqho2kDYJL",
        "outputId": "2bb689fd-d869-4be8-e5c6-c9959700d132"
      },
      "execution_count": null,
      "outputs": [
        {
          "output_type": "stream",
          "name": "stdout",
          "text": [
            "5\n",
            "4\n",
            "3\n",
            "2\n",
            "1\n",
            "0\n"
          ]
        }
      ]
    },
    {
      "cell_type": "code",
      "source": [
        "def summation(n):\n",
        "  s = 0\n",
        "  while n>= 0:\n",
        "    s = s+n\n",
        "    n = n-1\n",
        "\n",
        "  return s\n",
        "\n",
        "summation(6)"
      ],
      "metadata": {
        "colab": {
          "base_uri": "https://localhost:8080/"
        },
        "id": "XVEFuBADD-Jh",
        "outputId": "84367dbf-270e-4bf2-cad6-d0f81f9b65e0"
      },
      "execution_count": null,
      "outputs": [
        {
          "output_type": "execute_result",
          "data": {
            "text/plain": [
              "21"
            ]
          },
          "metadata": {},
          "execution_count": 55
        }
      ]
    },
    {
      "cell_type": "code",
      "source": [
        "def recursive_summation(n):\n",
        "  if n== 0:\n",
        "    return(0)\n",
        "\n",
        "  else:\n",
        "    return n + recursive_summation(n-1)\n",
        "\n",
        "recursive_summation(3)\n"
      ],
      "metadata": {
        "colab": {
          "base_uri": "https://localhost:8080/"
        },
        "id": "4mga8X_NHpNQ",
        "outputId": "c70d30c4-097d-4467-9f9a-609cc462fef5"
      },
      "execution_count": null,
      "outputs": [
        {
          "output_type": "execute_result",
          "data": {
            "text/plain": [
              "6"
            ]
          },
          "metadata": {},
          "execution_count": 56
        }
      ]
    },
    {
      "cell_type": "code",
      "source": [
        "def factR(n):\n",
        "    if n == 0:\n",
        "        return 1\n",
        "    else:\n",
        "        return n * factR(n-1)\n",
        "\n",
        "factR(5)\n"
      ],
      "metadata": {
        "colab": {
          "base_uri": "https://localhost:8080/"
        },
        "id": "Tr4q54v5IvG5",
        "outputId": "185ef811-38b7-45fc-a1cd-1158a68cfc78"
      },
      "execution_count": null,
      "outputs": [
        {
          "output_type": "execute_result",
          "data": {
            "text/plain": [
              "120"
            ]
          },
          "metadata": {},
          "execution_count": 53
        }
      ]
    },
    {
      "cell_type": "code",
      "source": [
        "def factR(n):\n",
        "  if n> 0:\n",
        "    return n * factR(n-1)\n",
        "  else:\n",
        "    return 1\n",
        "\n",
        "factR(5)"
      ],
      "metadata": {
        "colab": {
          "base_uri": "https://localhost:8080/"
        },
        "id": "g6Pd80duJuaB",
        "outputId": "3df383e6-b0fb-4df9-9ca9-c0eba7aa510c"
      },
      "execution_count": null,
      "outputs": [
        {
          "output_type": "execute_result",
          "data": {
            "text/plain": [
              "120"
            ]
          },
          "metadata": {},
          "execution_count": 54
        }
      ]
    },
    {
      "cell_type": "code",
      "source": [
        "def fibR(n):\n",
        "    if n == 0 or n == 1:\n",
        "        return 1\n",
        "    else:\n",
        "        return fibR(n - 1) + fibR(n - 2)\n",
        "\n",
        "for i in range(8):\n",
        "  print(fibR(i), end= ',')\n"
      ],
      "metadata": {
        "colab": {
          "base_uri": "https://localhost:8080/"
        },
        "id": "sin4XNOHLoDR",
        "outputId": "3c7d736c-a2ba-43cc-d7bb-e1c48c0086bf"
      },
      "execution_count": 1,
      "outputs": [
        {
          "output_type": "stream",
          "name": "stdout",
          "text": [
            "1,1,2,3,5,8,13,21,"
          ]
        }
      ]
    },
    {
      "cell_type": "code",
      "source": [
        "def mirrorString(s):\n",
        "  if len(s)==1:\n",
        "    return s\n",
        "  else:\n",
        "    return s[-1] + mirrorString(s[:-1])\n",
        "\n",
        "mirrorString('Goodbye')\n",
        "\n",
        "\n",
        "\n"
      ],
      "metadata": {
        "colab": {
          "base_uri": "https://localhost:8080/",
          "height": 35
        },
        "id": "VQ6G7bWiSH0K",
        "outputId": "99ae0ce5-6cc7-4325-ead7-7182a2329059"
      },
      "execution_count": 40,
      "outputs": [
        {
          "output_type": "execute_result",
          "data": {
            "text/plain": [
              "'eybdooG'"
            ],
            "application/vnd.google.colaboratory.intrinsic+json": {
              "type": "string"
            }
          },
          "metadata": {},
          "execution_count": 40
        }
      ]
    },
    {
      "cell_type": "code",
      "source": [
        "def quickSort(alist):\n",
        "  if len(alist) <2:\n",
        "    return alist\n",
        "  else:\n",
        "    low, same, high = [], [], []\n",
        "\n",
        "    pivotIndex = len(alist)// 2 #np.random.randint(0,len(alist)-1)\n",
        "\n",
        "    for item in alist:\n",
        "      if item < alist[pivotIndex]:\n",
        "        low.append(item)\n",
        "      elif item == alist[pivotIndex]:\n",
        "        same.append(item)\n",
        "      else:\n",
        "        high.append(item)\n",
        "\n",
        "    return quickSort(low) + same +quickSort(high)\n",
        "\n",
        "quickSort([8,2,5,3,6,1])\n"
      ],
      "metadata": {
        "colab": {
          "base_uri": "https://localhost:8080/"
        },
        "id": "uXTRe3MNbnGT",
        "outputId": "9b7375a6-6785-4f78-d20d-383b741ed56d"
      },
      "execution_count": 47,
      "outputs": [
        {
          "output_type": "execute_result",
          "data": {
            "text/plain": [
              "[1, 2, 3, 5, 6, 8]"
            ]
          },
          "metadata": {},
          "execution_count": 47
        }
      ]
    }
  ],
  "metadata": {
    "kernelspec": {
      "display_name": "Python 3 (ipykernel)",
      "language": "python",
      "name": "python3"
    },
    "language_info": {
      "codemirror_mode": {
        "name": "ipython",
        "version": 3
      },
      "file_extension": ".py",
      "mimetype": "text/x-python",
      "name": "python",
      "nbconvert_exporter": "python",
      "pygments_lexer": "ipython3",
      "version": "3.8.2"
    },
    "colab": {
      "provenance": [],
      "include_colab_link": true
    }
  },
  "nbformat": 4,
  "nbformat_minor": 0
}