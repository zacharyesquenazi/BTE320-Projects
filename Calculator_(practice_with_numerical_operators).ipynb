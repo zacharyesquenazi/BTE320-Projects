{
  "nbformat": 4,
  "nbformat_minor": 0,
  "metadata": {
    "colab": {
      "provenance": [],
      "authorship_tag": "ABX9TyNSfAjczpoccCfs9bYvvubV",
      "include_colab_link": true
    },
    "kernelspec": {
      "name": "python3",
      "display_name": "Python 3"
    },
    "language_info": {
      "name": "python"
    }
  },
  "cells": [
    {
      "cell_type": "markdown",
      "metadata": {
        "id": "view-in-github",
        "colab_type": "text"
      },
      "source": [
        "<a href=\"https://colab.research.google.com/github/zacharyesquenazi/BTE320-Projects/blob/main/Calculator_(practice_with_numerical_operators).ipynb\" target=\"_parent\"><img src=\"https://colab.research.google.com/assets/colab-badge.svg\" alt=\"Open In Colab\"/></a>"
      ]
    },
    {
      "cell_type": "code",
      "execution_count": null,
      "metadata": {
        "colab": {
          "base_uri": "https://localhost:8080/"
        },
        "id": "fvKsst_7iSdU",
        "outputId": "a74c03bf-90e6-439b-bc41-e67971699ac3"
      },
      "outputs": [
        {
          "output_type": "stream",
          "name": "stdout",
          "text": [
            "Enter first number: 11\n",
            "Enter operator (+, -, *, /) or 'exit' to quit: +\n",
            "Enter second number: 75\n",
            "11.0 + 75.0 = 86.0\n"
          ]
        }
      ],
      "source": [
        "  while True:\n",
        "        num1 = float(input(\"Enter first number: \"))\n",
        "        operator = input(\"Enter operator (+, -, *, /) or 'exit' to quit: \")\n",
        "\n",
        "        num2 = float(input(\"Enter second number: \"))\n",
        "\n",
        "        if operator == '+':\n",
        "            result = num1 + num2\n",
        "        elif operator == '-':\n",
        "            result = num1 - num2\n",
        "        elif operator == '*':\n",
        "            result = num1 * num2\n",
        "        elif operator == '/':\n",
        "                result = num1 / num2\n",
        "\n",
        "        else:\n",
        "            print(\"Invalid operator\")\n",
        "\n",
        "\n",
        "        print(f\"{num1} {operator} {num2} = {result}\")"
      ]
    },
    {
      "cell_type": "code",
      "source": [
        "while True:\n",
        "    operator = input(\"Enter operator (+, -, *, /):\")\n",
        "\n",
        "    if operator == 'break':\n",
        "        print('Goodbye!')\n",
        "        break\n",
        "\n",
        "    num1 = float(input(\"Enter first number: \"))\n",
        "    num2 = float(input(\"Enter second number: \"))\n",
        "\n",
        "    if operator == \"+\":\n",
        "        print(f\"{num1} + {num2} = {num1 + num2}\")\n",
        "    elif operator == \"-\":\n",
        "        print(f\"{num1} - {num2} = {num1 - num2}\")\n",
        "    elif operator == \"/\":\n",
        "        print(f\"{num1} / {num2} = {num1 / num2}\")\n",
        "    elif operator == \"*\":\n",
        "        print(f\"{num1} * {num2} = {num1 * num2}\")\n",
        "    elif operator == \"**\":\n",
        "        print(f\"{num1} ** {num2} = {num1 ** num2}\")\n",
        "    elif operator == \"//\":\n",
        "        print(f\"{num1} // {num2} = {num1 // num2}\")\n",
        "    elif operator == \"%\":\n",
        "        print(f\"{num1} modulo {num2} = {num1 % num2}\")\n",
        "    else:\n",
        "        print(f\"Invalid operator: '{operator}'\")\n",
        "\n",
        "    continue"
      ],
      "metadata": {
        "colab": {
          "base_uri": "https://localhost:8080/"
        },
        "id": "9JYHND4Rieqh",
        "outputId": "94ad9a03-2b04-4e46-f794-b5ba1a7aa45c"
      },
      "execution_count": 4,
      "outputs": [
        {
          "output_type": "stream",
          "name": "stdout",
          "text": [
            "Enter operator (+, -, *, /):+\n",
            "Enter first number: 11\n",
            "Enter second number: 75\n",
            "11.0 + 75.0 = 86.0\n",
            "Enter operator (+, -, *, /):break\n",
            "Goodbye!\n"
          ]
        }
      ]
    }
  ]
}