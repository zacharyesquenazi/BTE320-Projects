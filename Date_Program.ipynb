{
  "nbformat": 4,
  "nbformat_minor": 0,
  "metadata": {
    "colab": {
      "provenance": [],
      "authorship_tag": "ABX9TyMZ+a8VWOyPV4DeE+GjXq1/",
      "include_colab_link": true
    },
    "kernelspec": {
      "name": "python3",
      "display_name": "Python 3"
    },
    "language_info": {
      "name": "python"
    }
  },
  "cells": [
    {
      "cell_type": "markdown",
      "metadata": {
        "id": "view-in-github",
        "colab_type": "text"
      },
      "source": [
        "<a href=\"https://colab.research.google.com/github/zacharyesquenazi/BTE320-Projects/blob/main/Date_Program.ipynb\" target=\"_parent\"><img src=\"https://colab.research.google.com/assets/colab-badge.svg\" alt=\"Open In Colab\"/></a>"
      ]
    },
    {
      "cell_type": "code",
      "execution_count": 1,
      "metadata": {
        "colab": {
          "base_uri": "https://localhost:8080/"
        },
        "id": "n9Uj7kTllavD",
        "outputId": "e5cc8fd5-47e1-48f9-f528-7c7b4d8ce480"
      },
      "outputs": [
        {
          "output_type": "stream",
          "name": "stdout",
          "text": [
            "Enter a Date MM/DD/YYYY : 05/01/2002\n",
            " The month is: 05\n",
            " The day is: 01\n",
            " The year is: 2002\n"
          ]
        }
      ],
      "source": [
        "# Write a program that takes as input from the keyboard a string that corresponds to the # a date (e.g., 02/20/2024) in the format: MM/DD/YYYY\n",
        "\n",
        "date = input('Enter a Date MM/DD/YYYY : ')\n",
        "\n",
        "print(f' The month is: {date[:2]}')\n",
        "print(f' The day is: {date[3:5]}')\n",
        "print(f' The year is: {date[6:]}')\n"
      ]
    }
  ]
}